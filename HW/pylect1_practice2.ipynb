{
 "cells": [
  {
   "cell_type": "markdown",
   "metadata": {},
   "source": [
    "# 과제0 [필수 아님]: 파일 저장 및 읽기\n",
    "\n",
    "1.\t자연수값 N을 input 으로 이용해서 입력 받은 다음 random 정수 N개를 생성하고 그 정수 값들을 다음 파일 이름으로 CSV 파일로 저장하는 코드를 작성하세요. (파일 이름은 random_N.csv 라고 쓰는데 여기서  N은 숫자로 바꾸어서 저장합니다. 가령 N 이 10 이면 random_10.csv 로 저장합니다). 잘모르겠으면 chatgpt를 사용해도 됨."
   ]
  },
  {
   "cell_type": "code",
   "execution_count": null,
   "metadata": {},
   "outputs": [],
   "source": []
  },
  {
   "cell_type": "markdown",
   "metadata": {},
   "source": [
    "2.\tCSV 파일 이름을 넣으면 그 파일을 읽어서 각 수의 합과 숫자의 개수를 계산하는 함수를 작성하시오. y,count=sum_any_count_file( filename )"
   ]
  },
  {
   "cell_type": "code",
   "execution_count": null,
   "metadata": {},
   "outputs": [],
   "source": []
  },
  {
   "cell_type": "markdown",
   "metadata": {},
   "source": [
    "3.\tCSV 파일 이름을 넣으면 그 파일을 읽어서 숫자를 읽어 들이고 숫자  multnumber를 곱한 다음 새로운 파일로 저장하는 함수를 만드시오. change_file( infile, multnumber, outfilename )"
   ]
  },
  {
   "cell_type": "code",
   "execution_count": null,
   "metadata": {},
   "outputs": [],
   "source": []
  },
  {
   "cell_type": "markdown",
   "metadata": {},
   "source": [
    "## 과제1: 가위-바위-보 게임 만들기\n",
    "\n",
    "input, random 을 이용하여 가위 바위 보 수행하는 게임을 만드세요. score=gawibawibo(N)"
   ]
  },
  {
   "cell_type": "code",
   "execution_count": null,
   "metadata": {},
   "outputs": [],
   "source": []
  },
  {
   "cell_type": "markdown",
   "metadata": {},
   "source": [
    "# 과제2: 클래스 활용\n",
    "1.\t다음 animal, dog, cat 의 클래스를 설계하시오"
   ]
  },
  {
   "cell_type": "code",
   "execution_count": null,
   "metadata": {},
   "outputs": [],
   "source": []
  },
  {
   "cell_type": "markdown",
   "metadata": {},
   "source": [
    "2.\tanimal 이 가지는 멤버 변수로 name, voice, position 을 가지고 멤버 함수로 bark(), runto(position) \n",
    "dog과  cat 클래스는 animal을 상속 받아서 추가적으로 foodamount, color 를 멤버 변수로 가지고 추가적인 멤버 함수로는 eat(food), change_color(color)를 정의하세요. eat(food)는 food 양만큼 축적해서 지금까지 먹은 foodamount 를 알 수 있게 하시오. "
   ]
  },
  {
   "cell_type": "code",
   "execution_count": null,
   "metadata": {},
   "outputs": [],
   "source": []
  },
  {
   "cell_type": "markdown",
   "metadata": {},
   "source": [
    "3.\tanimal 의 name,voice, position 을 호출할 때 초기화 하는 코드를 __init__ 를 이용하여 작성하시오. dog, cat 클래스도 이러한 초기화 코드를 작성하시오."
   ]
  },
  {
   "cell_type": "code",
   "execution_count": null,
   "metadata": {},
   "outputs": [],
   "source": []
  },
  {
   "cell_type": "markdown",
   "metadata": {},
   "source": [
    "4.\tdog 과 cat 클래스를 기반으로 자신이 원하는 만큼의 객체를 형성하여 객체의 속성을 변화 시키고 함수를 호출하는 코드를 작성하시오. "
   ]
  },
  {
   "cell_type": "code",
   "execution_count": null,
   "metadata": {},
   "outputs": [],
   "source": []
  },
  {
   "cell_type": "markdown",
   "metadata": {},
   "source": [
    "[참고. 필수 아님]5.\tdog 클래스에서 연산자 오버로딩으로 + 를 __add__ 를 이용하여 정의하고 각 강아지의 먹이 양의 합을 가지는 새로운 강아지를 만들어 내는 코드를 작성하시오."
   ]
  },
  {
   "cell_type": "code",
   "execution_count": null,
   "metadata": {},
   "outputs": [],
   "source": []
  }
 ],
 "metadata": {
  "kernelspec": {
   "display_name": "Python 3",
   "language": "python",
   "name": "python3"
  },
  "language_info": {
   "codemirror_mode": {
    "name": "ipython",
    "version": 3
   },
   "file_extension": ".py",
   "mimetype": "text/x-python",
   "name": "python",
   "nbconvert_exporter": "python",
   "pygments_lexer": "ipython3",
   "version": "3.8.3"
  }
 },
 "nbformat": 4,
 "nbformat_minor": 4
}

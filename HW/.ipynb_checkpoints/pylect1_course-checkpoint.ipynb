{
 "cells": [
  {
   "cell_type": "markdown",
   "id": "d58a0445-c4e2-444a-bf0f-82c1c277886a",
   "metadata": {},
   "source": [
    "## My first python code."
   ]
  },
  {
   "cell_type": "code",
   "execution_count": null,
   "id": "ed64bd30-f824-4b7b-a5bb-e1b43e5259eb",
   "metadata": {},
   "outputs": [],
   "source": [
    "print(\"hello!\")"
   ]
  },
  {
   "cell_type": "code",
   "execution_count": null,
   "id": "361eb811-269e-401a-90e7-65b513004ef6",
   "metadata": {},
   "outputs": [],
   "source": [
    "for i in [0,1,2,3,4]:\n",
    "    print(i)"
   ]
  },
  {
   "cell_type": "code",
   "execution_count": null,
   "id": "4e35c6c7-ca91-4d8c-b9a1-462525d696d4",
   "metadata": {},
   "outputs": [],
   "source": [
    "data = ['환자1','환자2','환자3','환자4']\n",
    "for subj in data:\n",
    "    print(subj)"
   ]
  },
  {
   "cell_type": "code",
   "execution_count": null,
   "id": "ee9cd649-7ecd-4887-bd10-f8300f6eb663",
   "metadata": {},
   "outputs": [],
   "source": [
    "for i in [0,1,2,3]:\n",
    "    print(i,data[i])"
   ]
  },
  {
   "cell_type": "code",
   "execution_count": null,
   "id": "7db2b9a3-6200-4fc5-8164-e9c9a616251a",
   "metadata": {},
   "outputs": [],
   "source": [
    "for i in [0,1,2,3]:\n",
    "    if i<2:\n",
    "        print(data[i],'is A 유형.')\n",
    "    else:\n",
    "        print (data[i],\"is B 유형.\")\n",
    "print (\"Great!\")"
   ]
  },
  {
   "cell_type": "code",
   "execution_count": null,
   "id": "0fe72686-81e7-42e6-96e5-2f6a18c4b668",
   "metadata": {},
   "outputs": [],
   "source": [
    "for i in range(0,4):\n",
    "    print(i,data[i])"
   ]
  },
  {
   "cell_type": "code",
   "execution_count": null,
   "id": "3970c147-e486-4e56-9a54-750c9f70a273",
   "metadata": {},
   "outputs": [],
   "source": [
    "for i in range(0,4):\n",
    "    print('환자',i+1)    "
   ]
  },
  {
   "cell_type": "code",
   "execution_count": null,
   "id": "a639f40e-58fc-438e-990e-af9e5f5af597",
   "metadata": {},
   "outputs": [],
   "source": [
    "for i in range(5):\n",
    "    if i%2 == 0:\n",
    "        print (i,'is even.')\n",
    "    else:\n",
    "        print (i,\"is odd.\")\n",
    "print (\"Great!\")"
   ]
  },
  {
   "cell_type": "markdown",
   "id": "3595c092-0155-4c36-b204-535c79a8ecda",
   "metadata": {},
   "source": [
    "## 변수"
   ]
  },
  {
   "cell_type": "code",
   "execution_count": null,
   "id": "5c0e01e5-a7b7-4b2b-a317-f1223d963934",
   "metadata": {},
   "outputs": [],
   "source": [
    "A = ['one', 2, 'three', 'banana']\n",
    "print(A)\n",
    "print(A[2])"
   ]
  },
  {
   "cell_type": "code",
   "execution_count": null,
   "id": "35543d9b-9e3c-4370-b487-98703437ccd4",
   "metadata": {},
   "outputs": [],
   "source": [
    "A[2]='four'\n",
    "print('변경 후:',A[2])\n",
    "print(A)"
   ]
  },
  {
   "cell_type": "code",
   "execution_count": null,
   "id": "bff83034-57b8-44c3-9be8-ee547c97282f",
   "metadata": {},
   "outputs": [],
   "source": [
    "B = ('one', 2, 'three', 'banana')\n",
    "print(B[2])"
   ]
  },
  {
   "cell_type": "code",
   "execution_count": null,
   "id": "44eca7f2-13ca-4e8d-bfa1-9bb8968b75de",
   "metadata": {},
   "outputs": [],
   "source": [
    "#B[2]='four'"
   ]
  },
  {
   "cell_type": "code",
   "execution_count": null,
   "id": "469cfaf1-423e-4549-8ea8-7c74040b39d8",
   "metadata": {},
   "outputs": [],
   "source": [
    "C = {} # create dictionary\n",
    "C = {'lat': 40.20547, 'lon': -74.76322}\n",
    "C['lat'] = 40.3054\n",
    "print(C['lat'])"
   ]
  },
  {
   "cell_type": "code",
   "execution_count": null,
   "id": "8c8c9795-33bc-49e2-811a-6900e9f2bd65",
   "metadata": {},
   "outputs": [],
   "source": [
    "C['lon']=-50; #변경 가능함\n",
    "print(C)"
   ]
  },
  {
   "cell_type": "markdown",
   "id": "6f5c4934-bf60-4d05-ab31-8c7982298055",
   "metadata": {},
   "source": [
    "## 숫자 리스트"
   ]
  },
  {
   "cell_type": "code",
   "execution_count": null,
   "id": "4d10d53c-acfc-4fda-86c9-e0305c4fd488",
   "metadata": {},
   "outputs": [],
   "source": [
    "a=[5,1,3,2,4]\n",
    "b=a+[4,5,6,1,2]\n",
    "print(b)"
   ]
  },
  {
   "cell_type": "code",
   "execution_count": null,
   "id": "16e9824f-6aa2-435c-9919-f17eaf45aea5",
   "metadata": {},
   "outputs": [],
   "source": [
    "a[3]"
   ]
  },
  {
   "cell_type": "code",
   "execution_count": null,
   "id": "ab9c6792-9de4-4bec-aa0e-957992b1c653",
   "metadata": {},
   "outputs": [],
   "source": [
    "nums = [10, 20, 30, 40, 50, 60, 70, 80, 90]\n",
    "print(nums)\n",
    "some_nums = nums[2:7]\n",
    "print(some_nums)\n",
    "print(nums[0:4])"
   ]
  },
  {
   "cell_type": "code",
   "execution_count": null,
   "id": "a93c9e3f-4dd9-4b95-a679-806450e61367",
   "metadata": {},
   "outputs": [],
   "source": [
    "print(nums[:5]) #equivalent to nums[0:5]\n",
    "print(nums[-3:])\n",
    "print(nums[-5:-1])\n",
    "print(nums[:-2])"
   ]
  },
  {
   "cell_type": "code",
   "execution_count": null,
   "id": "48e757eb-95b1-4cef-90e1-1d8506ca4cf9",
   "metadata": {},
   "outputs": [],
   "source": [
    "print(nums[::2])\n",
    "print(nums[1::2]) #step 2\n",
    "print(nums[1:-3:2]) #step 2\n",
    "print(nums[::-1]) #reverse\n",
    "print(nums[-2::-1])\n",
    "print(nums[-2:1:-3])"
   ]
  },
  {
   "cell_type": "markdown",
   "id": "875f0fba-ceb9-497e-bd67-1bf30abcfd8e",
   "metadata": {},
   "source": [
    "## 배열 함수"
   ]
  },
  {
   "cell_type": "code",
   "execution_count": null,
   "id": "1554fc57-5ec0-4a4d-b596-dea8df60278b",
   "metadata": {},
   "outputs": [],
   "source": [
    "from numpy import *"
   ]
  },
  {
   "cell_type": "code",
   "execution_count": null,
   "id": "29d20e8a-4a1e-4ffb-844a-79991c3e5d70",
   "metadata": {},
   "outputs": [],
   "source": [
    "vec = array([1,2,3])\n",
    "mat = array([[1,2,3],[4,5,6],[7,8,9]])\n",
    "print(vec)\n",
    "print(mat)\n"
   ]
  },
  {
   "cell_type": "code",
   "execution_count": null,
   "id": "aa48390c-79ce-4507-a643-cfe82a96ea72",
   "metadata": {},
   "outputs": [],
   "source": [
    "ar1 = array([2,4,6])"
   ]
  },
  {
   "cell_type": "code",
   "execution_count": null,
   "id": "cf9c0a99-32bd-469b-ab8e-1b71eff46d3b",
   "metadata": {},
   "outputs": [],
   "source": [
    "ar1+2"
   ]
  },
  {
   "cell_type": "code",
   "execution_count": null,
   "id": "a7dc8fed-4a99-4d76-acfa-65d30a12f350",
   "metadata": {},
   "outputs": [],
   "source": [
    "ar1 = array([2,4,6]); ar2 = array([1,2,3])"
   ]
  },
  {
   "cell_type": "code",
   "execution_count": null,
   "id": "e72506ef-4c96-4eb3-916e-af4203fa3841",
   "metadata": {},
   "outputs": [],
   "source": [
    "ar1+ar2"
   ]
  },
  {
   "cell_type": "code",
   "execution_count": null,
   "id": "47e8867c-be02-41b4-a1c4-a5d9a42f5b02",
   "metadata": {},
   "outputs": [],
   "source": [
    "ar1*ar2"
   ]
  },
  {
   "cell_type": "code",
   "execution_count": null,
   "id": "47da7d65-4dab-4394-aa69-f0a84ca45897",
   "metadata": {},
   "outputs": [],
   "source": [
    "ar1/ar2"
   ]
  },
  {
   "cell_type": "code",
   "execution_count": null,
   "id": "72ce723b-c723-4e8e-aa93-3bb4ce050665",
   "metadata": {},
   "outputs": [],
   "source": [
    "ar1**ar2"
   ]
  },
  {
   "cell_type": "code",
   "execution_count": null,
   "id": "1ad54045-f6da-41e3-8b86-fea0fa755f85",
   "metadata": {},
   "outputs": [],
   "source": [
    "ar3 = (pi/4)*arange(3)\n",
    "print(ar3)"
   ]
  },
  {
   "cell_type": "code",
   "execution_count": null,
   "id": "8dd0db0b-16c3-4398-b838-95bbdcd390df",
   "metadata": {},
   "outputs": [],
   "source": [
    "sin(ar3)"
   ]
  },
  {
   "cell_type": "markdown",
   "id": "c1491a0a-5960-4b17-a0ed-02e44bd81596",
   "metadata": {},
   "source": [
    "## 문자열"
   ]
  },
  {
   "cell_type": "code",
   "execution_count": null,
   "id": "70d23671-7727-4df6-b3d7-72b0b1a7c7a0",
   "metadata": {},
   "outputs": [],
   "source": [
    "str='HelloYUMC'"
   ]
  },
  {
   "cell_type": "code",
   "execution_count": null,
   "id": "22ecbe85-c552-42ff-af42-25a34f4bebb4",
   "metadata": {},
   "outputs": [],
   "source": [
    "str[2:7]"
   ]
  },
  {
   "cell_type": "code",
   "execution_count": null,
   "id": "6b213e65-d0c3-4805-bbda-9d2d66460c6c",
   "metadata": {},
   "outputs": [],
   "source": [
    "str[2:7:2]"
   ]
  },
  {
   "cell_type": "code",
   "execution_count": null,
   "id": "a1558e48-2b38-4815-96bc-80c957d824fb",
   "metadata": {},
   "outputs": [],
   "source": [
    "str[::2]"
   ]
  },
  {
   "cell_type": "code",
   "execution_count": null,
   "id": "d035d1ee-a484-4bf6-9826-edd968f853d8",
   "metadata": {},
   "outputs": [],
   "source": [
    "str[:7:2]"
   ]
  },
  {
   "cell_type": "code",
   "execution_count": null,
   "id": "e7b73cbb-96ec-4e48-b1d3-db4b815f3d58",
   "metadata": {},
   "outputs": [],
   "source": [
    "S=\"this is a beautiful day.\"\n",
    "print(S)\n",
    "S1=S.capitalize()\n",
    "print(S1)"
   ]
  },
  {
   "cell_type": "code",
   "execution_count": null,
   "id": "7dc95357-1b07-45b7-bc52-7e2dedb6c517",
   "metadata": {},
   "outputs": [],
   "source": [
    "print(S.upper())"
   ]
  },
  {
   "cell_type": "code",
   "execution_count": null,
   "id": "e07aa6d1-af43-42e4-bc0b-94fa82373911",
   "metadata": {},
   "outputs": [],
   "source": [
    "print(S.center(35,'#')) #S.center(width[, fillchar])"
   ]
  },
  {
   "cell_type": "code",
   "execution_count": null,
   "id": "29331384-dcc8-4ddc-897b-9a5626d505ce",
   "metadata": {},
   "outputs": [],
   "source": [
    "print(S.replace('a','A')) #S.replace(froma,tob)"
   ]
  },
  {
   "cell_type": "code",
   "execution_count": null,
   "id": "892d5278-f03c-455a-abaf-d975537caaca",
   "metadata": {},
   "outputs": [],
   "source": [
    "print(S.count('a')) #S.count(substring [, start-idx [, end-idx]])"
   ]
  },
  {
   "cell_type": "code",
   "execution_count": null,
   "id": "2578d935-59a0-4205-a6d7-a636ba797069",
   "metadata": {},
   "outputs": [],
   "source": [
    "S.count('a',5,15)\n",
    "S.count('is') \n",
    "S.startswith('T'),S.startswith('Th')\n",
    "S.endswith('!'),S.endswith('y!')\n",
    "S.isalpha(), S.isdigit(), S.islower(), S.isspace(), S.isupper()\n",
    "names = [\"Ben\", \"Chen\", \"Yaqin\"]\n",
    "\", \".join(names)\n"
   ]
  },
  {
   "cell_type": "code",
   "execution_count": null,
   "id": "6924b609-400b-408e-becf-259c6aac9ef6",
   "metadata": {},
   "outputs": [],
   "source": [
    "dir(S)"
   ]
  },
  {
   "cell_type": "code",
   "execution_count": null,
   "id": "a53b5026-b078-4764-ad29-428dfa5f6ec3",
   "metadata": {},
   "outputs": [],
   "source": [
    "a = \"He found it boring and he left\"\n",
    "loc = a.find(\"boring\")\n",
    "print(loc)\n",
    "a = a[:loc] + \"fun\"\n",
    "print(a)"
   ]
  },
  {
   "cell_type": "code",
   "execution_count": null,
   "id": "6076f93a-0d6f-4fb5-a3d9-eec90b7d9fe1",
   "metadata": {},
   "outputs": [],
   "source": [
    "b = ' and '.join([\"cars\", \"trucks\", \"motorcycles\"])\n",
    "print(b)"
   ]
  },
  {
   "cell_type": "code",
   "execution_count": null,
   "id": "07b5bc3f-824a-4f54-8d6c-59649a54b84c",
   "metadata": {},
   "outputs": [],
   "source": [
    "c = b.split()\n",
    "print(c)\n",
    "d = b.split(\" and \")\n",
    "print(d)"
   ]
  },
  {
   "cell_type": "markdown",
   "id": "2c13fd2a-389d-4e9b-92e3-bd0e33347ad4",
   "metadata": {},
   "source": [
    "## 문자열 출력 {}"
   ]
  },
  {
   "cell_type": "code",
   "execution_count": null,
   "id": "03ac0b8a",
   "metadata": {},
   "outputs": [],
   "source": [
    "a=1;b=2\n",
    "print('%d %03d' % (a, b))\n",
    "print('{} {:03d}'.format(a, b))\n",
    "print(f'{a} {b:03d}')"
   ]
  },
  {
   "cell_type": "code",
   "execution_count": null,
   "id": "4432ffd3-cf4c-402f-984b-c142a957fbb9",
   "metadata": {},
   "outputs": [],
   "source": [
    "name=\"Park\"; age=25; height=178.34\n",
    "print(\"My name is \" + name +\". I’m \" , age, \"years old\")\n",
    "print(\"My name is {}. I’m {} years old\".format(name,age))\n",
    "print(\"My height is {:4.1f}. I’m {:3d} years old\".format(height,age))\n"
   ]
  },
  {
   "cell_type": "code",
   "execution_count": null,
   "id": "61bbfa0d-92eb-49cd-9f68-2ee3a8bb50ac",
   "metadata": {},
   "outputs": [],
   "source": [
    "\"value=({},{})\".format(2,5)"
   ]
  },
  {
   "cell_type": "code",
   "execution_count": null,
   "id": "f4c5203c-95e3-4e87-8e50-30e48ed35c14",
   "metadata": {},
   "outputs": [],
   "source": [
    "\"value=({1},{0})\".format(2,5)"
   ]
  },
  {
   "cell_type": "code",
   "execution_count": null,
   "id": "2b639e4c-46ff-4643-81b4-5a7422e24b2b",
   "metadata": {},
   "outputs": [],
   "source": [
    "\"value={lati},{longi}\".format(lati=35.6,longi=139.6)"
   ]
  },
  {
   "cell_type": "markdown",
   "id": "76b67de4-2b5a-4aa2-9bfb-084b1c6b854d",
   "metadata": {},
   "source": [
    "## 문자열 출력 f"
   ]
  },
  {
   "cell_type": "code",
   "execution_count": null,
   "id": "455460b4-93d3-4cca-bf5e-41c79ee098cd",
   "metadata": {},
   "outputs": [],
   "source": [
    "name=\"Park\"; age=25; height=178.34\n",
    "str=\"My name is {name}. I’m {age} years old\"\n",
    "str1=f\"My name is {name}. I’m {age} years old\"\n",
    "print(str);print(str1)"
   ]
  },
  {
   "cell_type": "code",
   "execution_count": null,
   "id": "ea976836-e825-41b0-b5b2-6977dec64ec7",
   "metadata": {},
   "outputs": [],
   "source": [
    "str2=f\"My height is {height:4.1f}. I’m {age:3d} years old\"\n",
    "print(str2)\n",
    "print(f\"{name}: {height=:4.1f},{age=:d}y\")\n",
    "print(f\"{name!r}: {height=:4.1f},{age=:3d}y\")"
   ]
  },
  {
   "cell_type": "markdown",
   "id": "5228b082-9e24-4e22-ab47-901afdc0cb3c",
   "metadata": {},
   "source": [
    "## input"
   ]
  },
  {
   "cell_type": "code",
   "execution_count": null,
   "id": "5f1b1751-c574-464d-882f-7f2d98308d9d",
   "metadata": {},
   "outputs": [],
   "source": [
    "str=input(\"Please enter #:\")\n",
    "x = int(str)\n",
    "print(\"You entered {}\".format(x))"
   ]
  },
  {
   "cell_type": "code",
   "execution_count": null,
   "id": "ed77bb4e-f8f3-4234-bc1a-c1dd271091d5",
   "metadata": {},
   "outputs": [],
   "source": [
    "a,b=input(\"Enter two numbers:\").split()\n",
    "a=int(a);b=int(b)\n",
    "print(\"You entered two numbers to sum:{}+{}={}\".format(a,b,a+b))"
   ]
  },
  {
   "cell_type": "markdown",
   "id": "f6337fd7-3ef6-4d85-a44b-d77d597973f9",
   "metadata": {},
   "source": [
    "## 모음 자료형"
   ]
  },
  {
   "cell_type": "code",
   "execution_count": null,
   "id": "03955eb5-629b-4dc8-ab26-f7862fda8fe9",
   "metadata": {},
   "outputs": [],
   "source": [
    "a=[1, 3, 5, 7, 11]\n",
    "b=[0, 1, 'boom']\n",
    "colors = ['red', 'green', 'gold']"
   ]
  },
  {
   "cell_type": "code",
   "execution_count": null,
   "id": "265f045f-794f-489c-b508-45614f473026",
   "metadata": {},
   "outputs": [],
   "source": [
    "a=[0,2,5]\n",
    "b=[a,3,4]\n",
    "print (\"b=\",b)\n",
    "print (\"b[0][1]=\",b[0][1])\n",
    "#print (b[1][0]) #TypeError: 'int' object is unsubscriptable\n",
    "c=a+b\n",
    "print(\"c=\",c)"
   ]
  },
  {
   "cell_type": "code",
   "execution_count": null,
   "id": "cd3687a6-8570-47f9-abb8-39a455f2291c",
   "metadata": {},
   "outputs": [],
   "source": [
    "x = [2,3,1]\n",
    "x.remove(1) # removes the 1, not the item at position 1!!\n",
    "print(x)\n",
    "x1=x[:]\n",
    "print(x1)"
   ]
  },
  {
   "cell_type": "code",
   "execution_count": null,
   "id": "04275eeb-8616-49fc-9d19-c24c44b90252",
   "metadata": {},
   "outputs": [],
   "source": [
    "x.append([5,4]) #insert the object to the end\n",
    "print(x)\n",
    "x1.extend([5,4])#insert the elements of the object to the end\n",
    "print(x1)"
   ]
  },
  {
   "cell_type": "code",
   "execution_count": null,
   "id": "7f887b25-d241-4cc1-aad0-64960fae4ee3",
   "metadata": {},
   "outputs": [],
   "source": [
    "x1.sort()\n",
    "print(x1)\n",
    "x1.reverse()\n",
    "print(x1)"
   ]
  },
  {
   "cell_type": "markdown",
   "id": "2ce0883e-8d1d-416e-b024-2dda26a9d39e",
   "metadata": {},
   "source": [
    "## 메모리 참조와 형성"
   ]
  },
  {
   "cell_type": "code",
   "execution_count": null,
   "id": "ec1d2be9-9bc2-4bc3-8aa8-3196e926403d",
   "metadata": {},
   "outputs": [],
   "source": []
  }
 ],
 "metadata": {
  "kernelspec": {
   "display_name": "Python 3 (ipykernel)",
   "language": "python",
   "name": "python3"
  },
  "language_info": {
   "codemirror_mode": {
    "name": "ipython",
    "version": 3
   },
   "file_extension": ".py",
   "mimetype": "text/x-python",
   "name": "python",
   "nbconvert_exporter": "python",
   "pygments_lexer": "ipython3",
   "version": "3.10.9"
  }
 },
 "nbformat": 4,
 "nbformat_minor": 5
}

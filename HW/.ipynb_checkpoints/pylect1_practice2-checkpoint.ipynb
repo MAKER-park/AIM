{
 "cells": [
  {
   "cell_type": "markdown",
   "metadata": {},
   "source": [
    "# 과제0 [필수 아님]: 파일 저장 및 읽기\n",
    "\n",
    "1.\t자연수값 N을 input 으로 이용해서 입력 받은 다음 random 정수 N개를 생성하고 그 정수 값들을 다음 파일 이름으로 CSV 파일로 저장하는 코드를 작성하세요. (파일 이름은 random_N.csv 라고 쓰는데 여기서  N은 숫자로 바꾸어서 저장합니다. 가령 N 이 10 이면 random_10.csv 로 저장합니다). 잘모르겠으면 chatgpt를 사용해도 됨."
   ]
  },
  {
   "cell_type": "code",
   "execution_count": null,
   "metadata": {},
   "outputs": [],
   "source": [
    "import random\n",
    "import csv"
   ]
  },
  {
   "cell_type": "code",
   "execution_count": 1,
   "metadata": {},
   "outputs": [
    {
     "name": "stdin",
     "output_type": "stream",
     "text": [
      "자연수 N을 입력하세요:  10\n"
     ]
    },
    {
     "name": "stdout",
     "output_type": "stream",
     "text": [
      "10개의 랜덤 정수를 random_10.csv 파일에 저장했습니다.\n"
     ]
    }
   ],
   "source": [
    "# 사용자로부터 자연수 N을 입력 받습니다.\n",
    "N = int(input(\"자연수 N을 입력하세요: \"))\n",
    "\n",
    "# N개의 랜덤 정수를 생성합니다.\n",
    "random_integers = [random.randint(1, 100) for _ in range(N)]\n",
    "\n",
    "# CSV 파일 이름을 생성합니다.\n",
    "file_name = f\"random_{N}.csv\"\n",
    "\n",
    "# CSV 파일에 데이터를 쓰기 위해 파일을 엽니다.\n",
    "with open(file_name, mode='w', newline='') as file:\n",
    "    writer = csv.writer(file)\n",
    "    \n",
    "    # 생성한 랜덤 정수를 CSV 파일에 쓰기합니다.\n",
    "    for integer in random_integers:\n",
    "        writer.writerow([integer])\n",
    "\n",
    "print(f\"{N}개의 랜덤 정수를 {file_name} 파일에 저장했습니다.\")\n"
   ]
  },
  {
   "cell_type": "markdown",
   "metadata": {},
   "source": [
    "2.\tCSV 파일 이름을 넣으면 그 파일을 읽어서 각 수의 합과 숫자의 개수를 계산하는 함수를 작성하시오. y,count=sum_any_count_file( filename )"
   ]
  },
  {
   "cell_type": "code",
   "execution_count": 2,
   "metadata": {},
   "outputs": [
    {
     "name": "stdin",
     "output_type": "stream",
     "text": [
      "CSV 파일 이름을 입력하세요:  random_10.csv\n"
     ]
    },
    {
     "name": "stdout",
     "output_type": "stream",
     "text": [
      "random_10.csv 파일의 합계: 411, 개수: 10\n"
     ]
    }
   ],
   "source": [
    "def sum_and_count_file(filename):\n",
    "    # 초기값 설정\n",
    "    total_sum = 0\n",
    "    count = 0\n",
    "    \n",
    "    # CSV 파일 열기\n",
    "    with open(filename, mode='r') as file:\n",
    "        reader = csv.reader(file)\n",
    "        \n",
    "        # 파일 내의 각 줄을 읽어서 합계와 개수를 계산\n",
    "        for row in reader:\n",
    "            try:\n",
    "                # CSV 파일에서 읽은 값을 정수로 변환하여 합계에 추가\n",
    "                value = int(row[0])\n",
    "                total_sum += value\n",
    "                count += 1\n",
    "            except ValueError:\n",
    "                # 정수로 변환할 수 없는 값은 무시\n",
    "                pass\n",
    "    \n",
    "    return total_sum, count\n",
    "\n",
    "# 함수를 사용하여 파일의 합계와 개수를 계산\n",
    "filename = input(\"CSV 파일 이름을 입력하세요: \")\n",
    "sum_result, count_result = sum_and_count_file(filename)\n",
    "print(f\"{filename} 파일의 합계: {sum_result}, 개수: {count_result}\")\n"
   ]
  },
  {
   "cell_type": "markdown",
   "metadata": {},
   "source": [
    "3.\tCSV 파일 이름을 넣으면 그 파일을 읽어서 숫자를 읽어 들이고 숫자  multnumber를 곱한 다음 새로운 파일로 저장하는 함수를 만드시오. change_file( infile, multnumber, outfilename )"
   ]
  },
  {
   "cell_type": "code",
   "execution_count": 3,
   "metadata": {},
   "outputs": [
    {
     "name": "stdin",
     "output_type": "stream",
     "text": [
      "입력 파일 이름을 입력하세요:  random_10.csv\n",
      "곱할 숫자를 입력하세요:  5\n",
      "출력 파일 이름을 입력하세요:  multi_10.csv\n"
     ]
    },
    {
     "name": "stdout",
     "output_type": "stream",
     "text": [
      "random_10.csv 파일을 읽어 multi_10.csv 파일로 변환했습니다.\n"
     ]
    }
   ],
   "source": [
    "import csv\n",
    "\n",
    "def change_file(infile, multnumber, outfilename):\n",
    "    # 새로운 파일을 생성하고, 곱한 결과를 저장\n",
    "    with open(infile, mode='r') as in_file, open(outfilename, mode='w', newline='') as out_file:\n",
    "        reader = csv.reader(in_file)\n",
    "        writer = csv.writer(out_file)\n",
    "        \n",
    "        for row in reader:\n",
    "            try:\n",
    "                # CSV 파일에서 읽은 값을 정수로 변환하고 multnumber와 곱한 뒤 다시 문자열로 변환하여 저장\n",
    "                value = int(row[0])\n",
    "                new_value = value * multnumber\n",
    "                writer.writerow([new_value])\n",
    "            except ValueError:\n",
    "                # 정수로 변환할 수 없는 값은 무시\n",
    "                pass\n",
    "\n",
    "# 함수를 사용하여 파일 변환\n",
    "infile = input(\"입력 파일 이름을 입력하세요: \")\n",
    "multnumber = int(input(\"곱할 숫자를 입력하세요: \"))\n",
    "outfilename = input(\"출력 파일 이름을 입력하세요: \")\n",
    "\n",
    "change_file(infile, multnumber, outfilename)\n",
    "print(f\"{infile} 파일을 읽어 {outfilename} 파일로 변환했습니다.\")"
   ]
  },
  {
   "cell_type": "markdown",
   "metadata": {},
   "source": [
    "## 과제1: 가위-바위-보 게임 만들기\n",
    "\n",
    "input, random 을 이용하여 가위 바위 보 수행하는 게임을 만드세요. score=gawibawibo(N)"
   ]
  },
  {
   "cell_type": "code",
   "execution_count": 6,
   "metadata": {},
   "outputs": [
    {
     "name": "stdin",
     "output_type": "stream",
     "text": [
      "how many play game? 5\n",
      "rock scissors paper! rock\n"
     ]
    },
    {
     "name": "stdout",
     "output_type": "stream",
     "text": [
      "you lose!\n"
     ]
    },
    {
     "name": "stdin",
     "output_type": "stream",
     "text": [
      "rock scissors paper! rock\n"
     ]
    },
    {
     "name": "stdout",
     "output_type": "stream",
     "text": [
      "you lose!\n"
     ]
    },
    {
     "name": "stdin",
     "output_type": "stream",
     "text": [
      "rock scissors paper! rock\n"
     ]
    },
    {
     "name": "stdout",
     "output_type": "stream",
     "text": [
      "you win!\n"
     ]
    },
    {
     "name": "stdin",
     "output_type": "stream",
     "text": [
      "rock scissors paper! r\n"
     ]
    },
    {
     "name": "stdout",
     "output_type": "stream",
     "text": [
      "plz input rock scissors paper....\n"
     ]
    },
    {
     "name": "stdin",
     "output_type": "stream",
     "text": [
      "rock scissors paper! rock\n"
     ]
    },
    {
     "name": "stdout",
     "output_type": "stream",
     "text": [
      "you win!\n"
     ]
    },
    {
     "name": "stdin",
     "output_type": "stream",
     "text": [
      "rock scissors paper! rock\n"
     ]
    },
    {
     "name": "stdout",
     "output_type": "stream",
     "text": [
      "you win!\n",
      "total score 3\n"
     ]
    }
   ],
   "source": [
    "count = int(input('how many play game?'))\n",
    "game_slc = ['rock','scissors','paper']\n",
    "score = 0\n",
    "for i in range(0,count+1):\n",
    "    user_rsp = input('rock scissors paper!')\n",
    "    rsp = random.choice(game_slc)\n",
    "    if(rsp == user_rsp):\n",
    "        print('draw!')\n",
    "    elif(user_rsp == 'rock'):\n",
    "        if(rsp == 'scissors'):\n",
    "            print('you win!')\n",
    "            score += 1\n",
    "        elif(rsp == 'paper'):\n",
    "            print('you lose!') \n",
    "    elif(user_rsp == 'scissors'):\n",
    "        if(rsp == 'paper'):\n",
    "            print('you win!')\n",
    "            score += 1\n",
    "        elif(rsp == 'rock'):\n",
    "            print('you lose!') \n",
    "    elif(user_rsp == 'paper'):\n",
    "        if(rsp == 'rock'):\n",
    "            print('you win!')\n",
    "            score += 1\n",
    "        elif(rsp == 'scissors'):\n",
    "            print('you lose!')\n",
    "    else:\n",
    "        print(\"plz input rock scissors paper....\")\n",
    "        i -= 1\n",
    "print(f'total score {score}')"
   ]
  },
  {
   "cell_type": "markdown",
   "metadata": {},
   "source": [
    "# 과제2: 클래스 활용\n",
    "1.\t다음 animal, dog, cat 의 클래스를 설계하시오"
   ]
  },
  {
   "cell_type": "code",
   "execution_count": 14,
   "metadata": {},
   "outputs": [],
   "source": [
    "class Animal:\n",
    "    def __init__(self):\n",
    "        pass\n",
    "\n",
    "class Dog(Animal):\n",
    "    def __init__(self):\n",
    "        pass\n",
    "\n",
    "class Cat(Animal):\n",
    "    def __init__(self):\n",
    "        pass"
   ]
  },
  {
   "cell_type": "markdown",
   "metadata": {},
   "source": [
    "2.\tanimal 이 가지는 멤버 변수로 name, voice, position 을 가지고 멤버 함수로 bark(), runto(position) \n",
    "dog과  cat 클래스는 animal을 상속 받아서 추가적으로 foodamount, color 를 멤버 변수로 가지고 추가적인 멤버 함수로는 eat(food), change_color(color)를 정의하세요. eat(food)는 food 양만큼 축적해서 지금까지 먹은 foodamount 를 알 수 있게 하시오. "
   ]
  },
  {
   "cell_type": "code",
   "execution_count": 15,
   "metadata": {},
   "outputs": [
    {
     "name": "stdout",
     "output_type": "stream",
     "text": [
      "Buddy says Woof!\n",
      "Buddy runs to position (3, 5)\n",
      "Buddy has eaten 2 units of food. Total food amount: 2\n",
      "Whiskers says Meow!\n",
      "Whiskers runs to position (1, 2)\n",
      "Whiskers now has a Gray coat.\n"
     ]
    }
   ],
   "source": [
    "class Animal:\n",
    "    def __init__(self, name, voice, position=(0, 0)):\n",
    "        self.name = name\n",
    "        self.voice = voice\n",
    "        self.position = position\n",
    "\n",
    "    def bark(self):\n",
    "        return f\"{self.name} says {self.voice}!\"\n",
    "\n",
    "    def run_to(self, position):\n",
    "        self.position = position\n",
    "        return f\"{self.name} runs to position {position}\"\n",
    "\n",
    "class Dog(Animal):\n",
    "    def __init__(self, name, voice, position=(0, 0), foodamount=0):\n",
    "        super().__init__(name, voice, position)\n",
    "        self.foodamount = foodamount\n",
    "\n",
    "    def eat(self, food):\n",
    "        self.foodamount += food\n",
    "        return f\"{self.name} has eaten {food} units of food. Total food amount: {self.foodamount}\"\n",
    "\n",
    "class Cat(Animal):\n",
    "    def __init__(self, name, voice, position=(0, 0), color=None):\n",
    "        super().__init__(name, voice, position)\n",
    "        self.color = color\n",
    "\n",
    "    def change_color(self, color):\n",
    "        self.color = color\n",
    "        return f\"{self.name} now has a {color} coat.\"\n",
    "\n",
    "# 예시 사용\n",
    "dog1 = Dog(\"Buddy\", \"Woof\")\n",
    "cat1 = Cat(\"Whiskers\", \"Meow\", color=\"Orange\")\n"
   ]
  },
  {
   "cell_type": "markdown",
   "metadata": {},
   "source": [
    "3.\tanimal 의 name,voice, position 을 호출할 때 초기화 하는 코드를 __init__ 를 이용하여 작성하시오. dog, cat 클래스도 이러한 초기화 코드를 작성하시오."
   ]
  },
  {
   "cell_type": "code",
   "execution_count": null,
   "metadata": {},
   "outputs": [],
   "source": [
    "class Animal:\n",
    "    def __init__(self, name, voice, position=(0, 0)):\n",
    "        self.name = name\n",
    "        self.voice = voice\n",
    "        self.position = position\n",
    "\n",
    "    def bark(self):\n",
    "        return f\"{self.name} says {self.voice}!\"\n",
    "\n",
    "    def run_to(self, position):\n",
    "        self.position = position\n",
    "        return f\"{self.name} runs to position {position}\"\n",
    "\n",
    "class Dog(Animal):\n",
    "    def __init__(self, name, voice, position=(0, 0), foodamount=0):\n",
    "        super().__init__(name, voice, position)\n",
    "        self.foodamount = foodamount\n",
    "\n",
    "    def eat(self, food):\n",
    "        self.foodamount += food\n",
    "        return f\"{self.name} has eaten {food} units of food. Total food amount: {self.foodamount}\"\n",
    "\n",
    "class Cat(Animal):\n",
    "    def __init__(self, name, voice, position=(0, 0), color=None):\n",
    "        super().__init__(name, voice, position)\n",
    "        self.color = color\n",
    "\n",
    "    def change_color(self, color):\n",
    "        self.color = color\n",
    "        return f\"{self.name} now has a {color} coat.\""
   ]
  },
  {
   "cell_type": "markdown",
   "metadata": {},
   "source": [
    "4.\tdog 과 cat 클래스를 기반으로 자신이 원하는 만큼의 객체를 형성하여 객체의 속성을 변화 시키고 함수를 호출하는 코드를 작성하시오. "
   ]
  },
  {
   "cell_type": "code",
   "execution_count": null,
   "metadata": {},
   "outputs": [],
   "source": [
    "class Animal:\n",
    "    def __init__(self, name, voice, position=(0, 0)):\n",
    "        self.name = name\n",
    "        self.voice = voice\n",
    "        self.position = position\n",
    "\n",
    "    def bark(self):\n",
    "        return f\"{self.name} says {self.voice}!\"\n",
    "\n",
    "    def run_to(self, position):\n",
    "        self.position = position\n",
    "        return f\"{self.name} runs to position {position}\"\n",
    "\n",
    "class Dog(Animal):\n",
    "    def __init__(self, name, voice, position=(0, 0), foodamount=0):\n",
    "        super().__init__(name, voice, position)\n",
    "        self.foodamount = foodamount\n",
    "\n",
    "    def eat(self, food):\n",
    "        self.foodamount += food\n",
    "        return f\"{self.name} has eaten {food} units of food. Total food amount: {self.foodamount}\"\n",
    "\n",
    "class Cat(Animal):\n",
    "    def __init__(self, name, voice, position=(0, 0), color=None):\n",
    "        super().__init__(name, voice, position)\n",
    "        self.color = color\n",
    "\n",
    "    def change_color(self, color):\n",
    "        self.color = color\n",
    "        return f\"{self.name} now has a {color} coat.\"\n",
    "\n",
    "# Dog 객체 생성 및 속성 변경\n",
    "dog1 = Dog(\"Buddy\", \"Woof\")\n",
    "dog2 = Dog(\"Rex\", \"Arf\")\n",
    "dog1.run_to((3, 5))\n",
    "dog2.eat(2)\n",
    "\n",
    "# Cat 객체 생성 및 속성 변경\n",
    "cat1 = Cat(\"Whiskers\", \"Meow\", color=\"Orange\")\n",
    "cat2 = Cat(\"Mittens\", \"Purr\", color=\"White\")\n",
    "cat1.change_color(\"Gray\")\n",
    "cat2.run_to((1, 2))\n",
    "\n",
    "# 객체 정보 출력\n",
    "print(dog1.bark())\n",
    "print(dog2.bark())\n",
    "print(cat1.bark())\n",
    "print(cat2.bark())\n"
   ]
  },
  {
   "cell_type": "markdown",
   "metadata": {},
   "source": [
    "[참고. 필수 아님]5.\tdog 클래스에서 연산자 오버로딩으로 + 를 __add__ 를 이용하여 정의하고 각 강아지의 먹이 양의 합을 가지는 새로운 강아지를 만들어 내는 코드를 작성하시오."
   ]
  },
  {
   "cell_type": "code",
   "execution_count": 18,
   "metadata": {},
   "outputs": [
    {
     "name": "stdout",
     "output_type": "stream",
     "text": [
      "Buddy says Woof!\n",
      "Rex says Arf!\n",
      "Buddy and Rex says woof!\n",
      "Buddy has 10 units of food.\n",
      "Rex has 2 units of food.\n",
      "Buddy and Rex has 12 units of food.\n",
      "Whiskers says Meow!\n",
      "Mittens says Purr!\n"
     ]
    }
   ],
   "source": [
    "class Animal:\n",
    "    def __init__(self, name, voice, position=(0, 0)):\n",
    "        self.name = name\n",
    "        self.voice = voice\n",
    "        self.position = position\n",
    "\n",
    "    def bark(self):\n",
    "        return f\"{self.name} says {self.voice}!\"\n",
    "\n",
    "    def run_to(self, position):\n",
    "        self.position = position\n",
    "        return f\"{self.name} runs to position {position}\"\n",
    "\n",
    "class Dog(Animal):\n",
    "    def __init__(self, name, voice, position=(0, 0), foodamount=0):\n",
    "        super().__init__(name, voice, position)\n",
    "        self.foodamount = foodamount\n",
    "\n",
    "    def eat(self, food):\n",
    "        self.foodamount += food\n",
    "        return f\"{self.name} has eaten {food} units of food. Total food amount: {self.foodamount}\"\n",
    "    def __add__(self, other_dog):\n",
    "        new_dog = Dog(f\"{self.name} and {other_dog.name}\", \"woof\", foodamount=self.foodamount + other_dog.foodamount)\n",
    "        return new_dog\n",
    "\n",
    "class Cat(Animal):\n",
    "    def __init__(self, name, voice, position=(0, 0), color=None):\n",
    "        super().__init__(name, voice, position)\n",
    "        self.color = color\n",
    "\n",
    "    def change_color(self, color):\n",
    "        self.color = color\n",
    "        return f\"{self.name} now has a {color} coat.\"\n",
    "\n",
    "# Dog 객체 생성 및 속성 변경\n",
    "dog1 = Dog(\"Buddy\", \"Woof\")\n",
    "dog2 = Dog(\"Rex\", \"Arf\")\n",
    "dog1.run_to((3, 5))\n",
    "dog2.eat(2)\n",
    "dog1.eat(10)\n",
    "\n",
    "#add new dog\n",
    "new_dog = dog1 + dog2\n",
    "\n",
    "\n",
    "# Cat 객체 생성 및 속성 변경\n",
    "cat1 = Cat(\"Whiskers\", \"Meow\", color=\"Orange\")\n",
    "cat2 = Cat(\"Mittens\", \"Purr\", color=\"White\")\n",
    "cat1.change_color(\"Gray\")\n",
    "cat2.run_to((1, 2))\n",
    "\n",
    "# 객체 정보 출력\n",
    "print(dog1.bark())\n",
    "print(dog2.bark())\n",
    "print(new_dog.bark())\n",
    "print(f\"{dog1.name} has {dog1.foodamount} units of food.\")\n",
    "print(f\"{dog2.name} has {dog2.foodamount} units of food.\")\n",
    "print(f\"{new_dog.name} has {new_dog.foodamount} units of food.\")#check add!\n",
    "print(cat1.bark())\n",
    "print(cat2.bark())\n"
   ]
  }
 ],
 "metadata": {
  "kernelspec": {
   "display_name": "Python 3 (ipykernel)",
   "language": "python",
   "name": "python3"
  },
  "language_info": {
   "codemirror_mode": {
    "name": "ipython",
    "version": 3
   },
   "file_extension": ".py",
   "mimetype": "text/x-python",
   "name": "python",
   "nbconvert_exporter": "python",
   "pygments_lexer": "ipython3",
   "version": "3.9.12"
  }
 },
 "nbformat": 4,
 "nbformat_minor": 4
}

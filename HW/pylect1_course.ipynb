{
 "cells": [
  {
   "cell_type": "markdown",
   "id": "d58a0445-c4e2-444a-bf0f-82c1c277886a",
   "metadata": {},
   "source": [
    "## My first python code."
   ]
  },
  {
   "cell_type": "code",
   "execution_count": 1,
   "id": "ed64bd30-f824-4b7b-a5bb-e1b43e5259eb",
   "metadata": {
    "tags": []
   },
   "outputs": [
    {
     "name": "stdout",
     "output_type": "stream",
     "text": [
      "hello!\n"
     ]
    }
   ],
   "source": [
    "print(\"hello!\")"
   ]
  },
  {
   "cell_type": "code",
   "execution_count": 2,
   "id": "361eb811-269e-401a-90e7-65b513004ef6",
   "metadata": {
    "tags": []
   },
   "outputs": [
    {
     "name": "stdout",
     "output_type": "stream",
     "text": [
      "0\n",
      "1\n",
      "2\n",
      "3\n",
      "4\n"
     ]
    }
   ],
   "source": [
    "for i in [0,1,2,3,4]:\n",
    "    print(i)"
   ]
  },
  {
   "cell_type": "code",
   "execution_count": 3,
   "id": "4e35c6c7-ca91-4d8c-b9a1-462525d696d4",
   "metadata": {
    "tags": []
   },
   "outputs": [
    {
     "name": "stdout",
     "output_type": "stream",
     "text": [
      "환자1\n",
      "환자2\n",
      "환자3\n",
      "환자4\n"
     ]
    }
   ],
   "source": [
    "data = ['환자1','환자2','환자3','환자4']\n",
    "for subj in data:\n",
    "    print(subj)"
   ]
  },
  {
   "cell_type": "code",
   "execution_count": 4,
   "id": "ee9cd649-7ecd-4887-bd10-f8300f6eb663",
   "metadata": {
    "tags": []
   },
   "outputs": [
    {
     "name": "stdout",
     "output_type": "stream",
     "text": [
      "0 환자1\n",
      "1 환자2\n",
      "2 환자3\n",
      "3 환자4\n"
     ]
    }
   ],
   "source": [
    "for i in [0,1,2,3]:\n",
    "    print(i,data[i])"
   ]
  },
  {
   "cell_type": "code",
   "execution_count": 5,
   "id": "7db2b9a3-6200-4fc5-8164-e9c9a616251a",
   "metadata": {
    "tags": []
   },
   "outputs": [
    {
     "name": "stdout",
     "output_type": "stream",
     "text": [
      "환자1 is A 유형.\n",
      "환자2 is A 유형.\n",
      "환자3 is B 유형.\n",
      "환자4 is B 유형.\n",
      "Great!\n"
     ]
    }
   ],
   "source": [
    "for i in [0,1,2,3]:\n",
    "    if i<2:\n",
    "        print(data[i],'is A 유형.')\n",
    "    else:\n",
    "        print (data[i],\"is B 유형.\")\n",
    "print (\"Great!\")"
   ]
  },
  {
   "cell_type": "code",
   "execution_count": 6,
   "id": "0fe72686-81e7-42e6-96e5-2f6a18c4b668",
   "metadata": {
    "tags": []
   },
   "outputs": [
    {
     "name": "stdout",
     "output_type": "stream",
     "text": [
      "0 환자1\n",
      "1 환자2\n",
      "2 환자3\n",
      "3 환자4\n"
     ]
    }
   ],
   "source": [
    "for i in range(0,4):\n",
    "    print(i,data[i])"
   ]
  },
  {
   "cell_type": "code",
   "execution_count": 7,
   "id": "3970c147-e486-4e56-9a54-750c9f70a273",
   "metadata": {
    "tags": []
   },
   "outputs": [
    {
     "name": "stdout",
     "output_type": "stream",
     "text": [
      "환자 1\n",
      "환자 2\n",
      "환자 3\n",
      "환자 4\n"
     ]
    }
   ],
   "source": [
    "for i in range(0,4):\n",
    "    print('환자',i+1)    "
   ]
  },
  {
   "cell_type": "code",
   "execution_count": 8,
   "id": "a639f40e-58fc-438e-990e-af9e5f5af597",
   "metadata": {
    "tags": []
   },
   "outputs": [
    {
     "name": "stdout",
     "output_type": "stream",
     "text": [
      "0 is even.\n",
      "1 is odd.\n",
      "2 is even.\n",
      "3 is odd.\n",
      "4 is even.\n",
      "Great!\n"
     ]
    }
   ],
   "source": [
    "for i in range(5):\n",
    "    if i%2 == 0:\n",
    "        print (i,'is even.')\n",
    "    else:\n",
    "        print (i,\"is odd.\")\n",
    "print (\"Great!\")"
   ]
  },
  {
   "cell_type": "markdown",
   "id": "3595c092-0155-4c36-b204-535c79a8ecda",
   "metadata": {},
   "source": [
    "## 변수"
   ]
  },
  {
   "cell_type": "code",
   "execution_count": 9,
   "id": "5c0e01e5-a7b7-4b2b-a317-f1223d963934",
   "metadata": {
    "tags": []
   },
   "outputs": [
    {
     "name": "stdout",
     "output_type": "stream",
     "text": [
      "['one', 2, 'three', 'banana']\n",
      "three\n"
     ]
    }
   ],
   "source": [
    "A = ['one', 2, 'three', 'banana']\n",
    "print(A)\n",
    "print(A[2])"
   ]
  },
  {
   "cell_type": "code",
   "execution_count": 10,
   "id": "35543d9b-9e3c-4370-b487-98703437ccd4",
   "metadata": {
    "tags": []
   },
   "outputs": [
    {
     "name": "stdout",
     "output_type": "stream",
     "text": [
      "변경 후: four\n",
      "['one', 2, 'four', 'banana']\n"
     ]
    }
   ],
   "source": [
    "A[2]='four'\n",
    "print('변경 후:',A[2])\n",
    "print(A)"
   ]
  },
  {
   "cell_type": "code",
   "execution_count": 11,
   "id": "bff83034-57b8-44c3-9be8-ee547c97282f",
   "metadata": {
    "tags": []
   },
   "outputs": [
    {
     "name": "stdout",
     "output_type": "stream",
     "text": [
      "three\n"
     ]
    }
   ],
   "source": [
    "B = ('one', 2, 'three', 'banana')\n",
    "print(B[2])"
   ]
  },
  {
   "cell_type": "code",
   "execution_count": 12,
   "id": "44eca7f2-13ca-4e8d-bfa1-9bb8968b75de",
   "metadata": {
    "tags": []
   },
   "outputs": [],
   "source": [
    "#B[2]='four'"
   ]
  },
  {
   "cell_type": "code",
   "execution_count": 13,
   "id": "469cfaf1-423e-4549-8ea8-7c74040b39d8",
   "metadata": {
    "tags": []
   },
   "outputs": [
    {
     "name": "stdout",
     "output_type": "stream",
     "text": [
      "40.3054\n"
     ]
    }
   ],
   "source": [
    "C = {} # create dictionary\n",
    "C = {'lat': 40.20547, 'lon': -74.76322}\n",
    "C['lat'] = 40.3054\n",
    "print(C['lat'])"
   ]
  },
  {
   "cell_type": "code",
   "execution_count": 14,
   "id": "8c8c9795-33bc-49e2-811a-6900e9f2bd65",
   "metadata": {
    "tags": []
   },
   "outputs": [
    {
     "name": "stdout",
     "output_type": "stream",
     "text": [
      "{'lat': 40.3054, 'lon': -50}\n"
     ]
    }
   ],
   "source": [
    "C['lon']=-50; #변경 가능함\n",
    "print(C)"
   ]
  },
  {
   "cell_type": "markdown",
   "id": "6f5c4934-bf60-4d05-ab31-8c7982298055",
   "metadata": {},
   "source": [
    "## 숫자 리스트"
   ]
  },
  {
   "cell_type": "code",
   "execution_count": 15,
   "id": "4d10d53c-acfc-4fda-86c9-e0305c4fd488",
   "metadata": {
    "tags": []
   },
   "outputs": [
    {
     "name": "stdout",
     "output_type": "stream",
     "text": [
      "[5, 1, 3, 2, 4, 4, 5, 6, 1, 2]\n"
     ]
    }
   ],
   "source": [
    "a=[5,1,3,2,4]\n",
    "b=a+[4,5,6,1,2]\n",
    "print(b)"
   ]
  },
  {
   "cell_type": "code",
   "execution_count": 16,
   "id": "16e9824f-6aa2-435c-9919-f17eaf45aea5",
   "metadata": {
    "tags": []
   },
   "outputs": [
    {
     "data": {
      "text/plain": [
       "2"
      ]
     },
     "execution_count": 16,
     "metadata": {},
     "output_type": "execute_result"
    }
   ],
   "source": [
    "a[3]"
   ]
  },
  {
   "cell_type": "code",
   "execution_count": 17,
   "id": "ab9c6792-9de4-4bec-aa0e-957992b1c653",
   "metadata": {
    "tags": []
   },
   "outputs": [
    {
     "name": "stdout",
     "output_type": "stream",
     "text": [
      "[10, 20, 30, 40, 50, 60, 70, 80, 90]\n",
      "[30, 40, 50, 60, 70]\n",
      "[10, 20, 30, 40]\n"
     ]
    }
   ],
   "source": [
    "nums = [10, 20, 30, 40, 50, 60, 70, 80, 90]\n",
    "print(nums)\n",
    "some_nums = nums[2:7]\n",
    "print(some_nums)\n",
    "print(nums[0:4])"
   ]
  },
  {
   "cell_type": "code",
   "execution_count": 18,
   "id": "a93c9e3f-4dd9-4b95-a679-806450e61367",
   "metadata": {
    "tags": []
   },
   "outputs": [
    {
     "name": "stdout",
     "output_type": "stream",
     "text": [
      "[10, 20, 30, 40, 50]\n",
      "[70, 80, 90]\n",
      "[50, 60, 70, 80]\n",
      "[10, 20, 30, 40, 50, 60, 70]\n"
     ]
    }
   ],
   "source": [
    "print(nums[:5]) #equivalent to nums[0:5]\n",
    "print(nums[-3:])\n",
    "print(nums[-5:-1])\n",
    "print(nums[:-2])"
   ]
  },
  {
   "cell_type": "code",
   "execution_count": 19,
   "id": "48e757eb-95b1-4cef-90e1-1d8506ca4cf9",
   "metadata": {
    "tags": []
   },
   "outputs": [
    {
     "name": "stdout",
     "output_type": "stream",
     "text": [
      "[10, 30, 50, 70, 90]\n",
      "[20, 40, 60, 80]\n",
      "[20, 40, 60]\n",
      "[90, 80, 70, 60, 50, 40, 30, 20, 10]\n",
      "[80, 70, 60, 50, 40, 30, 20, 10]\n",
      "[80, 50]\n"
     ]
    }
   ],
   "source": [
    "print(nums[::2])\n",
    "print(nums[1::2]) #step 2\n",
    "print(nums[1:-3:2]) #step 2\n",
    "print(nums[::-1]) #reverse\n",
    "print(nums[-2::-1])\n",
    "print(nums[-2:1:-3])"
   ]
  },
  {
   "cell_type": "markdown",
   "id": "875f0fba-ceb9-497e-bd67-1bf30abcfd8e",
   "metadata": {},
   "source": [
    "## 배열 함수"
   ]
  },
  {
   "cell_type": "code",
   "execution_count": 22,
   "id": "32ab7203-c194-41eb-8eef-929e62d211ef",
   "metadata": {
    "tags": []
   },
   "outputs": [
    {
     "name": "stdout",
     "output_type": "stream",
     "text": [
      "Collecting numpy\n",
      "  Obtaining dependency information for numpy from https://files.pythonhosted.org/packages/d5/50/8aedb5ff1460e7c8527af15c6326115009e7c270ec705487155b779ebabb/numpy-1.25.2-cp310-cp310-macosx_10_9_x86_64.whl.metadata\n",
      "  Downloading numpy-1.25.2-cp310-cp310-macosx_10_9_x86_64.whl.metadata (5.6 kB)\n",
      "Downloading numpy-1.25.2-cp310-cp310-macosx_10_9_x86_64.whl (20.8 MB)\n",
      "\u001b[2K   \u001b[90m━━━━━━━━━━━━━━━━━━━━━━━━━━━━━━━━━━━━━━━━\u001b[0m \u001b[32m20.8/20.8 MB\u001b[0m \u001b[31m2.4 MB/s\u001b[0m eta \u001b[36m0:00:00\u001b[0m00:01\u001b[0m00:01\u001b[0m\n",
      "\u001b[?25hInstalling collected packages: numpy\n",
      "Successfully installed numpy-1.25.2\n"
     ]
    }
   ],
   "source": [
    "!pip install numpy"
   ]
  },
  {
   "cell_type": "code",
   "execution_count": 23,
   "id": "1554fc57-5ec0-4a4d-b596-dea8df60278b",
   "metadata": {
    "tags": []
   },
   "outputs": [],
   "source": [
    "from numpy import *"
   ]
  },
  {
   "cell_type": "code",
   "execution_count": 24,
   "id": "29d20e8a-4a1e-4ffb-844a-79991c3e5d70",
   "metadata": {
    "tags": []
   },
   "outputs": [
    {
     "name": "stdout",
     "output_type": "stream",
     "text": [
      "[1 2 3]\n",
      "[[1 2 3]\n",
      " [4 5 6]\n",
      " [7 8 9]]\n"
     ]
    }
   ],
   "source": [
    "vec = array([1,2,3])\n",
    "mat = array([[1,2,3],[4,5,6],[7,8,9]])\n",
    "print(vec)\n",
    "print(mat)\n"
   ]
  },
  {
   "cell_type": "code",
   "execution_count": 25,
   "id": "aa48390c-79ce-4507-a643-cfe82a96ea72",
   "metadata": {
    "tags": []
   },
   "outputs": [],
   "source": [
    "ar1 = array([2,4,6])"
   ]
  },
  {
   "cell_type": "code",
   "execution_count": 26,
   "id": "cf9c0a99-32bd-469b-ab8e-1b71eff46d3b",
   "metadata": {
    "tags": []
   },
   "outputs": [
    {
     "data": {
      "text/plain": [
       "array([4, 6, 8])"
      ]
     },
     "execution_count": 26,
     "metadata": {},
     "output_type": "execute_result"
    }
   ],
   "source": [
    "ar1+2"
   ]
  },
  {
   "cell_type": "code",
   "execution_count": 27,
   "id": "a7dc8fed-4a99-4d76-acfa-65d30a12f350",
   "metadata": {
    "tags": []
   },
   "outputs": [],
   "source": [
    "ar1 = array([2,4,6]); ar2 = array([1,2,3])"
   ]
  },
  {
   "cell_type": "code",
   "execution_count": 28,
   "id": "e72506ef-4c96-4eb3-916e-af4203fa3841",
   "metadata": {
    "tags": []
   },
   "outputs": [
    {
     "data": {
      "text/plain": [
       "array([3, 6, 9])"
      ]
     },
     "execution_count": 28,
     "metadata": {},
     "output_type": "execute_result"
    }
   ],
   "source": [
    "ar1+ar2"
   ]
  },
  {
   "cell_type": "code",
   "execution_count": 29,
   "id": "47e8867c-be02-41b4-a1c4-a5d9a42f5b02",
   "metadata": {
    "tags": []
   },
   "outputs": [
    {
     "data": {
      "text/plain": [
       "array([ 2,  8, 18])"
      ]
     },
     "execution_count": 29,
     "metadata": {},
     "output_type": "execute_result"
    }
   ],
   "source": [
    "ar1*ar2"
   ]
  },
  {
   "cell_type": "code",
   "execution_count": 30,
   "id": "47da7d65-4dab-4394-aa69-f0a84ca45897",
   "metadata": {
    "tags": []
   },
   "outputs": [
    {
     "data": {
      "text/plain": [
       "array([2., 2., 2.])"
      ]
     },
     "execution_count": 30,
     "metadata": {},
     "output_type": "execute_result"
    }
   ],
   "source": [
    "ar1/ar2"
   ]
  },
  {
   "cell_type": "code",
   "execution_count": 31,
   "id": "72ce723b-c723-4e8e-aa93-3bb4ce050665",
   "metadata": {
    "tags": []
   },
   "outputs": [
    {
     "data": {
      "text/plain": [
       "array([  2,  16, 216])"
      ]
     },
     "execution_count": 31,
     "metadata": {},
     "output_type": "execute_result"
    }
   ],
   "source": [
    "ar1**ar2"
   ]
  },
  {
   "cell_type": "code",
   "execution_count": 32,
   "id": "1ad54045-f6da-41e3-8b86-fea0fa755f85",
   "metadata": {
    "tags": []
   },
   "outputs": [
    {
     "name": "stdout",
     "output_type": "stream",
     "text": [
      "[0.         0.78539816 1.57079633]\n"
     ]
    }
   ],
   "source": [
    "ar3 = (pi/4)*arange(3)\n",
    "print(ar3)"
   ]
  },
  {
   "cell_type": "code",
   "execution_count": 33,
   "id": "8dd0db0b-16c3-4398-b838-95bbdcd390df",
   "metadata": {
    "tags": []
   },
   "outputs": [
    {
     "data": {
      "text/plain": [
       "array([0.        , 0.70710678, 1.        ])"
      ]
     },
     "execution_count": 33,
     "metadata": {},
     "output_type": "execute_result"
    }
   ],
   "source": [
    "sin(ar3)"
   ]
  },
  {
   "cell_type": "markdown",
   "id": "c1491a0a-5960-4b17-a0ed-02e44bd81596",
   "metadata": {},
   "source": [
    "## 문자열"
   ]
  },
  {
   "cell_type": "code",
   "execution_count": 34,
   "id": "70d23671-7727-4df6-b3d7-72b0b1a7c7a0",
   "metadata": {
    "tags": []
   },
   "outputs": [],
   "source": [
    "str='HelloYUMC'"
   ]
  },
  {
   "cell_type": "code",
   "execution_count": 35,
   "id": "22ecbe85-c552-42ff-af42-25a34f4bebb4",
   "metadata": {
    "tags": []
   },
   "outputs": [
    {
     "data": {
      "text/plain": [
       "'lloYU'"
      ]
     },
     "execution_count": 35,
     "metadata": {},
     "output_type": "execute_result"
    }
   ],
   "source": [
    "str[2:7]"
   ]
  },
  {
   "cell_type": "code",
   "execution_count": 36,
   "id": "6b213e65-d0c3-4805-bbda-9d2d66460c6c",
   "metadata": {
    "tags": []
   },
   "outputs": [
    {
     "data": {
      "text/plain": [
       "'loU'"
      ]
     },
     "execution_count": 36,
     "metadata": {},
     "output_type": "execute_result"
    }
   ],
   "source": [
    "str[2:7:2]"
   ]
  },
  {
   "cell_type": "code",
   "execution_count": 37,
   "id": "a1558e48-2b38-4815-96bc-80c957d824fb",
   "metadata": {
    "tags": []
   },
   "outputs": [
    {
     "data": {
      "text/plain": [
       "'HloUC'"
      ]
     },
     "execution_count": 37,
     "metadata": {},
     "output_type": "execute_result"
    }
   ],
   "source": [
    "str[::2]"
   ]
  },
  {
   "cell_type": "code",
   "execution_count": 38,
   "id": "d035d1ee-a484-4bf6-9826-edd968f853d8",
   "metadata": {
    "tags": []
   },
   "outputs": [
    {
     "data": {
      "text/plain": [
       "'HloU'"
      ]
     },
     "execution_count": 38,
     "metadata": {},
     "output_type": "execute_result"
    }
   ],
   "source": [
    "str[:7:2]"
   ]
  },
  {
   "cell_type": "code",
   "execution_count": 39,
   "id": "e7b73cbb-96ec-4e48-b1d3-db4b815f3d58",
   "metadata": {
    "tags": []
   },
   "outputs": [
    {
     "name": "stdout",
     "output_type": "stream",
     "text": [
      "this is a beautiful day.\n",
      "This is a beautiful day.\n"
     ]
    }
   ],
   "source": [
    "S=\"this is a beautiful day.\"\n",
    "print(S)\n",
    "S1=S.capitalize()\n",
    "print(S1)"
   ]
  },
  {
   "cell_type": "code",
   "execution_count": 40,
   "id": "7dc95357-1b07-45b7-bc52-7e2dedb6c517",
   "metadata": {
    "tags": []
   },
   "outputs": [
    {
     "name": "stdout",
     "output_type": "stream",
     "text": [
      "THIS IS A BEAUTIFUL DAY.\n"
     ]
    }
   ],
   "source": [
    "print(S.upper())"
   ]
  },
  {
   "cell_type": "code",
   "execution_count": 41,
   "id": "e07aa6d1-af43-42e4-bc0b-94fa82373911",
   "metadata": {
    "tags": []
   },
   "outputs": [
    {
     "name": "stdout",
     "output_type": "stream",
     "text": [
      "######this is a beautiful day.#####\n"
     ]
    }
   ],
   "source": [
    "print(S.center(35,'#')) #S.center(width[, fillchar])"
   ]
  },
  {
   "cell_type": "code",
   "execution_count": 42,
   "id": "29331384-dcc8-4ddc-897b-9a5626d505ce",
   "metadata": {
    "tags": []
   },
   "outputs": [
    {
     "name": "stdout",
     "output_type": "stream",
     "text": [
      "this is A beAutiful dAy.\n"
     ]
    }
   ],
   "source": [
    "print(S.replace('a','A')) #S.replace(froma,tob)"
   ]
  },
  {
   "cell_type": "code",
   "execution_count": 43,
   "id": "892d5278-f03c-455a-abaf-d975537caaca",
   "metadata": {
    "tags": []
   },
   "outputs": [
    {
     "name": "stdout",
     "output_type": "stream",
     "text": [
      "3\n"
     ]
    }
   ],
   "source": [
    "print(S.count('a')) #S.count(substring [, start-idx [, end-idx]])"
   ]
  },
  {
   "cell_type": "code",
   "execution_count": 44,
   "id": "2578d935-59a0-4205-a6d7-a636ba797069",
   "metadata": {
    "tags": []
   },
   "outputs": [
    {
     "data": {
      "text/plain": [
       "'Ben, Chen, Yaqin'"
      ]
     },
     "execution_count": 44,
     "metadata": {},
     "output_type": "execute_result"
    }
   ],
   "source": [
    "S.count('a',5,15)\n",
    "S.count('is') \n",
    "S.startswith('T'),S.startswith('Th')\n",
    "S.endswith('!'),S.endswith('y!')\n",
    "S.isalpha(), S.isdigit(), S.islower(), S.isspace(), S.isupper()\n",
    "names = [\"Ben\", \"Chen\", \"Yaqin\"]\n",
    "\", \".join(names)\n"
   ]
  },
  {
   "cell_type": "code",
   "execution_count": 45,
   "id": "6924b609-400b-408e-becf-259c6aac9ef6",
   "metadata": {
    "tags": []
   },
   "outputs": [
    {
     "data": {
      "text/plain": [
       "['__add__',\n",
       " '__class__',\n",
       " '__contains__',\n",
       " '__delattr__',\n",
       " '__dir__',\n",
       " '__doc__',\n",
       " '__eq__',\n",
       " '__format__',\n",
       " '__ge__',\n",
       " '__getattribute__',\n",
       " '__getitem__',\n",
       " '__getnewargs__',\n",
       " '__gt__',\n",
       " '__hash__',\n",
       " '__init__',\n",
       " '__init_subclass__',\n",
       " '__iter__',\n",
       " '__le__',\n",
       " '__len__',\n",
       " '__lt__',\n",
       " '__mod__',\n",
       " '__mul__',\n",
       " '__ne__',\n",
       " '__new__',\n",
       " '__reduce__',\n",
       " '__reduce_ex__',\n",
       " '__repr__',\n",
       " '__rmod__',\n",
       " '__rmul__',\n",
       " '__setattr__',\n",
       " '__sizeof__',\n",
       " '__str__',\n",
       " '__subclasshook__',\n",
       " 'capitalize',\n",
       " 'casefold',\n",
       " 'center',\n",
       " 'count',\n",
       " 'encode',\n",
       " 'endswith',\n",
       " 'expandtabs',\n",
       " 'find',\n",
       " 'format',\n",
       " 'format_map',\n",
       " 'index',\n",
       " 'isalnum',\n",
       " 'isalpha',\n",
       " 'isascii',\n",
       " 'isdecimal',\n",
       " 'isdigit',\n",
       " 'isidentifier',\n",
       " 'islower',\n",
       " 'isnumeric',\n",
       " 'isprintable',\n",
       " 'isspace',\n",
       " 'istitle',\n",
       " 'isupper',\n",
       " 'join',\n",
       " 'ljust',\n",
       " 'lower',\n",
       " 'lstrip',\n",
       " 'maketrans',\n",
       " 'partition',\n",
       " 'removeprefix',\n",
       " 'removesuffix',\n",
       " 'replace',\n",
       " 'rfind',\n",
       " 'rindex',\n",
       " 'rjust',\n",
       " 'rpartition',\n",
       " 'rsplit',\n",
       " 'rstrip',\n",
       " 'split',\n",
       " 'splitlines',\n",
       " 'startswith',\n",
       " 'strip',\n",
       " 'swapcase',\n",
       " 'title',\n",
       " 'translate',\n",
       " 'upper',\n",
       " 'zfill']"
      ]
     },
     "execution_count": 45,
     "metadata": {},
     "output_type": "execute_result"
    }
   ],
   "source": [
    "dir(S)"
   ]
  },
  {
   "cell_type": "code",
   "execution_count": 46,
   "id": "a53b5026-b078-4764-ad29-428dfa5f6ec3",
   "metadata": {
    "tags": []
   },
   "outputs": [
    {
     "name": "stdout",
     "output_type": "stream",
     "text": [
      "12\n",
      "He found it fun\n"
     ]
    }
   ],
   "source": [
    "a = \"He found it boring and he left\"\n",
    "loc = a.find(\"boring\")\n",
    "print(loc)\n",
    "a = a[:loc] + \"fun\"\n",
    "print(a)"
   ]
  },
  {
   "cell_type": "code",
   "execution_count": 47,
   "id": "6076f93a-0d6f-4fb5-a3d9-eec90b7d9fe1",
   "metadata": {
    "tags": []
   },
   "outputs": [
    {
     "name": "stdout",
     "output_type": "stream",
     "text": [
      "cars and trucks and motorcycles\n"
     ]
    }
   ],
   "source": [
    "b = ' and '.join([\"cars\", \"trucks\", \"motorcycles\"])\n",
    "print(b)"
   ]
  },
  {
   "cell_type": "code",
   "execution_count": 48,
   "id": "07b5bc3f-824a-4f54-8d6c-59649a54b84c",
   "metadata": {
    "tags": []
   },
   "outputs": [
    {
     "name": "stdout",
     "output_type": "stream",
     "text": [
      "['cars', 'and', 'trucks', 'and', 'motorcycles']\n",
      "['cars', 'trucks', 'motorcycles']\n"
     ]
    }
   ],
   "source": [
    "c = b.split()\n",
    "print(c)\n",
    "d = b.split(\" and \")\n",
    "print(d)"
   ]
  },
  {
   "cell_type": "markdown",
   "id": "2c13fd2a-389d-4e9b-92e3-bd0e33347ad4",
   "metadata": {},
   "source": [
    "## 문자열 출력 {}"
   ]
  },
  {
   "cell_type": "code",
   "execution_count": 49,
   "id": "03ac0b8a",
   "metadata": {
    "tags": []
   },
   "outputs": [
    {
     "name": "stdout",
     "output_type": "stream",
     "text": [
      "1 002\n",
      "1 002\n",
      "1 002\n"
     ]
    }
   ],
   "source": [
    "a=1;b=2\n",
    "print('%d %03d' % (a, b))\n",
    "print('{} {:03d}'.format(a, b))\n",
    "print(f'{a} {b:03d}')"
   ]
  },
  {
   "cell_type": "code",
   "execution_count": 50,
   "id": "4432ffd3-cf4c-402f-984b-c142a957fbb9",
   "metadata": {
    "tags": []
   },
   "outputs": [
    {
     "name": "stdout",
     "output_type": "stream",
     "text": [
      "My name is Park. I’m  25 years old\n",
      "My name is Park. I’m 25 years old\n",
      "My height is 178.3. I’m  25 years old\n"
     ]
    }
   ],
   "source": [
    "name=\"Park\"; age=25; height=178.34\n",
    "print(\"My name is \" + name +\". I’m \" , age, \"years old\")\n",
    "print(\"My name is {}. I’m {} years old\".format(name,age))\n",
    "print(\"My height is {:4.1f}. I’m {:3d} years old\".format(height,age))\n"
   ]
  },
  {
   "cell_type": "code",
   "execution_count": 51,
   "id": "61bbfa0d-92eb-49cd-9f68-2ee3a8bb50ac",
   "metadata": {
    "tags": []
   },
   "outputs": [
    {
     "data": {
      "text/plain": [
       "'value=(2,5)'"
      ]
     },
     "execution_count": 51,
     "metadata": {},
     "output_type": "execute_result"
    }
   ],
   "source": [
    "\"value=({},{})\".format(2,5)"
   ]
  },
  {
   "cell_type": "code",
   "execution_count": 52,
   "id": "f4c5203c-95e3-4e87-8e50-30e48ed35c14",
   "metadata": {
    "tags": []
   },
   "outputs": [
    {
     "data": {
      "text/plain": [
       "'value=(5,2)'"
      ]
     },
     "execution_count": 52,
     "metadata": {},
     "output_type": "execute_result"
    }
   ],
   "source": [
    "\"value=({1},{0})\".format(2,5)"
   ]
  },
  {
   "cell_type": "code",
   "execution_count": 53,
   "id": "2b639e4c-46ff-4643-81b4-5a7422e24b2b",
   "metadata": {
    "tags": []
   },
   "outputs": [
    {
     "data": {
      "text/plain": [
       "'value=35.6,139.6'"
      ]
     },
     "execution_count": 53,
     "metadata": {},
     "output_type": "execute_result"
    }
   ],
   "source": [
    "\"value={lati},{longi}\".format(lati=35.6,longi=139.6)"
   ]
  },
  {
   "cell_type": "markdown",
   "id": "76b67de4-2b5a-4aa2-9bfb-084b1c6b854d",
   "metadata": {},
   "source": [
    "## 문자열 출력 f"
   ]
  },
  {
   "cell_type": "code",
   "execution_count": 54,
   "id": "455460b4-93d3-4cca-bf5e-41c79ee098cd",
   "metadata": {
    "tags": []
   },
   "outputs": [
    {
     "name": "stdout",
     "output_type": "stream",
     "text": [
      "My name is {name}. I’m {age} years old\n",
      "My name is Park. I’m 25 years old\n"
     ]
    }
   ],
   "source": [
    "name=\"Park\"; age=25; height=178.34\n",
    "str=\"My name is {name}. I’m {age} years old\"\n",
    "str1=f\"My name is {name}. I’m {age} years old\"\n",
    "print(str);print(str1)"
   ]
  },
  {
   "cell_type": "code",
   "execution_count": 55,
   "id": "ea976836-e825-41b0-b5b2-6977dec64ec7",
   "metadata": {
    "tags": []
   },
   "outputs": [
    {
     "name": "stdout",
     "output_type": "stream",
     "text": [
      "My height is 178.3. I’m  25 years old\n",
      "Park: height=178.3,age=25y\n",
      "'Park': height=178.3,age= 25y\n"
     ]
    }
   ],
   "source": [
    "str2=f\"My height is {height:4.1f}. I’m {age:3d} years old\"\n",
    "print(str2)\n",
    "print(f\"{name}: {height=:4.1f},{age=:d}y\")\n",
    "print(f\"{name!r}: {height=:4.1f},{age=:3d}y\")"
   ]
  },
  {
   "cell_type": "markdown",
   "id": "5228b082-9e24-4e22-ab47-901afdc0cb3c",
   "metadata": {},
   "source": [
    "## input"
   ]
  },
  {
   "cell_type": "code",
   "execution_count": 58,
   "id": "5f1b1751-c574-464d-882f-7f2d98308d9d",
   "metadata": {
    "tags": []
   },
   "outputs": [
    {
     "name": "stdin",
     "output_type": "stream",
     "text": [
      "Please enter #: 50\n"
     ]
    },
    {
     "name": "stdout",
     "output_type": "stream",
     "text": [
      "You entered 50\n"
     ]
    }
   ],
   "source": [
    "str=input(\"Please enter #:\")\n",
    "x = int(str)\n",
    "print(\"You entered {}\".format(x))"
   ]
  },
  {
   "cell_type": "code",
   "execution_count": 59,
   "id": "ed77bb4e-f8f3-4234-bc1a-c1dd271091d5",
   "metadata": {
    "tags": []
   },
   "outputs": [
    {
     "name": "stdin",
     "output_type": "stream",
     "text": [
      "Enter two numbers: 20 25\n"
     ]
    },
    {
     "name": "stdout",
     "output_type": "stream",
     "text": [
      "You entered two numbers to sum:20+25=45\n"
     ]
    }
   ],
   "source": [
    "a,b=input(\"Enter two numbers:\").split()\n",
    "a=int(a);b=int(b)\n",
    "print(\"You entered two numbers to sum:{}+{}={}\".format(a,b,a+b))"
   ]
  },
  {
   "cell_type": "markdown",
   "id": "f6337fd7-3ef6-4d85-a44b-d77d597973f9",
   "metadata": {},
   "source": [
    "## 모음 자료형"
   ]
  },
  {
   "cell_type": "code",
   "execution_count": 60,
   "id": "03955eb5-629b-4dc8-ab26-f7862fda8fe9",
   "metadata": {
    "tags": []
   },
   "outputs": [],
   "source": [
    "a=[1, 3, 5, 7, 11]\n",
    "b=[0, 1, 'boom']\n",
    "colors = ['red', 'green', 'gold']"
   ]
  },
  {
   "cell_type": "code",
   "execution_count": 61,
   "id": "265f045f-794f-489c-b508-45614f473026",
   "metadata": {
    "tags": []
   },
   "outputs": [
    {
     "name": "stdout",
     "output_type": "stream",
     "text": [
      "b= [[0, 2, 5], 3, 4]\n",
      "b[0][1]= 2\n",
      "c= [0, 2, 5, [0, 2, 5], 3, 4]\n"
     ]
    }
   ],
   "source": [
    "a=[0,2,5]\n",
    "b=[a,3,4]\n",
    "print (\"b=\",b)\n",
    "print (\"b[0][1]=\",b[0][1])\n",
    "#print (b[1][0]) #TypeError: 'int' object is unsubscriptable\n",
    "c=a+b\n",
    "print(\"c=\",c)"
   ]
  },
  {
   "cell_type": "code",
   "execution_count": 62,
   "id": "cd3687a6-8570-47f9-abb8-39a455f2291c",
   "metadata": {
    "tags": []
   },
   "outputs": [
    {
     "name": "stdout",
     "output_type": "stream",
     "text": [
      "[2, 3]\n",
      "[2, 3]\n"
     ]
    }
   ],
   "source": [
    "x = [2,3,1]\n",
    "x.remove(1) # removes the 1, not the item at position 1!!\n",
    "print(x)\n",
    "x1=x[:]\n",
    "print(x1)"
   ]
  },
  {
   "cell_type": "code",
   "execution_count": 63,
   "id": "04275eeb-8616-49fc-9d19-c24c44b90252",
   "metadata": {
    "tags": []
   },
   "outputs": [
    {
     "name": "stdout",
     "output_type": "stream",
     "text": [
      "[2, 3, [5, 4]]\n",
      "[2, 3, 5, 4]\n"
     ]
    }
   ],
   "source": [
    "x.append([5,4]) #insert the object to the end\n",
    "print(x)\n",
    "x1.extend([5,4])#insert the elements of the object to the end\n",
    "print(x1)"
   ]
  },
  {
   "cell_type": "code",
   "execution_count": 64,
   "id": "7f887b25-d241-4cc1-aad0-64960fae4ee3",
   "metadata": {
    "tags": []
   },
   "outputs": [
    {
     "name": "stdout",
     "output_type": "stream",
     "text": [
      "[2, 3, 4, 5]\n",
      "[5, 4, 3, 2]\n"
     ]
    }
   ],
   "source": [
    "x1.sort()\n",
    "print(x1)\n",
    "x1.reverse()\n",
    "print(x1)"
   ]
  },
  {
   "cell_type": "markdown",
   "id": "2ce0883e-8d1d-416e-b024-2dda26a9d39e",
   "metadata": {},
   "source": [
    "## 메모리 참조와 형성"
   ]
  },
  {
   "cell_type": "code",
   "execution_count": null,
   "id": "ec1d2be9-9bc2-4bc3-8aa8-3196e926403d",
   "metadata": {},
   "outputs": [],
   "source": []
  }
 ],
 "metadata": {
  "kernelspec": {
   "display_name": "Python 3 (ipykernel)",
   "language": "python",
   "name": "python3"
  },
  "language_info": {
   "codemirror_mode": {
    "name": "ipython",
    "version": 3
   },
   "file_extension": ".py",
   "mimetype": "text/x-python",
   "name": "python",
   "nbconvert_exporter": "python",
   "pygments_lexer": "ipython3",
   "version": "3.10.13"
  }
 },
 "nbformat": 4,
 "nbformat_minor": 5
}

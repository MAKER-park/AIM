{
 "cells": [
  {
   "cell_type": "markdown",
   "metadata": {},
   "source": [
    "## 기본 변수 사용\n",
    "\n",
    "### print\n",
    "\n",
    "1. Hello, World!를 출력해 보시오.\n",
    "\n",
    "2. 오늘 날짜를 프린트하고, 학번 + 이름을 화면에 출력하시오"
   ]
  },
  {
   "cell_type": "code",
   "execution_count": 3,
   "metadata": {
    "tags": []
   },
   "outputs": [],
   "source": [
    "from datetime import date\n",
    "import datetime"
   ]
  },
  {
   "cell_type": "code",
   "execution_count": 109,
   "metadata": {
    "tags": []
   },
   "outputs": [
    {
     "name": "stdout",
     "output_type": "stream",
     "text": [
      "Hello, World!\n",
      "2023년09월25일 2023311900 박재완\n"
     ]
    }
   ],
   "source": [
    "# 여기에 구현\n",
    "print(\"Hello, World!\")\n",
    "today = datetime.datetime.today()\n",
    "print(str(today.strftime('%Y년%m월%d일')) + \" 2023311900 박재완\")"
   ]
  },
  {
   "cell_type": "markdown",
   "metadata": {},
   "source": [
    "### variable"
   ]
  },
  {
   "cell_type": "markdown",
   "metadata": {},
   "source": [
    "### 3. 다음 조건을 만족하는 프로그램을 작성하시오\n",
    "\n",
    "**조건**     \n",
    "\n",
    "1) 변수 x에 2를 저장, 변수 y에 3을 저장한다.\n",
    "\n",
    "2) z를 x와 y의 합으로 저장한다.\n",
    "\n",
    "3) z값을 출력한다.\n",
    "\n",
    "4) 이때 print문 안에 변수 x, y를 모두 사용하여 최종 출력이 “2+3=5” 형태가 되게 한다. x, y의 변수에 다른 값을 넣으면 새로운 값에 맞게 출력되게 한다. 이때 서로 다른 세가지 방식, 즉, %, format, f 방식을 사용해서 각각 출력한다. \n",
    "\n",
    " "
   ]
  },
  {
   "cell_type": "code",
   "execution_count": 22,
   "metadata": {
    "tags": []
   },
   "outputs": [
    {
     "name": "stdout",
     "output_type": "stream",
     "text": [
      "2 + 3 = 5\n"
     ]
    }
   ],
   "source": [
    "x = 2 \n",
    "y = 3\n",
    "z = x+y\n",
    "print(\"%d + %d = %d\" %(x,y,z))"
   ]
  },
  {
   "cell_type": "markdown",
   "metadata": {},
   "source": [
    "4. 식 (20x5) + (34 -2) - 72/5 의 계산 결과는?"
   ]
  },
  {
   "cell_type": "code",
   "execution_count": 25,
   "metadata": {
    "tags": []
   },
   "outputs": [
    {
     "name": "stdout",
     "output_type": "stream",
     "text": [
      "(20x5) + (34 -2) - 72/5 =  117.6\n"
     ]
    }
   ],
   "source": [
    "print(\"(20x5) + (34 -2) - 72/5 = \" , (20*5) + (34-2) - 72/5)"
   ]
  },
  {
   "cell_type": "markdown",
   "metadata": {
    "tags": []
   },
   "source": [
    "## format\n",
    "\n",
    "5. format을 활용하면 출력문을 간단하게 만들 수 있다. format은 print()문의 문자열 내의 {}에 들어갈 변수를 설정하는 역할을 한다. 또한, {}안에 \":폭.정밀도\"와 같이 출력할 변수의 폭과 정밀도(유효숫자)를 설정할 수도 있다. 아래 예시에서 {:8.2}는 폭이 8(8개의 글자 공간), 유효숫자는 2개로 출력하라는 의미이다. 먼저 BMI 수식을 작성해 보시오. 다음을 변경시켜서 총 문자열 길이가 6개로 하고 소수 첫째자리로 하되 반올림이 되는지 확인하시오. "
   ]
  },
  {
   "cell_type": "code",
   "execution_count": 30,
   "metadata": {
    "tags": []
   },
   "outputs": [
    {
     "name": "stdout",
     "output_type": "stream",
     "text": [
      "Tom works at Yonsei University\n",
      "Tom works at Yonsei University\n",
      "His height is  175.7, BMI is   22.7\n"
     ]
    }
   ],
   "source": [
    "name = 'Tom'\n",
    "work = 'Yonsei University'\n",
    "height = 175.715\n",
    "weight=70.0\n",
    "#BMI 체질량지수는 자신의 몸무게(kg)를 키의 제곱(m)으로 나눈 값입니다.\n",
    "BMI = weight/(height/100)**2\n",
    "print(name, \"works at\", work)\n",
    "print(\"{} works at {}\".format(name, work))\n",
    "print(\"His height is {:6.1f}, BMI is {:6.1f}\".format(height, BMI))"
   ]
  },
  {
   "cell_type": "markdown",
   "metadata": {},
   "source": [
    "5.1. 위의 내용을 f\" \" 를 이용해서 구현하세요."
   ]
  },
  {
   "cell_type": "code",
   "execution_count": 31,
   "metadata": {
    "tags": []
   },
   "outputs": [
    {
     "name": "stdout",
     "output_type": "stream",
     "text": [
      "Tom works at Yonsei University\n",
      "His height is  175.7, BMI is   22.7\n"
     ]
    }
   ],
   "source": [
    "print(f\"{name} works at {work}\")\n",
    "print(f\"His height is {height:6.1f}, BMI is {BMI:6.1f}\")"
   ]
  },
  {
   "cell_type": "markdown",
   "metadata": {},
   "source": [
    "## 연산자\n",
    "\n",
    "6. 각 프린트문이 출력하는 화면을 적으시오, 단 에러가 나는 경우는 에러를 적으시오\n",
    "\n",
    "A, B, C, D = 2, 7, 3, 17\n",
    "\n",
    "(1) print(A + B) \n",
    "\n",
    "(2) print(B % C)\n",
    "\n",
    "(3) print(A % B - C)\n",
    "\n",
    "(4) print(D // B*A)\n",
    "\n",
    "(5) print((A+B) * D // A)\n",
    "\n",
    "(6) print(B**A % A * C)\n",
    "\n",
    "(7) print(D / (A** (A ** A + 1)) + 1)\n",
    "\n",
    "(8) print(C * (A % A) // A)\n",
    "\n",
    "(9) print(C % (A * B) + D)\n",
    "\n",
    "(10) print(D // (C ** C -5))"
   ]
  },
  {
   "cell_type": "code",
   "execution_count": 28,
   "metadata": {
    "tags": []
   },
   "outputs": [
    {
     "name": "stdout",
     "output_type": "stream",
     "text": [
      "9\n",
      "1\n",
      "-1\n",
      "4\n",
      "76\n",
      "3\n",
      "1.53125\n",
      "0\n",
      "20\n",
      "0\n"
     ]
    }
   ],
   "source": [
    "A, B, C, D = 2, 7, 3, 17\n",
    "print(A + B)\n",
    "print(B % C)\n",
    "print(A % B - C)\n",
    "print(D // B*A)\n",
    "print((A+B) * D // A)\n",
    "print(B**A % A * C)\n",
    "print(D / (A** (A ** A + 1)) + 1)\n",
    "print(C * (A % A) // A)\n",
    "print(C % (A * B) + D)\n",
    "print(D // (C ** C -5))"
   ]
  },
  {
   "cell_type": "markdown",
   "metadata": {},
   "source": [
    "7. 다음 조건을 만족하는 프로그램을 작성하시오\n",
    "\n",
    " **조건**  \n",
    "        1) A에 3을 저장하고, B에 7을 저장한다\n",
    "        2) C는 B를 A로 나눈 정수 몫으로 저장한다\n",
    "        3) A, B, C의 값을 모두 출력한다."
   ]
  },
  {
   "cell_type": "code",
   "execution_count": 33,
   "metadata": {
    "tags": []
   },
   "outputs": [
    {
     "name": "stdout",
     "output_type": "stream",
     "text": [
      "3 7 2.3333333333333335\n"
     ]
    }
   ],
   "source": [
    "A , B , C = 3 , 7 , B/A\n",
    "print(A , B , C)"
   ]
  },
  {
   "cell_type": "markdown",
   "metadata": {},
   "source": [
    "## boolean\n",
    "\n",
    "8. 각각의 print()문이 출력하는 값을 적으시오, 단 에러가 나는 경우는 error를 적으시오. 그러한 다음 아래 코드를 실행해 보세요\n",
    "\n",
    "(1) print(3>0 != 2>1)\n",
    "\n",
    "(2) print(2 != 3 == 3 != 2)\n",
    "\n",
    "(3) print((3 == 1) ^ (4>2) & (1<0))\n",
    "\n",
    "(4) print((1 != 1) | (3>0 & 5 <1))\n",
    "\n",
    "(5) print(2 <= 3 ^ 5 ~= 1 ^ 3 == 3)\n"
   ]
  },
  {
   "cell_type": "code",
   "execution_count": 36,
   "metadata": {
    "tags": []
   },
   "outputs": [
    {
     "name": "stdout",
     "output_type": "stream",
     "text": [
      "True\n",
      "True\n",
      "False\n",
      "True\n",
      "False\n"
     ]
    }
   ],
   "source": [
    "print(3>0 != 2>1) # 질문 하기\n",
    "print(2 != 3 == 3 != 2)\n",
    "print((3 == 1) ^ (4>2) & (1<0))\n",
    "print((1 != 1) | (3>0 & 5 <1))\n",
    "print(2 <= 3 ^ 5 != 1 ^ 3 == 3) # error 2 <= 3 ^ 5 ~= 1 ^ 3 == 3 insted of 2 <= 3 ^ 5 != 1 ^ 3 == 3"
   ]
  },
  {
   "cell_type": "markdown",
   "metadata": {},
   "source": [
    "## 문자열\n",
    "9. 본인의 학번 + 이름 + 생년월일을 한 줄로 출력해 보시오."
   ]
  },
  {
   "cell_type": "code",
   "execution_count": 38,
   "metadata": {
    "tags": []
   },
   "outputs": [
    {
     "name": "stdout",
     "output_type": "stream",
     "text": [
      "2023311900 park jae wan 970219\n"
     ]
    }
   ],
   "source": [
    "id='2023311900'\n",
    "name='park jae wan'\n",
    "birth='970219'\n",
    "print(id,name,birth)"
   ]
  },
  {
   "cell_type": "markdown",
   "metadata": {},
   "source": [
    "슬라이싱은 문자열의 특정한 부분을 추출하는 작업이다. \n",
    "특정한 문자를 사용하기 위해선 []안에 하나의 인덱스를 넣는 반면, 특정한 부분을 사용하기 위해서는 []안에 인덱스의 범위를 넣는다. \n",
    "예를들면, [0:3]은 인덱스 0 에서 3 전까지의 인덱스를 호출하는 것이다.\n",
    "음수를 슬라이싱에도 활용할 수 있는데, 이 경우, [작은 인덱스 : 큰 인덱스]의 형식으로 사용해야 한다.\n",
    "\n",
    "string = \"PYTHON\"\n",
    "\n",
    "print(\"*\" * 5 + \" 정방향\" + \"*\" * 5)\n",
    "\n",
    "print(string[0:2])\n",
    "\n",
    "print(string[4:5])\n",
    "\n",
    "print(\"*\" * 5 + \" 역방향\" + \"*\" * 5)\n",
    "\n",
    "print(string[-3:-1])\n",
    "\n",
    "print(string[-6:-5])"
   ]
  },
  {
   "cell_type": "code",
   "execution_count": 39,
   "metadata": {
    "tags": []
   },
   "outputs": [
    {
     "name": "stdout",
     "output_type": "stream",
     "text": [
      "***** 정방향*****\n",
      "PY\n",
      "O\n",
      "***** 역방향*****\n",
      "HO\n",
      "P\n"
     ]
    }
   ],
   "source": [
    "string = \"PYTHON\"\n",
    "print(\"*\" * 5 + \" 정방향\" + \"*\" * 5)\n",
    "print(string[0:2])\n",
    "print(string[4:5])\n",
    "print(\"*\" * 5 + \" 역방향\" + \"*\" * 5)\n",
    "print(string[-3:-1])\n",
    "print(string[-6:-5])"
   ]
  },
  {
   "cell_type": "markdown",
   "metadata": {},
   "source": [
    "10. 파이선의 문자열은 다양한 함수를 지원한다. 아래의 함수들은 별도의 조작 없이도 바로 사용이 가능하다.\n",
    "\n",
    "string = \"I love Severance!\"\n",
    "\n",
    "string.lower()\n",
    "\n",
    "string.upper()\n",
    "\n",
    "string.title()\n",
    "\n",
    "string.count('E')          # A의 문자 개수 세기\n",
    "\n",
    "string.endswith('B')    # 마지막 문자가 B 인지 여부\n",
    "\n",
    "string.split()        # 문자열을 공백으로 자른 후 리스트에 저장\n",
    "\n",
    "string.split(',')      # 문자열을 ,으로 자른 후 리스트에 저장\n",
    "\n",
    "len(string)        # 길이 측정"
   ]
  },
  {
   "cell_type": "code",
   "execution_count": 40,
   "metadata": {
    "tags": []
   },
   "outputs": [
    {
     "name": "stdout",
     "output_type": "stream",
     "text": [
      "i love severance,!\n",
      "I LOVE SEVERANCE,!\n",
      "I Love Severance,!\n",
      "0\n",
      "False\n",
      "['I', 'love', 'Severance,!']\n",
      "['I love Severance', '!']\n",
      "18\n"
     ]
    }
   ],
   "source": [
    "string = \"I love Severance,!\"\n",
    "print(string.lower())\n",
    "print(string.upper())\n",
    "print(string.title())\n",
    "print(string.count('E')) # A의 문자 개수 세기 ??\n",
    "print(string.endswith('B')) # 마지막 문자가 B 인지 여부\n",
    "print(string.split()) # 문자열을 공백으로 자른 후 리스트에 저장\n",
    "print(string.split(',')) # 문자열을 ,으로 자른 후 리스트에 저장\n",
    "print(len(string)) # 길이 측정"
   ]
  },
  {
   "cell_type": "markdown",
   "metadata": {},
   "source": [
    "11. 다음 문장을 위 함수를 사용하여 문법에 맞게 고쳐보고, 각 함수를 한번 이상씩 사용해 보시오\n",
    "\n",
    "string = \"I am a student at Yonsei University.\""
   ]
  },
  {
   "cell_type": "code",
   "execution_count": 45,
   "metadata": {
    "tags": []
   },
   "outputs": [
    {
     "name": "stdout",
     "output_type": "stream",
     "text": [
      "i am a student at yonsei university.\n",
      "I AM A STUDENT AT YONSEI UNIVERSITY.\n",
      "I Am A Student At Yonsei University.\n",
      "0\n",
      "False\n",
      "['I', 'am', 'a', 'student', 'at', 'Yonsei', 'University.']\n",
      "['I am a student at Yonsei University.']\n",
      "36\n"
     ]
    }
   ],
   "source": [
    "string = \"I am a student at Yonsei University.\"\n",
    "print(string.lower())\n",
    "print(string.upper())\n",
    "print(string.title())\n",
    "print(string.count('A')) # A의 문자 개수 세기\n",
    "print(string.endswith('B')) # 마지막 문자가 B 인지 여부\n",
    "print(string.split()) # 문자열을 공백으로 자른 후 리스트에 저장\n",
    "print(string.split(',')) # 문자열을 ,으로 자른 후 리스트에 저장\n",
    "print(len(string)) # 길이 측정"
   ]
  },
  {
   "cell_type": "markdown",
   "metadata": {},
   "source": [
    "## 입력문\n",
    "\n",
    "12. 수를 두 개 입력받아, 처음 입력받은 수가 두 번째 입력받은 수보다 클 때, True 를 출력하고, 아니면 False를 출력하는 프로그램을 작성해 보시오. \n",
    "\n",
    "힌트, input 함수를 사용한다. first=input('First number?'). input 함수는 출력으로 문자열을 리턴하기에 이를 숫자로 바꾸어서 사용한다. 예를 들어, 정수로 바꾸려면, int 형변환함수를 사용한다. first=int(input('First number?')) \n",
    "\n",
    "First number?       3\n",
    "Second number?         5\n",
    "The first is bigger than the second: "
   ]
  },
  {
   "cell_type": "code",
   "execution_count": 48,
   "metadata": {
    "tags": []
   },
   "outputs": [
    {
     "name": "stdin",
     "output_type": "stream",
     "text": [
      "First number? 3\n",
      "Second number? 2\n"
     ]
    },
    {
     "name": "stdout",
     "output_type": "stream",
     "text": [
      "True\n"
     ]
    }
   ],
   "source": [
    "first=input('First number?')\n",
    "second=input('Second number?')\n",
    "# 여기 부터 구현\n",
    "print(first>second)"
   ]
  },
  {
   "cell_type": "code",
   "execution_count": 50,
   "metadata": {
    "tags": []
   },
   "outputs": [
    {
     "name": "stdin",
     "output_type": "stream",
     "text": [
      "Enter two numbers with comma: 5,4\n"
     ]
    },
    {
     "name": "stdout",
     "output_type": "stream",
     "text": [
      "True\n"
     ]
    }
   ],
   "source": [
    "#한번에 입력을 받아 실행이 가능함\n",
    "first,second=input('Enter two numbers with comma:').split(',')\n",
    "# 여기 부터 구현\n",
    "print(first>second)"
   ]
  },
  {
   "cell_type": "markdown",
   "metadata": {},
   "source": [
    "13. 숫자 4개를 입력받아 평균과 분산을 계산해주는 프로그램을 작성하시오.  입력 받을때 for i in range(4): 를 사용하도록 한다."
   ]
  },
  {
   "cell_type": "code",
   "execution_count": 19,
   "metadata": {
    "tags": []
   },
   "outputs": [
    {
     "name": "stdin",
     "output_type": "stream",
     "text": [
      "Enter number 1 :  10\n",
      "Enter number 2 :  20\n",
      "Enter number 3 :  30\n",
      "Enter number 4 :  40\n"
     ]
    },
    {
     "name": "stdout",
     "output_type": "stream",
     "text": [
      "평균: 25.0\n",
      "분산: 125\n"
     ]
    }
   ],
   "source": [
    "#여기에 구현\n",
    "total , squared_total = 0 , 0\n",
    "\n",
    "for  i in range(4):\n",
    "    num = float(input(f\"Enter number {i+1} : \"))\n",
    "    total += num\n",
    "    squared_total += num ** 2\n",
    "#평균\n",
    "mean = total / 4\n",
    "print(f\"평균: {mean}\")\n",
    "\n",
    "#분산\n",
    "variance = (squared_total / 4) - (mean ** 2)\n",
    "print(f\"분산: {variance:.0f}\")"
   ]
  },
  {
   "cell_type": "markdown",
   "metadata": {},
   "source": [
    "### list\n",
    "\n",
    "14. 리스트는 내부 요소의 수정이 가능하다. 또한 + 와 * 연산을 지원한다. 아래 문항들들 통해 확인해보자"
   ]
  },
  {
   "cell_type": "code",
   "execution_count": 53,
   "metadata": {
    "tags": []
   },
   "outputs": [
    {
     "name": "stdout",
     "output_type": "stream",
     "text": [
      "['red', 'orange', 'yellow', 'green', 'blue', 'purple']\n",
      "green\n",
      "['red', 'orange', 'yellow', 'black', 'blue', 'purple']\n",
      "['red', 'orange', 'yellow', 'black', 'blue', 'purple', 'white']\n"
     ]
    }
   ],
   "source": [
    "colors = ['red', 'orange', 'yellow', 'green', 'blue', 'purple']\n",
    "print(colors)\n",
    "print(colors[3])\n",
    "colors[3] = 'black'\n",
    "print(colors)\n",
    "colors = colors + ['white']\n",
    "print(colors)"
   ]
  },
  {
   "cell_type": "markdown",
   "metadata": {},
   "source": [
    "15. 다음을 이해하고 실행해 보도록 하자."
   ]
  },
  {
   "cell_type": "code",
   "execution_count": 54,
   "metadata": {
    "tags": []
   },
   "outputs": [
    {
     "name": "stdout",
     "output_type": "stream",
     "text": [
      "['Julio', 'Kane', 'KaKa', 'Messi']\n",
      "KaneMessi\n",
      "['Julio', 'Kane', 'KaKa', 'Messi']\n",
      "['Henry']\n",
      "['Kane', 'KaKa', 'Ronaldo', 'Henry']\n"
     ]
    }
   ],
   "source": [
    "friends = ['Julio', 'Kane', 'KaKa', 'Messi']\n",
    "legends = ['Ronaldo', 'Henry', 'Beckham']\n",
    "print(friends)\n",
    "sub = friends[1] + friends[3]\n",
    "print(sub)\n",
    "print(friends[0:4])\n",
    "print(legends[1:2])\n",
    "print(friends[1:3] + legends[0:2])"
   ]
  },
  {
   "cell_type": "markdown",
   "metadata": {},
   "source": [
    "16. 다음을 이해하고 실행해 보자."
   ]
  },
  {
   "cell_type": "code",
   "execution_count": 55,
   "metadata": {
    "tags": []
   },
   "outputs": [
    {
     "name": "stdout",
     "output_type": "stream",
     "text": [
      "3\n",
      "[5, 2]\n",
      "music\n",
      "17\n",
      "['A', [5, 2, 10]]\n"
     ]
    }
   ],
   "source": [
    "myList = ['A', [5,2], 'music']\n",
    "print(len(myList))\n",
    "print(myList[1]) \n",
    "myList[1].append(10)\n",
    "print(myList.pop())\n",
    "print(sum(myList[1]))\n",
    "print(myList)"
   ]
  },
  {
   "cell_type": "markdown",
   "metadata": {},
   "source": [
    " ## Dictionary \n",
    "\n",
    "17. 파이썬은 딕셔너리를 편하게 다룰 수 있는 함수를 제공한다. 리스트와 튜플처럼 인덱싱을 통한 조작은 불가능하지만, Key를 통한 조작이 가능하다. 다음은 자주 사용되는 딕셔너리에 관한 함수이다. \n",
    "\n",
    "dict.get(key)           # key값을 리턴\n",
    "\n",
    "dict.pop(key)           # 키의 값을 리턴하고 삭제\n",
    "\n",
    "dict.popitem()          # 임의의 데이터를 리턴하고 삭제\n",
    "\n",
    "dict.update(supdict)   # 딕셔너리 데이터를 더하여 갱신\n",
    "\n",
    "dict.keys()                 # 딕셔너리의 키들을 리턴\n",
    "\n",
    "dict.values()            # 딕셔너리의 값들을 리턴\n",
    "\n",
    "dict.items()            # 딕셔너리의 데이터(키와 값의 쌍)을 리턴\n",
    "\n",
    "\n",
    "각 사용 예시들을 다음 자료에 대해 한번씩 사용해보시오."
   ]
  },
  {
   "cell_type": "code",
   "execution_count": 56,
   "metadata": {
    "tags": []
   },
   "outputs": [
    {
     "name": "stdout",
     "output_type": "stream",
     "text": [
      "178\n",
      "{'Jun': 178, 'Mina': 164, 'Tom': 182}\n",
      "164 {'Jun': 178, 'Tom': 182}\n",
      "('Robin', 146) {'Jun': 178, 'Tom': 182}\n",
      "{'Jun': 178, 'Tom': 182, 'Billy': 188, 'Dony': 172}\n",
      "dict_keys(['Jun', 'Tom', 'Billy', 'Dony'])\n",
      "dict_values([178, 182, 188, 172])\n",
      "dict_items([('Jun', 178), ('Tom', 182), ('Billy', 188), ('Dony', 172)])\n"
     ]
    }
   ],
   "source": [
    "height = {'Jun' : 178, 'Mina' : 164}\n",
    "print(height.get('Jun'))\n",
    "height['Tom'] = 182\n",
    "print(height)\n",
    " \n",
    "a = height.pop('Mina')\n",
    "print(a, height)\n",
    "height['Robin'] = 146\n",
    "b = height.popitem()\n",
    "print(b, height)\n",
    "\n",
    "newheight = {'Billy' : 188, 'Dony' : 172}\n",
    "height.update(newheight)\n",
    "print(height)\n",
    "\n",
    "print(height.keys())\n",
    "print(height.values())\n",
    "print(height.items())"
   ]
  },
  {
   "cell_type": "markdown",
   "metadata": {},
   "source": [
    "## 제어문"
   ]
  },
  {
   "cell_type": "markdown",
   "metadata": {},
   "source": [
    "18. For, if, print 문을 사용하여 “나무를 {1번, 2번,...}번 찍었습니다.” N이 10이 되었을 때 “나무가 넘어갑니다.”를 출력하며 끝나는 프로그램을 작성하시오."
   ]
  },
  {
   "cell_type": "code",
   "execution_count": 59,
   "metadata": {
    "tags": []
   },
   "outputs": [
    {
     "name": "stdout",
     "output_type": "stream",
     "text": [
      "나무를  1 번 찍었습니다.\n",
      "나무를  2 번 찍었습니다.\n",
      "나무를  3 번 찍었습니다.\n",
      "나무를  4 번 찍었습니다.\n",
      "나무를  5 번 찍었습니다.\n",
      "나무를  6 번 찍었습니다.\n",
      "나무를  7 번 찍었습니다.\n",
      "나무를  8 번 찍었습니다.\n",
      "나무를  9 번 찍었습니다.\n",
      "나무를  10 번 찍었습니다.\n",
      "나무가 넘어 갑니다!\n"
     ]
    }
   ],
   "source": [
    "#여기서 구현\n",
    "for i in range(1,11):\n",
    "    print(\"나무를 \" , i , \"번 찍었습니다.\")\n",
    "    if(i == 10):\n",
    "        print(\"나무가 넘어 갑니다!\")"
   ]
  },
  {
   "cell_type": "markdown",
   "metadata": {},
   "source": [
    "19. For문을 활용하여 1부터 입력한 숫자 n까지의 합을 구하는 프로그램을 작성하시오."
   ]
  },
  {
   "cell_type": "code",
   "execution_count": 70,
   "metadata": {
    "tags": []
   },
   "outputs": [
    {
     "name": "stdin",
     "output_type": "stream",
     "text": [
      "input your n number :  100\n"
     ]
    },
    {
     "name": "stdout",
     "output_type": "stream",
     "text": [
      "5050\n"
     ]
    }
   ],
   "source": [
    "a = input(\"input your n number : \")\n",
    "c=0\n",
    "for i in range(1,int(a)+1):\n",
    "    c = c+i\n",
    "print(c)"
   ]
  },
  {
   "cell_type": "markdown",
   "metadata": {},
   "source": [
    "20. 다중반복문을 활용하여 구구단을 1단부터 9단까지 출력하는 프로그램을 작성하시오."
   ]
  },
  {
   "cell_type": "code",
   "execution_count": 77,
   "metadata": {
    "tags": []
   },
   "outputs": [
    {
     "name": "stdout",
     "output_type": "stream",
     "text": [
      "1 * 1 = 1 \t\n",
      "1 * 2 = 2 \t\n",
      "1 * 3 = 3 \t\n",
      "1 * 4 = 4 \t\n",
      "1 * 5 = 5 \t\n",
      "1 * 6 = 6 \t\n",
      "1 * 7 = 7 \t\n",
      "1 * 8 = 8 \t\n",
      "1 * 9 = 9 \t\n",
      "2 * 1 = 2 \t\n",
      "2 * 2 = 4 \t\n",
      "2 * 3 = 6 \t\n",
      "2 * 4 = 8 \t\n",
      "2 * 5 = 10 \t\n",
      "2 * 6 = 12 \t\n",
      "2 * 7 = 14 \t\n",
      "2 * 8 = 16 \t\n",
      "2 * 9 = 18 \t\n",
      "3 * 1 = 3 \t\n",
      "3 * 2 = 6 \t\n",
      "3 * 3 = 9 \t\n",
      "3 * 4 = 12 \t\n",
      "3 * 5 = 15 \t\n",
      "3 * 6 = 18 \t\n",
      "3 * 7 = 21 \t\n",
      "3 * 8 = 24 \t\n",
      "3 * 9 = 27 \t\n",
      "4 * 1 = 4 \t\n",
      "4 * 2 = 8 \t\n",
      "4 * 3 = 12 \t\n",
      "4 * 4 = 16 \t\n",
      "4 * 5 = 20 \t\n",
      "4 * 6 = 24 \t\n",
      "4 * 7 = 28 \t\n",
      "4 * 8 = 32 \t\n",
      "4 * 9 = 36 \t\n",
      "5 * 1 = 5 \t\n",
      "5 * 2 = 10 \t\n",
      "5 * 3 = 15 \t\n",
      "5 * 4 = 20 \t\n",
      "5 * 5 = 25 \t\n",
      "5 * 6 = 30 \t\n",
      "5 * 7 = 35 \t\n",
      "5 * 8 = 40 \t\n",
      "5 * 9 = 45 \t\n",
      "6 * 1 = 6 \t\n",
      "6 * 2 = 12 \t\n",
      "6 * 3 = 18 \t\n",
      "6 * 4 = 24 \t\n",
      "6 * 5 = 30 \t\n",
      "6 * 6 = 36 \t\n",
      "6 * 7 = 42 \t\n",
      "6 * 8 = 48 \t\n",
      "6 * 9 = 54 \t\n",
      "7 * 1 = 7 \t\n",
      "7 * 2 = 14 \t\n",
      "7 * 3 = 21 \t\n",
      "7 * 4 = 28 \t\n",
      "7 * 5 = 35 \t\n",
      "7 * 6 = 42 \t\n",
      "7 * 7 = 49 \t\n",
      "7 * 8 = 56 \t\n",
      "7 * 9 = 63 \t\n",
      "8 * 1 = 8 \t\n",
      "8 * 2 = 16 \t\n",
      "8 * 3 = 24 \t\n",
      "8 * 4 = 32 \t\n",
      "8 * 5 = 40 \t\n",
      "8 * 6 = 48 \t\n",
      "8 * 7 = 56 \t\n",
      "8 * 8 = 64 \t\n",
      "8 * 9 = 72 \t\n",
      "9 * 1 = 9 \t\n",
      "9 * 2 = 18 \t\n",
      "9 * 3 = 27 \t\n",
      "9 * 4 = 36 \t\n",
      "9 * 5 = 45 \t\n",
      "9 * 6 = 54 \t\n",
      "9 * 7 = 63 \t\n",
      "9 * 8 = 72 \t\n",
      "9 * 9 = 81 \t\n"
     ]
    }
   ],
   "source": [
    "for i in range(1,10):\n",
    "    for j in range(1,10):\n",
    "        print(\"%d * %d = %d\" %(i,j,i*j))"
   ]
  },
  {
   "cell_type": "code",
   "execution_count": null,
   "metadata": {},
   "outputs": [],
   "source": []
  },
  {
   "cell_type": "code",
   "execution_count": null,
   "metadata": {},
   "outputs": [],
   "source": []
  },
  {
   "cell_type": "markdown",
   "metadata": {},
   "source": [
    "21. 다음 예시를 통해 for 문에서 break와 continue문이 어떠한 방식으로 실행되는지 확인해 보세요. 그런 다음 13이 몇번째에서 나타났는지 확인하는 코드를 추가해 보세요. \n",
    "print('I found 13 at {}!'.format(position))\n",
    "의 형태로 사용하기 위해 position 변수를 선언해서 이용하세요."
   ]
  },
  {
   "cell_type": "code",
   "execution_count": 82,
   "metadata": {
    "tags": []
   },
   "outputs": [
    {
     "name": "stdout",
     "output_type": "stream",
     "text": [
      "I found 13 at 4!\n"
     ]
    }
   ],
   "source": [
    "L = [1, 9, 4, 13, 5, 6]\n",
    "position = 0\n",
    "for i in L:\n",
    "    position = position + 1\n",
    "    if i in range(5,10):\n",
    "        continue\n",
    "    elif i == 13:\n",
    "        print('I found 13 at {}!'.format(position))\n",
    "        break"
   ]
  },
  {
   "cell_type": "markdown",
   "metadata": {},
   "source": [
    "22. Pocket = [‘paper, ‘card’, ‘cellphone’] 경우 중에서 입력 값이 이 중에서 주머니의 내용에 card가 있으면 “택시를 타고가라” cellphone이 있으면 “KaoT를 이용해라\". 둘 다 없으면 “걸어가라”를 출력할 수 있도록 프로그램을 작성하시오. (Pocket을 여러가지를 지정하며 테스트 할 수 있음)"
   ]
  },
  {
   "cell_type": "code",
   "execution_count": 88,
   "metadata": {
    "tags": []
   },
   "outputs": [
    {
     "name": "stdin",
     "output_type": "stream",
     "text": [
      "Choose one from ['paper', 'card', 'cellphone'] cellphone\n"
     ]
    },
    {
     "name": "stdout",
     "output_type": "stream",
     "text": [
      "KaoT를 이용해라\n"
     ]
    }
   ],
   "source": [
    "Pocket = ['paper', 'card', 'cellphone']\n",
    "cond=input(f'Choose one from {Pocket}')\n",
    "#여기 부터 구현\n",
    "if(cond == 'card'):\n",
    "    print(\"택시타고가라\")\n",
    "elif(cond == 'cellphone'):\n",
    "    print(\"KaoT를 이용해라\")\n",
    "else:\n",
    "    print(\"걸어가라\")\n",
    "        "
   ]
  },
  {
   "cell_type": "markdown",
   "metadata": {},
   "source": [
    "23. 주민번호 앞자리를 입력받아 65세 이상이면 old를 출력하는 프로그램을 작성하시오, (단 99세 이하의 사람들만 이 프로그램을 사용한다고 가정한다.)"
   ]
  },
  {
   "cell_type": "code",
   "execution_count": 6,
   "metadata": {
    "tags": []
   },
   "outputs": [],
   "source": [
    "def calculate_age(born):\n",
    "    today = date.today()\n",
    "    return today.year - born.year - ((today.month, today.day) < (born.month, born.day))"
   ]
  },
  {
   "cell_type": "code",
   "execution_count": 29,
   "metadata": {
    "tags": []
   },
   "outputs": [
    {
     "name": "stdin",
     "output_type": "stream",
     "text": [
      "주민등록번호 앞자리를 넣으세요: 300219\n"
     ]
    },
    {
     "name": "stdout",
     "output_type": "stream",
     "text": [
      "93\n",
      "old!!!\n"
     ]
    }
   ],
   "source": [
    "x = input(\"주민등록번호 앞자리를 넣으세요:\")\n",
    "#여기에 구현\n",
    "#970219 -> 1997\n",
    "if(int(x[0:2]) > 25): #100세 기준선 \n",
    "    x = '19' + x\n",
    "    birth = datetime.datetime.strptime(x, '%Y%m%d')\n",
    "    #print(birth.strftime('%Y%m%d'))\n",
    "    age = calculate_age(birth)\n",
    "    print(age)\n",
    "    if(age >= 65):\n",
    "        print(\"old!!!\")\n",
    "else:\n",
    "    x = '20' + x\n",
    "    birth = datetime.datetime.strptime(x, '%Y%m%d')\n",
    "    #print(birth.strftime('%Y%m%d'))\n",
    "    age = calculate_age(birth)\n",
    "    print(age)"
   ]
  },
  {
   "cell_type": "markdown",
   "metadata": {},
   "source": [
    "24. 한 점을 구성하는 (x, y) 좌표를 입력받고, 이 점이 (50,40), (50,80), (100,40), (100, 80)을 꼭지점으로 갖는 사각형 안에 있는지 판별하는 프로그램을 작성하시오."
   ]
  },
  {
   "cell_type": "code",
   "execution_count": 22,
   "metadata": {
    "tags": []
   },
   "outputs": [
    {
     "name": "stdin",
     "output_type": "stream",
     "text": [
      "좌표를 입력하세요 x,y 60,41\n"
     ]
    },
    {
     "name": "stdout",
     "output_type": "stream",
     "text": [
      "입력한 점은 사각형 안에 있습니다.\n"
     ]
    }
   ],
   "source": [
    "#x = int(input(\"좌표 x:\")); y = int(input(\"좌표 y:\"))\n",
    "x,y=input('좌표를 입력하세요 x,y').split(',');  x=int(x);y=int(y)\n",
    "#여기에 구현\n",
    "\n",
    "# 사각형의 꼭지점 좌표 정의\n",
    "x1, y1 = 50, 40\n",
    "x2, y2 = 50, 80\n",
    "x3, y3 = 100, 40\n",
    "x4, y4 = 100, 80\n",
    "\n",
    "# 입력받은 좌표가 사각형 안에 있는지 판별\n",
    "if x >= x1 and x <= x3 and y >= y1 and y <= y4:\n",
    "    print(\"입력한 점은 사각형 안에 있습니다.\")\n",
    "else:\n",
    "    print(\"입력한 점은 사각형 밖에 있습니다.\")\n"
   ]
  },
  {
   "cell_type": "markdown",
   "metadata": {},
   "source": [
    "25. 아래는 1에서 10사이의 한 난수를 생성한 후, 사용자가 입력한 숫자가 생성된 난수보다 큰지 작은지를 알려주고 계속 추측해서 그 생성된 난수값을 맞추게 하는 프로그램 예시이다. 난수를 발생시키기 위해 다음 라이브러리를 가져옵니다. 이를 실행하도록 합니다. 이 코드에서 빨리 맞출 수록 점수를 높게 하기 위해서 100점 만점에 횟수가 거듭될 수록 5점씩 차감하는 코드를 작성하세요.\n"
   ]
  },
  {
   "cell_type": "code",
   "execution_count": 25,
   "metadata": {
    "tags": []
   },
   "outputs": [
    {
     "name": "stdin",
     "output_type": "stream",
     "text": [
      "Guess number (Q to exit): 3\n"
     ]
    },
    {
     "name": "stdout",
     "output_type": "stream",
     "text": [
      "Choose higher number\n"
     ]
    },
    {
     "name": "stdin",
     "output_type": "stream",
     "text": [
      "Guess number (Q to exit): 2\n"
     ]
    },
    {
     "name": "stdout",
     "output_type": "stream",
     "text": [
      "Choose higher number\n"
     ]
    },
    {
     "name": "stdin",
     "output_type": "stream",
     "text": [
      "Guess number (Q to exit): 5\n"
     ]
    },
    {
     "name": "stdout",
     "output_type": "stream",
     "text": [
      "Choose higher number\n"
     ]
    },
    {
     "name": "stdin",
     "output_type": "stream",
     "text": [
      "Guess number (Q to exit): 6\n"
     ]
    },
    {
     "name": "stdout",
     "output_type": "stream",
     "text": [
      "Choose higher number\n"
     ]
    },
    {
     "name": "stdin",
     "output_type": "stream",
     "text": [
      "Guess number (Q to exit): 7\n"
     ]
    },
    {
     "name": "stdout",
     "output_type": "stream",
     "text": [
      "Choose higher number\n"
     ]
    },
    {
     "name": "stdin",
     "output_type": "stream",
     "text": [
      "Guess number (Q to exit): 8\n"
     ]
    },
    {
     "name": "stdout",
     "output_type": "stream",
     "text": [
      "Choose higher number\n"
     ]
    },
    {
     "name": "stdin",
     "output_type": "stream",
     "text": [
      "Guess number (Q to exit): 9\n"
     ]
    },
    {
     "name": "stdout",
     "output_type": "stream",
     "text": [
      "Correct!\n",
      "your score is  70\n"
     ]
    }
   ],
   "source": [
    "import random\n",
    "score = 100\n",
    "n = random.randrange(1, 10)\n",
    "while True:\n",
    "    ans1 = input(\"Guess number (Q to exit):\")\n",
    "    if ans1.upper() == \"Q\":\n",
    "        break\n",
    "    ans2 = int(ans1)\n",
    "    if (n == ans2):\n",
    "        print(\"Correct!\")\n",
    "        print(\"your score is \",score)\n",
    "        break\n",
    "    elif (n > ans2):\n",
    "        print(\"Choose higher number\")\n",
    "        score -=5\n",
    "    else:  \n",
    "        print(\"Choose lower number\")\n",
    "        score -=5"
   ]
  },
  {
   "cell_type": "markdown",
   "metadata": {},
   "source": [
    "## 함수"
   ]
  },
  {
   "cell_type": "markdown",
   "metadata": {},
   "source": [
    "함수1.\t1 에서 100까지 짝수만 더한 값을 계산하는 알고리즘을 만드시오."
   ]
  },
  {
   "cell_type": "code",
   "execution_count": 37,
   "metadata": {
    "tags": []
   },
   "outputs": [
    {
     "name": "stdout",
     "output_type": "stream",
     "text": [
      "2550\n"
     ]
    }
   ],
   "source": [
    "#다음을 수정해서 짝수만 더하는 함수를 작성하세요.\n",
    "def sum_even():\n",
    "    s = 0\n",
    "    for i in range(2, 101, 2):  # 2부터 100까지의 짝수만 더함\n",
    "        s += i\n",
    "    return s\n",
    "\n",
    "result = sum_even()\n",
    "print(result)"
   ]
  },
  {
   "cell_type": "markdown",
   "metadata": {},
   "source": [
    "2.\t위의 과제에서 임의의 값을 넣으면 입력된 값 xmax 보다 작은 짝수들을 더하는 함수를 만드세요. (그 함수를 호출하여 100, 1000을 입력값으로 해서 수행해서 작동 여부 확인)\n",
    "\n",
    "예) y = sum_even( xmax )"
   ]
  },
  {
   "cell_type": "code",
   "execution_count": 39,
   "metadata": {
    "tags": []
   },
   "outputs": [
    {
     "name": "stdout",
     "output_type": "stream",
     "text": [
      "250500\n"
     ]
    }
   ],
   "source": [
    "def sum_even(xmax):\n",
    "    s = 0\n",
    "    for i in range(2, xmax+1, 2):  # 2부터 100까지의 짝수만 더함\n",
    "        s += i\n",
    "    return s\n",
    "\n",
    "y=sum_even(1000)\n",
    "print(y)"
   ]
  },
  {
   "cell_type": "markdown",
   "metadata": {},
   "source": [
    "3.\t2번 과제에서처럼 ‘함수’를 만들되, ‘입력된 숫자’의 배수들을 더하되 ‘입력된 최대치’까지 더하는 함수를 만드세요. 가령 2의 배수는 number=2, 3의 배수는 number=3으로 한다. (그 함수를 호출하여 100까지 2의 배수, 3의 배수의 합을 구하기). 만일 number를 입력하지 않으면 디폴트로 number는 1로 설정하도록 하세요.\n",
    "\n",
    "예) y=sum_any( xmax, number ) "
   ]
  },
  {
   "cell_type": "code",
   "execution_count": null,
   "metadata": {},
   "outputs": [],
   "source": []
  },
  {
   "cell_type": "markdown",
   "metadata": {},
   "source": [
    "4.\t3번 과제에 연이어, 입력된 숫자의 배수들의 입력된 최대치 까지 합(xmax 이하의 배수들의 합)과 최대치 까지 몇개의 배수(xmax 이하에서 number의 배수의 갯수)가 있는지 리턴하는 함수를 만드세요.\n",
    "\n",
    "예) y,count=sum_any_count( xmax, number )"
   ]
  },
  {
   "cell_type": "code",
   "execution_count": null,
   "metadata": {},
   "outputs": [],
   "source": []
  },
  {
   "cell_type": "markdown",
   "metadata": {},
   "source": [
    "5.\t4번을 변경하여 임의의 숫자 리스트를 넣을때 그 숫자열 중에서 입력된 숫자의 배수들의 개수와 합을 리턴하는 함수를 만드세요 \n",
    "y,count=sum_any_count_list( xlist, number )"
   ]
  },
  {
   "cell_type": "code",
   "execution_count": null,
   "metadata": {},
   "outputs": [],
   "source": [
    "def sum_any_count_list( xlist, number ):\n",
    "    # 여기에 구현"
   ]
  },
  {
   "cell_type": "markdown",
   "metadata": {},
   "source": [
    "6.\trandom 함수를 import 하고 이용하여 1000개의 random 정수를 생성한 다음, 5번의 함수 y, count=sum_any_count_list( xlist, number ) 에 대입하는 코드를 작성하세요"
   ]
  },
  {
   "cell_type": "code",
   "execution_count": null,
   "metadata": {},
   "outputs": [],
   "source": [
    "import random\n",
    "x=random.random()\n",
    "print(x)"
   ]
  },
  {
   "cell_type": "code",
   "execution_count": null,
   "metadata": {},
   "outputs": [],
   "source": [
    "xlist=[]\n",
    "for i in range(10):\n",
    "    val=random.randrange(100)\n",
    "    xlist.append(val)\n",
    "\n",
    "y,count=sum_any_count_list(xlist,3)\n",
    "print('Total sum is ',y,' and the count is ',count)"
   ]
  },
  {
   "cell_type": "markdown",
   "metadata": {},
   "source": [
    "7.\tinput 함수를 사용하여 위의 random 정수의 갯수를 입력 받아서 5번 함수 y,count=sum_any_count_list(xlist,number)를  수행하는 코드를 작성하세요."
   ]
  },
  {
   "cell_type": "code",
   "execution_count": null,
   "metadata": {},
   "outputs": [],
   "source": [
    "# 여기에 구현"
   ]
  },
  {
   "cell_type": "markdown",
   "metadata": {},
   "source": [
    "8. 날자 관련 함수를 알아 봅시다."
   ]
  },
  {
   "cell_type": "code",
   "execution_count": 32,
   "metadata": {
    "tags": []
   },
   "outputs": [],
   "source": [
    " import datetime"
   ]
  },
  {
   "cell_type": "code",
   "execution_count": 33,
   "metadata": {
    "tags": []
   },
   "outputs": [
    {
     "name": "stdout",
     "output_type": "stream",
     "text": [
      "<class 'datetime.date'>\n"
     ]
    }
   ],
   "source": [
    "now=datetime.datetime.now()\n",
    "print(datetime.date)"
   ]
  },
  {
   "cell_type": "code",
   "execution_count": null,
   "metadata": {},
   "outputs": [],
   "source": []
  }
 ],
 "metadata": {
  "kernelspec": {
   "display_name": "Python 3 (ipykernel)",
   "language": "python",
   "name": "python3"
  },
  "language_info": {
   "codemirror_mode": {
    "name": "ipython",
    "version": 3
   },
   "file_extension": ".py",
   "mimetype": "text/x-python",
   "name": "python",
   "nbconvert_exporter": "python",
   "pygments_lexer": "ipython3",
   "version": "3.10.13"
  }
 },
 "nbformat": 4,
 "nbformat_minor": 4
}

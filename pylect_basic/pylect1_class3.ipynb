{
 "cells": [
  {
   "cell_type": "code",
   "execution_count": 2,
   "metadata": {},
   "outputs": [],
   "source": [
    "class Animal:\n",
    "    name='none'\n",
    "    def __init__(self, name):\n",
    "        self.name = name\n",
    "    def move(self):\n",
    "        print(\"move:\",self.name)\n",
    "    def speak(self):\n",
    "        pass\n",
    " \n",
    "class Dog (Animal):\n",
    "    def speak(self):\n",
    "        print(\"bark\")\n",
    " \n",
    "class Duck (Animal):\n",
    "    def speak(self):\n",
    "        print(\"quack\")"
   ]
  },
  {
   "cell_type": "code",
   "execution_count": 3,
   "metadata": {},
   "outputs": [
    {
     "name": "stdout",
     "output_type": "stream",
     "text": [
      "doggy\n",
      "move: doggy\n",
      "bark\n"
     ]
    }
   ],
   "source": [
    "dog = Dog(\"doggy\") # 부모클래스의 생성자\n",
    "print(dog.name) # 부모클래스의 인스턴스변수\n",
    "dog.move()   # 부모클래스의 메서드\n",
    "dog.speak()  # 파생클래스의 멤버"
   ]
  },
  {
   "cell_type": "code",
   "execution_count": 4,
   "metadata": {},
   "outputs": [
    {
     "name": "stdout",
     "output_type": "stream",
     "text": [
      "Du\n",
      "move: Du\n",
      "quack\n"
     ]
    }
   ],
   "source": [
    "dck = Duck(\"Du\") # 부모클래스의 생성자\n",
    "print(dck.name) # 부모클래스의 인스턴스변수\n",
    "dck.move()   # 부모클래스의 메서드\n",
    "dck.speak()  # 파생클래스의 멤버"
   ]
  },
  {
   "cell_type": "code",
   "execution_count": 5,
   "metadata": {},
   "outputs": [
    {
     "name": "stdout",
     "output_type": "stream",
     "text": [
      "move: doggy\n",
      "bark\n",
      "move: duck\n",
      "quack\n"
     ]
    }
   ],
   "source": [
    "#다형성(Polymorphism)\n",
    "animals = [Dog('doggy'), Duck('duck')] \n",
    "for a in animals:\n",
    "    a.move()\n",
    "    a.speak()\n",
    "    "
   ]
  },
  {
   "cell_type": "code",
   "execution_count": null,
   "metadata": {},
   "outputs": [],
   "source": []
  }
 ],
 "metadata": {
  "kernelspec": {
   "display_name": "Python 3",
   "language": "python",
   "name": "python3"
  },
  "language_info": {
   "codemirror_mode": {
    "name": "ipython",
    "version": 3
   },
   "file_extension": ".py",
   "mimetype": "text/x-python",
   "name": "python",
   "nbconvert_exporter": "python",
   "pygments_lexer": "ipython3",
   "version": "3.8.8"
  }
 },
 "nbformat": 4,
 "nbformat_minor": 2
}

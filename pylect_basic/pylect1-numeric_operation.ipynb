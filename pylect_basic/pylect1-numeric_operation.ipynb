{
 "cells": [
  {
   "cell_type": "code",
   "execution_count": null,
   "metadata": {},
   "outputs": [],
   "source": [
    "a=3\n",
    "b=2\n",
    "c=0\n",
    "print(\"a=\", a)\n",
    "print(\"b=\", b)\n",
    "print(\"c=\", c)"
   ]
  },
  {
   "cell_type": "code",
   "execution_count": null,
   "metadata": {},
   "outputs": [],
   "source": [
    "print(\"a*b=\",a*b)\n",
    "print(\"a+b=\",a+b)\n",
    "print(\"a/b=\",a/b)\n",
    "print(\"a//b=\",a//b)\n",
    "print(\"a**b=\",a**b)\n",
    "print(\"a%b=\",a%b)"
   ]
  },
  {
   "cell_type": "code",
   "execution_count": null,
   "metadata": {},
   "outputs": [],
   "source": [
    "print(\"a<b=\",a<b)\n",
    "print(\"a>b=\",a>b)\n",
    "print(\"a==b=\",a==b)\n",
    "print(\"a!=b=\",a!=b)\n",
    "print(\"a^b=\",a^b)\n",
    "print(\"a|c=\",a|c)\n",
    "print(\"a&c=\",a&c)\n",
    "print(\"b<<a=\",b<<a)"
   ]
  },
  {
   "cell_type": "code",
   "execution_count": null,
   "metadata": {},
   "outputs": [],
   "source": [
    "a=1\n",
    "a=a+1\n",
    "print(a)"
   ]
  }
 ],
 "metadata": {
  "kernelspec": {
   "display_name": "Python 3 (ipykernel)",
   "language": "python",
   "name": "python3"
  },
  "language_info": {
   "codemirror_mode": {
    "name": "ipython",
    "version": 3
   },
   "file_extension": ".py",
   "mimetype": "text/x-python",
   "name": "python",
   "nbconvert_exporter": "python",
   "pygments_lexer": "ipython3",
   "version": "3.10.9"
  }
 },
 "nbformat": 4,
 "nbformat_minor": 4
}

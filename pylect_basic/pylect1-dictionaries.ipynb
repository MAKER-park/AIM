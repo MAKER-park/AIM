{
 "cells": [
  {
   "cell_type": "code",
   "execution_count": 9,
   "metadata": {},
   "outputs": [
    {
     "name": "stdout",
     "output_type": "stream",
     "text": [
      "{'park': 7042, 'kim': 7018}\n",
      "{'park': 7042, 'kim': 7018, 'lee': 7000, 'jung': 6000}\n",
      "dict_keys(['park', 'kim', 'lee', 'jung'])\n",
      "dict_values([7042, 7018, 7000, 6000])\n",
      "dict_items([('park', 7042), ('kim', 7018), ('lee', 7000), ('jung', 6000)])\n"
     ]
    }
   ],
   "source": [
    "tel = {'park' : 7042, 'kim': 7018}\n",
    "print(tel)\n",
    "tel['lee'] = 7000\n",
    "tel['jung'] = 6000\n",
    "print(tel)\n",
    "print(tel.keys())\n",
    "print(tel.values())\n",
    "print(tel.items())\n"
   ]
  },
  {
   "cell_type": "code",
   "execution_count": null,
   "metadata": {},
   "outputs": [],
   "source": [
    "d = dict(a=1, b=3, c=5)\n",
    "print(d)"
   ]
  },
  {
   "cell_type": "code",
   "execution_count": 1,
   "metadata": {},
   "outputs": [
    {
     "name": "stdout",
     "output_type": "stream",
     "text": [
      "Postdoc\n",
      "Shawn is Postdoc\n",
      "dict_keys(['David', 'Sahan', 'Shawn'])\n",
      "dict_values(['Professor', 'Postdoc', 'Postdoc'])\n",
      "dict_items([('David', 'Professor'), ('Sahan', 'Postdoc'), ('Shawn', 'Postdoc')])\n",
      "Professor\n",
      "None\n"
     ]
    }
   ],
   "source": [
    "jobs = {'David':'Professor', 'Sahan':'Postdoc', 'Shawn':'Grad student'}\n",
    "print(jobs['Sahan'])\n",
    "jobs['Shawn'] = 'Postdoc'\n",
    "print('Shawn is', jobs['Shawn'])\n",
    "print(jobs.keys())\n",
    "print(jobs.values())\n",
    "print(jobs.items())\n",
    "print(jobs.get('David'))\n",
    "print(jobs.get('Foo'))"
   ]
  },
  {
   "cell_type": "code",
   "execution_count": 8,
   "metadata": {},
   "outputs": [
    {
     "name": "stdout",
     "output_type": "stream",
     "text": [
      "Gone with the Wind by Margaret Mitchell\n",
      "Aeneid by Virgil\n",
      "Odyssey by Homer\n",
      "Gone with the Wind Margaret Mitchell\n",
      "Aeneid Virgil\n",
      "Odyssey Homer\n"
     ]
    }
   ],
   "source": [
    "bookauthors = {'Gone with the Wind': 'Margaret Mitchell',\n",
    "               'Aeneid': 'Virgil',\n",
    "               'Odyssey': 'Homer'}\n",
    "\n",
    "for book in bookauthors:\n",
    "    print (book, 'by', bookauthors[book])\n",
    "\n",
    "for k, v in bookauthors.items():\n",
    "    print(k, v) "
   ]
  },
  {
   "cell_type": "code",
   "execution_count": null,
   "metadata": {},
   "outputs": [],
   "source": [
    "keys = ['david', 'chris', 'stewart']\n",
    "values = ['504', '637', '921']\n",
    "D = dict(zip(keys, values))\n",
    "print(D)"
   ]
  },
  {
   "cell_type": "code",
   "execution_count": null,
   "metadata": {},
   "outputs": [],
   "source": [
    "Matrix = {}# start a blank dictionary ",
    "\n",
    "Matrix[(1,0,1)]  = 0.5 # key is a tuple ",
    "\n",
    "Matrix[(1,1,4)]  = 0.8\n",
    "print(Matrix)                                                                "
   ]
  },
  {
   "cell_type": "code",
   "execution_count": null,
   "metadata": {},
   "outputs": [],
   "source": [
    "len((\"Tony\",))\n",
    "len(\"Tony\")\n",
    "len([0, 1, 'boom'])\n"
   ]
  },
  {
   "cell_type": "code",
   "execution_count": null,
   "metadata": {},
   "outputs": [],
   "source": [
    "def print_dict(**kwargs):\n",
    "    for key in kwargs.keys():\n",
    "        print (\"%s = %s\" % (key, kwargs[key]))\n",
    "\n",
    "user_info = dict(name=\"Park\", uid=82363, homedir=\"/Users/hjpark\")\n",
    "print_dict(**user_info) # note: need ** here!!"
   ]
  },
  {
   "cell_type": "code",
   "execution_count": null,
   "metadata": {},
   "outputs": [],
   "source": []
  }
 ],
 "metadata": {
  "kernelspec": {
   "display_name": "Python 3 (ipykernel)",
   "language": "python",
   "name": "python3"
  },
  "language_info": {
   "codemirror_mode": {
    "name": "ipython",
    "version": 3
   },
   "file_extension": ".py",
   "mimetype": "text/x-python",
   "name": "python",
   "nbconvert_exporter": "python",
   "pygments_lexer": "ipython3",
   "version": "3.10.9"
  }
 },
 "nbformat": 4,
 "nbformat_minor": 4
}

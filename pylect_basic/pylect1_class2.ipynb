{
 "cells": [
  {
   "cell_type": "code",
   "execution_count": 1,
   "metadata": {
    "collapsed": true
   },
   "outputs": [],
   "source": [
    "class Rectangle:\n",
    "    count = 0  # 클래스 변수\n",
    "    def __init__(self, width, height):\n",
    "        self.width = width\n",
    "        self.height = height\n",
    "        Rectangle.count += 1 # compare self.count+=1\n",
    " \n",
    "    # 인스턴스 메서드\n",
    "    def calc_area(self):\n",
    "        area = self.width * self.height\n",
    "        return area\n",
    "\n",
    "    def print_count_loc(self):\n",
    "        print('member function is called')\n",
    "        print(self.count)\n",
    "        \n",
    "    def __add__(self, other): #연산자 overloading\n",
    "        obj = Rectangle(self.width + other.width, self.height + other.height)\n",
    "        return obj\n",
    "\n",
    "    # 정적 메서드\n",
    "    @staticmethod\n",
    "    def is_square(rectWidth, rectHeight):\n",
    "        return rectWidth == rectHeight\n",
    "    \n",
    "    @staticmethod\n",
    "    def print_myname(name): return '내 이름은 {} 이다.'.format(name)\n",
    "\n",
    "    # 클래스 메서드\n",
    "    @classmethod\n",
    "    def print_name(cls):\n",
    "        print('my name is %s' %(cls.__class__.__name__))\n",
    "        \n",
    "    @classmethod\n",
    "    def print_count(cls):\n",
    "        print('class function is called')\n",
    "        print(cls.count)    \n"
   ]
  },
  {
   "cell_type": "code",
   "execution_count": null,
   "metadata": {
    "collapsed": true
   },
   "outputs": [],
   "source": [
    "# 테스트\n",
    "square = Rectangle.is_square(5, 5)        \n",
    "print(square)   # True        \n",
    "\n",
    "name1 = Rectangle.print_myname('해정')\n",
    "print(name1) #내 이름은 해정 이다.\n",
    " \n",
    "rect1 = Rectangle(5, 5)\n",
    "rect1.count=5;\n",
    "rect2 = Rectangle(2, 5)\n",
    "rect1.print_name()  #my name is type\n",
    "Rectangle.print_name()  #my name is type\n",
    "rect1.print_count_loc() # member function is called 5\n",
    "rect1.print_count() # class function is called 2\n",
    "rect2.print_count() # class function is called 2\n",
    "Rectangle.print_count() #class function is called 2\n",
    "#square.printCount() # error\n",
    "rect3 = rect1 + rect2\n",
    "print(rect1.calc_area())\n",
    "print(rect3.calc_area())"
   ]
  }
 ],
 "metadata": {
  "kernelspec": {
   "display_name": "Python 3",
   "language": "python",
   "name": "python3"
  },
  "language_info": {
   "codemirror_mode": {
    "name": "ipython",
    "version": 3
   },
   "file_extension": ".py",
   "mimetype": "text/x-python",
   "name": "python",
   "nbconvert_exporter": "python",
   "pygments_lexer": "ipython3",
   "version": "3.8.8"
  }
 },
 "nbformat": 4,
 "nbformat_minor": 2
}

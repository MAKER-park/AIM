{
 "cells": [
  {
   "cell_type": "code",
   "execution_count": 1,
   "metadata": {},
   "outputs": [
    {
     "name": "stdout",
     "output_type": "stream",
     "text": [
      "b= [[0, 1, 2], 3, 4]\n",
      "b[0][1]= 1\n",
      "c= [0, 1, 2, [0, 1, 2], 3, 4]\n"
     ]
    }
   ],
   "source": [
    "[1, 3, 5, 7, 11]\n",
    "[0, 1, 'boom']\n",
    "colors = ['red', 'green', 'gold']\n",
    "\n",
    "a=[0,1,2]\n",
    "b=[a,3,4]\n",
    "print (\"b=\",b)\n",
    "print (\"b[0][1]=\",b[0][1])\n",
    "#print (b[1][0]) #TypeError: 'int' object is unsubscriptable\n",
    "c=a+b\n",
    "print(\"c=\",c)"
   ]
  },
  {
   "cell_type": "code",
   "execution_count": 3,
   "metadata": {},
   "outputs": [
    {
     "name": "stdout",
     "output_type": "stream",
     "text": [
      "[1, 3, 5, 7, 11, 1, 3, 5, 7, 11]\n"
     ]
    }
   ],
   "source": [
    "print([1, 3, 5, 7, 11]*2)"
   ]
  },
  {
   "cell_type": "code",
   "execution_count": 2,
   "metadata": {},
   "outputs": [
    {
     "name": "stdout",
     "output_type": "stream",
     "text": [
      "5\n",
      "spam\n",
      "4\n",
      "1234\n",
      "['spam', 'eggs']\n"
     ]
    }
   ],
   "source": [
    "a = ['spam', 'eggs', 100, 1234, 2*2]\n",
    "print(len(a))\n",
    "print(a[0])\n",
    "print(a[-1])\n",
    "print(a[-2])\n",
    "print(a[:2])"
   ]
  },
  {
   "cell_type": "code",
   "execution_count": 4,
   "metadata": {},
   "outputs": [
    {
     "name": "stdout",
     "output_type": "stream",
     "text": [
      "[1, 12, 146, 1234, 4]\n",
      "[1, 12, 146, 1234, 4]\n",
      "4\n"
     ]
    }
   ],
   "source": [
    "a[2]=a[2]+23\n",
    "print(a)\n",
    "a[0:2]=[1,12]\n",
    "print(a)\n"
   ]
  },
  {
   "cell_type": "code",
   "execution_count": 7,
   "metadata": {},
   "outputs": [
    {
     "name": "stdout",
     "output_type": "stream",
     "text": [
      "[1, 2, 3, 4]\n",
      "[3, 4]\n",
      "2\n"
     ]
    }
   ],
   "source": [
    "a=[1,2,3,4]\n",
    "print(a)\n",
    "a[0:2]=[]\n",
    "print(a)\n",
    "print(len(a))"
   ]
  },
  {
   "cell_type": "markdown",
   "metadata": {},
   "source": [
    "## List operation"
   ]
  },
  {
   "cell_type": "code",
   "execution_count": 11,
   "metadata": {},
   "outputs": [
    {
     "name": "stdout",
     "output_type": "stream",
     "text": [
      "[2, 6, 3]\n",
      "[2, 6, 3, [5, 4]]\n",
      "[2, 6, 3, 5, 4]\n"
     ]
    }
   ],
   "source": [
    "x = [2,6,1,3]\n",
    "x.remove(1) # removes the 1, not the item at position 1!!\n",
    "print(x)\n",
    "#참고 x1=x\n",
    "x1=x[:]\n",
    "x.append([5,4])\n",
    "print(x)\n",
    "x1.extend([5,4])\n",
    "print(x1)"
   ]
  },
  {
   "cell_type": "code",
   "execution_count": 14,
   "metadata": {},
   "outputs": [
    {
     "name": "stdout",
     "output_type": "stream",
     "text": [
      "[2, 3, 4, 5, 6]\n",
      "[6, 5, 4, 3, 2]\n"
     ]
    }
   ],
   "source": [
    "x1.sort()\n",
    "print(x1)\n",
    "y=list(reversed(x1))\n",
    "print(y)"
   ]
  },
  {
   "cell_type": "code",
   "execution_count": 15,
   "metadata": {},
   "outputs": [
    {
     "name": "stdout",
     "output_type": "stream",
     "text": [
      "['red', 'green']\n",
      "['red', 'green', 'cyan']\n",
      "['red', 'green', 'cyan', 'black', 'white']\n",
      "['red', 'green', 'cyan', 'black', 'white', ['black', 'white']]\n",
      "2\n",
      "1\n",
      "['black', 'white']\n",
      "['red', 'green', 'cyan', 'black', 'white']\n"
     ]
    }
   ],
   "source": [
    "y=['red','green','blue']\n",
    "y.remove('blue')\n",
    "print(y)\n",
    "y.insert(2,'cyan')\n",
    "print(y)\n",
    "y.extend(['black','white'])\n",
    "print(y)\n",
    "y.append(['black','white'])\n",
    "print(y)\n",
    "print(y.index('cyan'))\n",
    "print(y.count('white'))\n",
    "print(y.pop())\n",
    "print(y)"
   ]
  },
  {
   "cell_type": "code",
   "execution_count": 16,
   "metadata": {},
   "outputs": [
    {
     "name": "stdout",
     "output_type": "stream",
     "text": [
      "[1, 3, 5, 7, 11]\n",
      "[1, 3, 0, 7, 11] [0, 7]\n",
      "[1, 3, 5]\n",
      "[1, 3, 5, 7]\n",
      "[1, 3, 5, 7, 'the-end']\n",
      "[2, 1, 3]\n",
      "[2, 1, 3] [2, 1, 3, [4, 5]]\n",
      "[2, 1, 3, [4, 5]] [2, 1, 3, [4, 5]]\n"
     ]
    }
   ],
   "source": [
    "x=[1,3,5,7,11]\n",
    "print(x)\n",
    "x[2]=0\n",
    "print(x,x[2:4])\n",
    "\n",
    "a = [1, 3, 5]\n",
    "print(a)\n",
    "a += [7] # a += 7 fails \n",
    "print(a)\n",
    "a += [\"the-end\"] # put this in [] also!\n",
    "print(a)\n",
    "\n",
    "x = [2,1,3]\n",
    "print(x)\n",
    "x1=x[:]\n",
    "x1.append([4,5])\n",
    "print(x,x1)\n",
    "x2=x\n",
    "x2.append([4,5])\n",
    "print(x,x2)"
   ]
  },
  {
   "cell_type": "markdown",
   "metadata": {},
   "source": [
    "## List functions: del, zip"
   ]
  },
  {
   "cell_type": "code",
   "execution_count": 15,
   "metadata": {},
   "outputs": [
    {
     "name": "stdout",
     "output_type": "stream",
     "text": [
      "[-1, 1, 66.6, 333, 333, 1234.5]\n",
      "[1, 66.6, 333, 333, 1234.5]\n",
      "[1, 66.6, 1234.5]\n"
     ]
    }
   ],
   "source": [
    "a = [-1,1,66.6,333,333,1234.5]\n",
    "print(a)\n",
    "del a[0] #remove by index, not value\n",
    "print(a)\n",
    "del a[2:4]\n",
    "print(a)"
   ]
  },
  {
   "cell_type": "code",
   "execution_count": 16,
   "metadata": {},
   "outputs": [
    {
     "name": "stdout",
     "output_type": "stream",
     "text": [
      "[('ben', 0), ('chen', 0), ('yaqin', 1)]\n"
     ]
    }
   ],
   "source": [
    "names = ['ben', 'chen', 'yaqin']\n",
    "gender = [0, 0, 1]\n",
    "namgen=zip(names, gender)\n",
    "print(list(namgen))"
   ]
  },
  {
   "cell_type": "markdown",
   "metadata": {},
   "source": [
    "## Tuple"
   ]
  },
  {
   "cell_type": "code",
   "execution_count": null,
   "metadata": {},
   "outputs": [],
   "source": [
    "t=\"Tony\", \"Pat\", \"Stewart\"\n",
    "t[0]"
   ]
  },
  {
   "cell_type": "code",
   "execution_count": null,
   "metadata": {},
   "outputs": [],
   "source": [
    "(\"Tony\",)"
   ]
  },
  {
   "cell_type": "code",
   "execution_count": null,
   "metadata": {},
   "outputs": [],
   "source": [
    "singleton = 'foo',\n",
    "noval=()"
   ]
  },
  {
   "cell_type": "code",
   "execution_count": null,
   "metadata": {},
   "outputs": [],
   "source": [
    "type(singleton)"
   ]
  },
  {
   "cell_type": "code",
   "execution_count": null,
   "metadata": {},
   "outputs": [],
   "source": [
    "yellow = (255, 255, 0) # r, g, b\n",
    "print(yellow[0])\n",
    "print(yellow[1:])\n",
    "print(\"%s lives in %s at latitude %.1f\" % (\"Andrew\", \"Sweden\", 57.7056))"
   ]
  },
  {
   "cell_type": "code",
   "execution_count": null,
   "metadata": {},
   "outputs": [],
   "source": []
  }
 ],
 "metadata": {
  "kernelspec": {
   "display_name": "Python 3 (ipykernel)",
   "language": "python",
   "name": "python3"
  },
  "language_info": {
   "codemirror_mode": {
    "name": "ipython",
    "version": 3
   },
   "file_extension": ".py",
   "mimetype": "text/x-python",
   "name": "python",
   "nbconvert_exporter": "python",
   "pygments_lexer": "ipython3",
   "version": "3.10.9"
  }
 },
 "nbformat": 4,
 "nbformat_minor": 4
}

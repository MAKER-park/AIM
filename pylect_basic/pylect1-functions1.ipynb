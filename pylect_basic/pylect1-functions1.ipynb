{
 "cells": [
  {
   "cell_type": "markdown",
   "metadata": {},
   "source": [
    "# Function"
   ]
  },
  {
   "cell_type": "markdown",
   "metadata": {},
   "source": [
    "Why do we need functions?"
   ]
  },
  {
   "cell_type": "code",
   "execution_count": 3,
   "metadata": {},
   "outputs": [
    {
     "name": "stdout",
     "output_type": "stream",
     "text": [
      "10\n"
     ]
    }
   ],
   "source": [
    "n=5\n",
    "s=0\n",
    "for i in range(n):\n",
    "    s=s+i\n",
    "print(s)"
   ]
  },
  {
   "cell_type": "code",
   "execution_count": 5,
   "metadata": {},
   "outputs": [
    {
     "name": "stdout",
     "output_type": "stream",
     "text": [
      "105\n",
      "300\n",
      "4498500\n"
     ]
    }
   ],
   "source": [
    "n=15\n",
    "s=0\n",
    "for i in range(n):\n",
    "    s=s+i\n",
    "print(s)\n",
    "\n",
    "\n",
    "n=25\n",
    "s=0\n",
    "for i in range(n):\n",
    "    s=s+i\n",
    "print(s)\n",
    "\n",
    "n=3000\n",
    "s=0\n",
    "for i in range(n):\n",
    "    s=s+i\n",
    "print(s)\n",
    "\n",
    "\n"
   ]
  },
  {
   "cell_type": "code",
   "execution_count": 6,
   "metadata": {},
   "outputs": [],
   "source": [
    "def accsum(n):\n",
    "    s=0\n",
    "    for i in range(n):\n",
    "        s=s+i\n",
    "    print('Accsum up to ',n, 'is',s)"
   ]
  },
  {
   "cell_type": "code",
   "execution_count": 8,
   "metadata": {},
   "outputs": [
    {
     "name": "stdout",
     "output_type": "stream",
     "text": [
      "Accsum up to  20 is 190\n",
      "Accsum up to  30 is 435\n",
      "Accsum up to  350 is 61075\n",
      "Accsum up to  3000 is 4498500\n"
     ]
    }
   ],
   "source": [
    "accsum(20)\n",
    "accsum(30)\n",
    "accsum(350)\n",
    "accsum(3000)"
   ]
  },
  {
   "cell_type": "code",
   "execution_count": 25,
   "metadata": {},
   "outputs": [
    {
     "name": "stdout",
     "output_type": "stream",
     "text": [
      "Accsum up to  0 is 0\n",
      "Accsum up to  1 is 0\n",
      "Accsum up to  2 is 1\n",
      "Accsum up to  3 is 3\n",
      "Accsum up to  4 is 6\n",
      "Accsum up to  5 is 10\n",
      "Accsum up to  6 is 15\n",
      "Accsum up to  7 is 21\n",
      "Accsum up to  8 is 28\n",
      "Accsum up to  9 is 36\n"
     ]
    }
   ],
   "source": [
    "for i in range(10):\n",
    "    accsum(i)"
   ]
  },
  {
   "cell_type": "markdown",
   "metadata": {},
   "source": [
    "## 함수란\n",
    "A function with an input argument\n",
    "함수  y=f(x,a,b) : y=ax+b"
   ]
  },
  {
   "cell_type": "code",
   "execution_count": 3,
   "metadata": {},
   "outputs": [],
   "source": [
    "def square(n):\n",
    "    return n*n"
   ]
  },
  {
   "cell_type": "code",
   "execution_count": 4,
   "metadata": {},
   "outputs": [
    {
     "name": "stdout",
     "output_type": "stream",
     "text": [
      "The square of 3 is 9\n"
     ]
    }
   ],
   "source": [
    "a=square(3)\n",
    "print(\"The square of 3 is\",end=' ')\n",
    "print(a)"
   ]
  },
  {
   "cell_type": "code",
   "execution_count": 37,
   "metadata": {},
   "outputs": [],
   "source": [
    "#print (mymult(2,3)) #undefined mymult "
   ]
  },
  {
   "cell_type": "markdown",
   "metadata": {},
   "source": [
    "a function with two input arguments "
   ]
  },
  {
   "cell_type": "code",
   "execution_count": 8,
   "metadata": {},
   "outputs": [],
   "source": [
    "def mymult(a,b):\n",
    "    return a*b"
   ]
  },
  {
   "cell_type": "code",
   "execution_count": 9,
   "metadata": {},
   "outputs": [
    {
     "name": "stdout",
     "output_type": "stream",
     "text": [
      "12\n"
     ]
    }
   ],
   "source": [
    "a=mymult(4,3)\n",
    "print(a)"
   ]
  },
  {
   "cell_type": "markdown",
   "metadata": {},
   "source": [
    "a function that returns one or two outputs"
   ]
  },
  {
   "cell_type": "code",
   "execution_count": 10,
   "metadata": {},
   "outputs": [],
   "source": [
    "def func_mult(x):\n",
    "    return x*1, x*2, x*3\n",
    "\n",
    "def func_mult2(x,y):\n",
    "    return x[0]*y[0], x[1]*y[1]"
   ]
  },
  {
   "cell_type": "code",
   "execution_count": 11,
   "metadata": {},
   "outputs": [
    {
     "name": "stdout",
     "output_type": "stream",
     "text": [
      "(2, 4, 6)\n",
      "4 10\n",
      "(4, 10)\n"
     ]
    }
   ],
   "source": [
    "a=func_mult(2)\n",
    "[b,c]=func_mult2([1,2],[4,5])\n",
    "d=func_mult2([1,2],[4,5])\n",
    "print(a)\n",
    "print(b,c)\n",
    "print(d)"
   ]
  },
  {
   "cell_type": "markdown",
   "metadata": {},
   "source": [
    "Default argument"
   ]
  },
  {
   "cell_type": "code",
   "execution_count": 19,
   "metadata": {},
   "outputs": [],
   "source": [
    "def mysum2(a,b):\n",
    "    print (a+b)  \n",
    "def mysum3(a,b=1,c=0):\n",
    "    print (a+b+c)  "
   ]
  },
  {
   "cell_type": "code",
   "execution_count": 21,
   "metadata": {},
   "outputs": [
    {
     "name": "stdout",
     "output_type": "stream",
     "text": [
      "4\n"
     ]
    }
   ],
   "source": [
    "mysum3(3)"
   ]
  },
  {
   "cell_type": "code",
   "execution_count": 58,
   "metadata": {},
   "outputs": [],
   "source": [
    "def mysum3(a,b=0,c=0):\n",
    "    print (a+b+c)  "
   ]
  },
  {
   "cell_type": "code",
   "execution_count": 59,
   "metadata": {},
   "outputs": [
    {
     "name": "stdout",
     "output_type": "stream",
     "text": [
      "3\n"
     ]
    }
   ],
   "source": [
    "mysum3(1,2)"
   ]
  },
  {
   "cell_type": "code",
   "execution_count": 60,
   "metadata": {},
   "outputs": [
    {
     "name": "stdout",
     "output_type": "stream",
     "text": [
      "3\n",
      "1\n"
     ]
    }
   ],
   "source": [
    "mysum3(1,2)\n",
    "mysum3(1)"
   ]
  },
  {
   "cell_type": "code",
   "execution_count": 22,
   "metadata": {},
   "outputs": [],
   "source": [
    "def print_message(lineno, message=\"Error\"):\n",
    "    print (\"%s at line %d\" % (message, lineno))"
   ]
  },
  {
   "cell_type": "code",
   "execution_count": 23,
   "metadata": {},
   "outputs": [
    {
     "name": "stdout",
     "output_type": "stream",
     "text": [
      "Warning at line 48\n",
      "Error at line 34\n"
     ]
    }
   ],
   "source": [
    "print_message(48,\"Warning\")\n",
    "print_message(34)"
   ]
  },
  {
   "cell_type": "code",
   "execution_count": 24,
   "metadata": {},
   "outputs": [],
   "source": [
    "def ask_ok(prompt, retries=4, complaint='Yes or no, please!'):\n",
    "  while 1:\n",
    "    resp = input(prompt)\n",
    "    if resp in ('y', 'ye', 'yes'): return 1\n",
    "    elif resp in ('n', 'no'): return 0\n",
    "    \n",
    "    retries = retries - 1\n",
    "    if retries < 0: print('No correct answer !!!'); return -1\n",
    "                          \n",
    "    print(retries, 'is remained...')\n",
    "    print (complaint)"
   ]
  },
  {
   "cell_type": "code",
   "execution_count": 26,
   "metadata": {},
   "outputs": [
    {
     "name": "stdout",
     "output_type": "stream",
     "text": [
      "Do you want to finish?3\n",
      "1 is remained...\n",
      "Yes/No, Answer again\n",
      "Do you want to finish?2\n",
      "0 is remained...\n",
      "Yes/No, Answer again\n",
      "Do you want to finish?n\n"
     ]
    },
    {
     "data": {
      "text/plain": [
       "0"
      ]
     },
     "execution_count": 26,
     "metadata": {},
     "output_type": "execute_result"
    }
   ],
   "source": [
    "ask_ok('Do you want to finish?',2, 'Yes/No, Answer again')\n",
    "#ask_ok('Really?',3)\n",
    "#ask_ok('Really?',retries=2)\n",
    "#ask_ok('Really?',complaint=\"Oh no!!!\")\n",
    "#ask_ok('Really?')"
   ]
  },
  {
   "cell_type": "code",
   "execution_count": 21,
   "metadata": {},
   "outputs": [
    {
     "name": "stdout",
     "output_type": "stream",
     "text": [
      "Really?k\n",
      "3 is remained...\n",
      "Oh no!!!\n",
      "Really?f\n",
      "2 is remained...\n",
      "Oh no!!!\n",
      "Really?e\n",
      "1 is remained...\n",
      "Oh no!!!\n",
      "Really?n\n"
     ]
    },
    {
     "data": {
      "text/plain": [
       "0"
      ]
     },
     "execution_count": 21,
     "metadata": {},
     "output_type": "execute_result"
    }
   ],
   "source": [
    "ask_ok('Really?',complaint=\"Oh no!!!\")\n"
   ]
  },
  {
   "cell_type": "markdown",
   "metadata": {},
   "source": [
    "Tuple and dictionary argument"
   ]
  },
  {
   "cell_type": "code",
   "execution_count": 69,
   "metadata": {},
   "outputs": [],
   "source": [
    "def area(x, y):\n",
    "    print (x*y)"
   ]
  },
  {
   "cell_type": "code",
   "execution_count": 70,
   "metadata": {},
   "outputs": [
    {
     "name": "stdout",
     "output_type": "stream",
     "text": [
      "6\n",
      "6\n"
     ]
    }
   ],
   "source": [
    "area(2,3)\n",
    "a = (2,3)\n",
    "area(*a)"
   ]
  },
  {
   "cell_type": "code",
   "execution_count": 71,
   "metadata": {},
   "outputs": [],
   "source": [
    "def area_dict(x, y, units=\"inches\"):\n",
    "    print (x*y, \"square %s\" % units)"
   ]
  },
  {
   "cell_type": "code",
   "execution_count": 72,
   "metadata": {},
   "outputs": [
    {
     "name": "stdout",
     "output_type": "stream",
     "text": [
      "6 square centimeters\n"
     ]
    }
   ],
   "source": [
    "area_dict(2,3,\"centimeters\")"
   ]
  },
  {
   "cell_type": "code",
   "execution_count": 73,
   "metadata": {},
   "outputs": [
    {
     "name": "stdout",
     "output_type": "stream",
     "text": [
      "{'x': 2, 'y': 3, 'units': 'centimeters'}\n",
      "6 square centimeters\n"
     ]
    }
   ],
   "source": [
    "area_info = dict(x=2, y=3,units=\"centimeters\")\n",
    "print(area_info)\n",
    "area_dict(**area_info)"
   ]
  },
  {
   "cell_type": "markdown",
   "metadata": {},
   "source": [
    "## Processing many arguments"
   ]
  },
  {
   "cell_type": "markdown",
   "metadata": {},
   "source": [
    "Try to make a generalized function\n",
    "sum(1,2,3), sum(1,2,3,4,5), sum(1,2,3,4,5,6)"
   ]
  },
  {
   "cell_type": "code",
   "execution_count": 27,
   "metadata": {},
   "outputs": [],
   "source": [
    "def sum(*args):\n",
    "  result = 0\n",
    "  for arg in args:\n",
    "    result += arg\n",
    "  return result"
   ]
  },
  {
   "cell_type": "code",
   "execution_count": 29,
   "metadata": {},
   "outputs": [
    {
     "name": "stdout",
     "output_type": "stream",
     "text": [
      "22\n"
     ]
    }
   ],
   "source": [
    "print (sum(1,2,3,4,9,1,2))"
   ]
  },
  {
   "cell_type": "code",
   "execution_count": 78,
   "metadata": {},
   "outputs": [],
   "source": [
    "def print_dict(**kwargs):\n",
    "    for key in kwargs.keys():\n",
    "        print (\"%s = %s\" % (key, kwargs[key]))"
   ]
  },
  {
   "cell_type": "code",
   "execution_count": 79,
   "metadata": {},
   "outputs": [
    {
     "name": "stdout",
     "output_type": "stream",
     "text": [
      "name = Park\n",
      "uid = 82363\n",
      "homedir = /Users/hjpark\n"
     ]
    }
   ],
   "source": [
    "user_info = dict(name=\"Park\", uid=82363, homedir=\"/Users/hjpark\")\n",
    "print_dict(**user_info) # note: need ** here!!"
   ]
  },
  {
   "cell_type": "markdown",
   "metadata": {},
   "source": [
    "function with a fuction as an argument"
   ]
  },
  {
   "cell_type": "code",
   "execution_count": 80,
   "metadata": {},
   "outputs": [],
   "source": [
    "def iseven(x,f):\n",
    "    if (f(x) == f(-x)):\n",
    "        return True\n",
    "    else:\n",
    "        return False\n",
    "    \n",
    "def square(x):\n",
    "    return (x*x)\n",
    "\n",
    "def triple(x):\n",
    "    return (x*x*x)\n"
   ]
  },
  {
   "cell_type": "code",
   "execution_count": 81,
   "metadata": {},
   "outputs": [
    {
     "name": "stdout",
     "output_type": "stream",
     "text": [
      "4\n"
     ]
    }
   ],
   "source": [
    "print(square(2))"
   ]
  },
  {
   "cell_type": "code",
   "execution_count": 40,
   "metadata": {},
   "outputs": [
    {
     "name": "stdout",
     "output_type": "stream",
     "text": [
      "True\n",
      "False\n"
     ]
    }
   ],
   "source": [
    "print (iseven(2,square))\n",
    "print (iseven(2,triple))"
   ]
  },
  {
   "cell_type": "markdown",
   "metadata": {},
   "source": [
    "Diverse argument"
   ]
  },
  {
   "cell_type": "code",
   "execution_count": 46,
   "metadata": {},
   "outputs": [],
   "source": [
    "def mymath(x,a=1):\n",
    "    return a*x**2"
   ]
  },
  {
   "cell_type": "code",
   "execution_count": 47,
   "metadata": {},
   "outputs": [
    {
     "data": {
      "text/plain": [
       "9"
      ]
     },
     "execution_count": 47,
     "metadata": {},
     "output_type": "execute_result"
    }
   ],
   "source": [
    "mymath(3)"
   ]
  },
  {
   "cell_type": "code",
   "execution_count": 48,
   "metadata": {},
   "outputs": [
    {
     "data": {
      "text/plain": [
       "8"
      ]
     },
     "execution_count": 48,
     "metadata": {},
     "output_type": "execute_result"
    }
   ],
   "source": [
    "mymath(2,a=2)"
   ]
  },
  {
   "cell_type": "code",
   "execution_count": 49,
   "metadata": {},
   "outputs": [
    {
     "name": "stdout",
     "output_type": "stream",
     "text": [
      "[0 1 2 3]\n",
      "[ 0  2  8 18]\n"
     ]
    }
   ],
   "source": [
    "from numpy import *\n",
    "arr = arange(4)  #[0 1 2 3]\n",
    "c=mymath(arr,a=2) #[0 2 8 18]\n",
    "print(arr)\n",
    "print(c)"
   ]
  },
  {
   "cell_type": "code",
   "execution_count": 50,
   "metadata": {},
   "outputs": [],
   "source": [
    "def arrayop(func,list,x):\n",
    "    L=[]\n",
    "    for i in range(len(list)):\n",
    "        L.append(func(x+list[i]))\n",
    "    return L"
   ]
  },
  {
   "cell_type": "code",
   "execution_count": 51,
   "metadata": {},
   "outputs": [],
   "source": [
    "L1=[0.0, 0.1, 0.2, 0.3]\n",
    "L=arrayop(exp,L1,0.5)"
   ]
  },
  {
   "cell_type": "code",
   "execution_count": 52,
   "metadata": {},
   "outputs": [
    {
     "name": "stdout",
     "output_type": "stream",
     "text": [
      "[1.6487212707001282, 1.8221188003905089, 2.0137527074704766, 2.225540928492468]\n"
     ]
    }
   ],
   "source": [
    "print(L)"
   ]
  },
  {
   "cell_type": "markdown",
   "metadata": {},
   "source": [
    "인자(Argument)로서의 튜플과 딕셔너리 "
   ]
  },
  {
   "cell_type": "code",
   "execution_count": 12,
   "metadata": {},
   "outputs": [],
   "source": [
    "def fname_args(*tupleargs, **dictargs): \n",
    "    print (tupleargs, dictargs)"
   ]
  },
  {
   "cell_type": "code",
   "execution_count": 13,
   "metadata": {},
   "outputs": [],
   "source": [
    "mytuple = (1.2, 1.3)\n",
    "mydict = {'a': 2.1, 'b': 3.4}\n"
   ]
  },
  {
   "cell_type": "code",
   "execution_count": 11,
   "metadata": {},
   "outputs": [
    {
     "name": "stdout",
     "output_type": "stream",
     "text": [
      "((1.2, 1.3), {'a': 2.1, 'b': 3.4}) {}\n"
     ]
    }
   ],
   "source": [
    "fname_args(mytuple,mydict)"
   ]
  },
  {
   "cell_type": "code",
   "execution_count": 8,
   "metadata": {},
   "outputs": [
    {
     "data": {
      "text/plain": [
       "((1, 2), (1, 2, 1, 2), (1, 2, 1, 2, 1, 2))"
      ]
     },
     "execution_count": 8,
     "metadata": {},
     "output_type": "execute_result"
    }
   ],
   "source": [
    "def func_mult(x):\n",
    "    return x*1,x*2,x*3\n",
    "\n",
    "func_mult((1,2))"
   ]
  },
  {
   "cell_type": "code",
   "execution_count": null,
   "metadata": {},
   "outputs": [],
   "source": []
  }
 ],
 "metadata": {
  "kernelspec": {
   "display_name": "Python 3 (ipykernel)",
   "language": "python",
   "name": "python3"
  },
  "language_info": {
   "codemirror_mode": {
    "name": "ipython",
    "version": 3
   },
   "file_extension": ".py",
   "mimetype": "text/x-python",
   "name": "python",
   "nbconvert_exporter": "python",
   "pygments_lexer": "ipython3",
   "version": "3.10.13"
  }
 },
 "nbformat": 4,
 "nbformat_minor": 4
}

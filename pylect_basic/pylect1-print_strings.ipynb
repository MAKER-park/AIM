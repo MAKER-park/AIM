{
 "cells": [
  {
   "cell_type": "code",
   "execution_count": null,
   "metadata": {},
   "outputs": [],
   "source": [
    "greeting = \"Hello\"\n",
    "print(greeting + \". Welcome to python.\")"
   ]
  },
  {
   "cell_type": "code",
   "execution_count": null,
   "metadata": {},
   "outputs": [],
   "source": []
  },
  {
   "cell_type": "markdown",
   "metadata": {},
   "source": [
    "# C-style print"
   ]
  },
  {
   "cell_type": "code",
   "execution_count": null,
   "metadata": {},
   "outputs": [],
   "source": [
    "str1='The number is'; val=5;\n",
    "str2 = str1 + str(val);\n",
    "str3='%s %d' % (str1,val);\n",
    "str4='%s %3d %03d'%(str1,val,val);\n",
    "print(str4)\n",
    "print(str1,':',str2,':',str3, str4)"
   ]
  },
  {
   "cell_type": "code",
   "execution_count": null,
   "metadata": {},
   "outputs": [],
   "source": [
    "val=3.141592;\n",
    "str5='%s %f %6.2f %3.1f' % (str1,val,val,val);\n",
    "print(str5)"
   ]
  },
  {
   "cell_type": "code",
   "execution_count": null,
   "metadata": {},
   "outputs": [],
   "source": [
    "print(\"%s. Welcome to python.\" % greeting)"
   ]
  },
  {
   "cell_type": "code",
   "execution_count": null,
   "metadata": {},
   "outputs": [],
   "source": [
    "prodname=\"Art\"\n",
    "q = 459; p = 0.098\n",
    "print(q, p, p * q)\n",
    "print(q, p, p * q, sep=\",\")\n",
    "print(q, p, p * q, sep=\" :-) \")"
   ]
  },
  {
   "cell_type": "code",
   "execution_count": null,
   "metadata": {},
   "outputs": [],
   "source": [
    "print(\"Number of \" + prodname +\"=\"+ str(q) + \", price/unit=\" + str(p) + \", total=\" + str(p * q))"
   ]
  },
  {
   "cell_type": "code",
   "execution_count": null,
   "metadata": {},
   "outputs": [],
   "source": [
    "#c-style\n",
    "print(\"Number of %s=%d, price/unit=%4.3f, total=%6.2f\" % (prodname,q,p,q*p))\n"
   ]
  },
  {
   "cell_type": "code",
   "execution_count": null,
   "metadata": {},
   "outputs": [],
   "source": [
    "print(\"Number of %s=%04d, price/unit=%4.2f, total=%6.1f\"%(prodname,q,p,q*p))"
   ]
  },
  {
   "cell_type": "code",
   "execution_count": null,
   "metadata": {},
   "outputs": [],
   "source": [
    "\"The grade for %s is %4.1f\" % (\"Tom\", 76.051)"
   ]
  },
  {
   "cell_type": "markdown",
   "metadata": {},
   "source": [
    "# Utilizing \"format\" to print"
   ]
  },
  {
   "cell_type": "code",
   "execution_count": null,
   "metadata": {},
   "outputs": [],
   "source": [
    "\"\"\" \n",
    "This is an example of format\n",
    "To demark paragraphs, utilize\n",
    "\"\"\""
   ]
  },
  {
   "cell_type": "code",
   "execution_count": null,
   "metadata": {},
   "outputs": [],
   "source": [
    "name=\"Park\"; age=25;height=178.345678\n",
    "print(\"My name is \" + name + \". I’m \" , age, \"years old\")\n",
    "print(\"My name is %s. I’m %d years old\" % (name, age))\n",
    "print(\"My name is {}. I’m {} years old\".format(name,age))"
   ]
  },
  {
   "cell_type": "code",
   "execution_count": null,
   "metadata": {},
   "outputs": [],
   "source": [
    "print(\"My height is {:3.2f}. I’m {:3d} years old\".format(height,age))"
   ]
  },
  {
   "cell_type": "code",
   "execution_count": null,
   "metadata": {},
   "outputs": [],
   "source": [
    "\"value=({},{})\".format(2,5)"
   ]
  },
  {
   "cell_type": "code",
   "execution_count": null,
   "metadata": {},
   "outputs": [],
   "source": [
    "\"value=({1},{0})\".format(2,5)"
   ]
  },
  {
   "cell_type": "code",
   "execution_count": null,
   "metadata": {},
   "outputs": [],
   "source": [
    "\"value={longitude},{latitude}\".format(latitude=35.6,longitude=139.6)"
   ]
  },
  {
   "cell_type": "code",
   "execution_count": null,
   "metadata": {},
   "outputs": [],
   "source": [
    "'{} {}'.format('one', 'two')"
   ]
  },
  {
   "cell_type": "code",
   "execution_count": null,
   "metadata": {},
   "outputs": [],
   "source": [
    "'{1} {0}'.format('one', 'two')"
   ]
  },
  {
   "cell_type": "code",
   "execution_count": null,
   "metadata": {},
   "outputs": [],
   "source": [
    "'{} {}'.format(1.234, 56)"
   ]
  },
  {
   "cell_type": "code",
   "execution_count": null,
   "metadata": {},
   "outputs": [],
   "source": [
    "'{:3.2f} {:3.2} {:05}'.format(1.234,1.234, 56)"
   ]
  },
  {
   "cell_type": "code",
   "execution_count": null,
   "metadata": {},
   "outputs": [],
   "source": [
    "data = {'first': 'Hodor', 'last': 'Hodor!'}\n",
    "'{first} {last}'.format(**data) # dictionary as an input"
   ]
  },
  {
   "cell_type": "code",
   "execution_count": null,
   "metadata": {},
   "outputs": [],
   "source": [
    "'{first} {last}'.format(first='Hodor', last='Hodor!')"
   ]
  },
  {
   "cell_type": "code",
   "execution_count": null,
   "metadata": {},
   "outputs": [],
   "source": [
    "person = {'first': 'Jean-Luc', 'last': 'Picard'}\n",
    "'{p[first]} {p[last]}'.format(p=person)"
   ]
  },
  {
   "cell_type": "code",
   "execution_count": null,
   "metadata": {},
   "outputs": [],
   "source": [
    "data = [4, 8, 15, 16, 23, 42]\n",
    "'{d[4]} {d[5]}'.format(d=data)"
   ]
  },
  {
   "cell_type": "code",
   "execution_count": null,
   "metadata": {},
   "outputs": [],
   "source": [
    "x=3.141592\n",
    "print('x={:8.3}, x={:8.3f}'.format(x,x))"
   ]
  },
  {
   "cell_type": "markdown",
   "metadata": {},
   "source": [
    "## f\"\" String Format"
   ]
  },
  {
   "cell_type": "code",
   "execution_count": null,
   "metadata": {},
   "outputs": [],
   "source": [
    "name=\"Park\"; age=25;height=178.345678\n",
    "str=\"My name is {name}. I’m {age} years old\"\n",
    "str1=f\"My name is {name}. I’m {age} years old\"\n",
    "print(str);print(str1)"
   ]
  },
  {
   "cell_type": "code",
   "execution_count": null,
   "metadata": {},
   "outputs": [],
   "source": [
    "str2=f\"My height is {height:4.1f}. I’m {age:3d} years old\"\n",
    "print(str2)"
   ]
  },
  {
   "cell_type": "code",
   "execution_count": null,
   "metadata": {},
   "outputs": [],
   "source": [
    "print(f\"{name}: {height=:4.1f},{age=:3d}y\")"
   ]
  },
  {
   "cell_type": "code",
   "execution_count": null,
   "metadata": {},
   "outputs": [],
   "source": [
    "print(f\"{name!r}: {height=:4.1f},{age=:3d}y\")"
   ]
  },
  {
   "cell_type": "markdown",
   "metadata": {},
   "source": [
    "## Examples"
   ]
  },
  {
   "cell_type": "code",
   "execution_count": null,
   "metadata": {},
   "outputs": [],
   "source": [
    "a='one'; b='two'\n",
    "print('%s %s' % (a, b))\n",
    "print('{} {}'.format(a, b))\n",
    "print(f'{a} {b}')"
   ]
  },
  {
   "cell_type": "code",
   "execution_count": null,
   "metadata": {},
   "outputs": [],
   "source": [
    "a=1;b=2\n",
    "print('%d %03d' % (a, b))\n",
    "print('{} {:03d}'.format(a, b))\n",
    "print(f'{a} {b:03d}')"
   ]
  },
  {
   "cell_type": "code",
   "execution_count": null,
   "metadata": {},
   "outputs": [],
   "source": [
    "print('{1} {0}'.format('one', 'two'))"
   ]
  },
  {
   "cell_type": "code",
   "execution_count": null,
   "metadata": {},
   "outputs": [],
   "source": [
    "c=42\n",
    "print('%d' % (c))\n",
    "print('{:d}'.format(c))\n",
    "print(f'{c:d}')"
   ]
  },
  {
   "cell_type": "code",
   "execution_count": null,
   "metadata": {},
   "outputs": [],
   "source": [
    "print('%+04d' % (c))\n",
    "print('{:+04d}'.format(c))\n",
    "print(f'{c:+04d}')"
   ]
  },
  {
   "cell_type": "code",
   "execution_count": null,
   "metadata": {},
   "outputs": [],
   "source": [
    "data = {'first': 'PYJ', 'last': 'PYS!'}\n",
    "print('%(first)s %(last)s' % data)\n",
    "print('{first} {last}'.format(**data))\n",
    "print(f'{data[\"first\"]} {data[\"last\"]}')"
   ]
  },
  {
   "cell_type": "code",
   "execution_count": null,
   "metadata": {},
   "outputs": [],
   "source": [
    "data = [4, 8, 15, 16, 23, 42]\n",
    "print('{d[4]} {d[5]}'.format(d=data))\n",
    "print(f'{data[4]} {data[5]}')"
   ]
  },
  {
   "cell_type": "markdown",
   "metadata": {},
   "source": [
    "# String operations"
   ]
  },
  {
   "cell_type": "code",
   "execution_count": null,
   "metadata": {},
   "outputs": [],
   "source": [
    "a = \"He found it boring and he left\"\n",
    "loc = a.find(\"boring\")\n",
    "a = a[:loc] + \"fun\"\n",
    "print(a)\n"
   ]
  },
  {
   "cell_type": "code",
   "execution_count": null,
   "metadata": {},
   "outputs": [],
   "source": [
    "b = ' and '.join([\"cars\", \"trucks\", \"motorcycles\"])\n",
    "print(b)\n",
    "\n",
    "c=b.split()\n",
    "print(c)\n",
    "\n",
    "d = b.split(\" and \")\n",
    "print(d)"
   ]
  },
  {
   "cell_type": "code",
   "execution_count": null,
   "metadata": {},
   "outputs": [],
   "source": [
    "if \"Br\" in \"Brother\":\n",
    "    print (\"Brother contains br\")\n",
    "    "
   ]
  },
  {
   "cell_type": "code",
   "execution_count": null,
   "metadata": {},
   "outputs": [],
   "source": [
    "email_address = \"parkhj\"\n",
    "if \"@\" not in email_address:\n",
    "\temail_address += \"@yuhs.ac\"\n",
    "print (email_address)"
   ]
  },
  {
   "cell_type": "code",
   "execution_count": null,
   "metadata": {},
   "outputs": [],
   "source": [
    "str = \"0000000this is string example....wow!!!0000000\";\n",
    "print (str.strip( '0' ))\n",
    "str = \"     this is string example....wow!!!     \";\n",
    "print (str.rstrip())\n",
    "print (str.lstrip())\n",
    "str = \"88888888this is string example....wow!!!8888888\";\n",
    "print (str.rstrip('8'))\n"
   ]
  },
  {
   "cell_type": "code",
   "execution_count": null,
   "metadata": {},
   "outputs": [],
   "source": [
    "print('Hello there!\\nHow are you?\\nI\\'m doing fine.')"
   ]
  },
  {
   "cell_type": "code",
   "execution_count": null,
   "metadata": {},
   "outputs": [],
   "source": [
    "S=\"This is a beautiful day!\"\n",
    "print(S.capitalize())\n",
    "print(S.upper())\n",
    "print(S.center(35,'#')) #S.center(width[, fillchar])\n",
    "print(S.replace('a','A')) #S.replace(froma,tob)\n",
    "print(S.count('a')) #S.count(substring [, start-idx [, end-idx]])‏\n",
    "print(S.count('a',5,15))\n",
    "print(S.count('is')) \n",
    "S.startswith('T'),S.startswith('Th')\n",
    "S.endswith('!'),S.endswith('y!')\n",
    "S.isalpha(), S.isdigit(), S.islower(), S.isspace(), S.isupper()\n",
    "names = [\"Ben\", \"Chen\", \"Yaqin\"]\n",
    "\", \".join(names)"
   ]
  },
  {
   "cell_type": "code",
   "execution_count": null,
   "metadata": {},
   "outputs": [],
   "source": [
    "myvar=int(input(\"Please enter #:\"))\n",
    "print(myvar*2)"
   ]
  },
  {
   "cell_type": "code",
   "execution_count": null,
   "metadata": {},
   "outputs": [],
   "source": [
    "print(myvar)"
   ]
  },
  {
   "cell_type": "code",
   "execution_count": null,
   "metadata": {},
   "outputs": [],
   "source": [
    "x = int(input(\"Please enter #:\"))\n",
    "print(\"You entered {}\".format(x))"
   ]
  },
  {
   "cell_type": "code",
   "execution_count": null,
   "metadata": {},
   "outputs": [],
   "source": [
    "a,b=input(\"Enter the numbers:\").split()\n",
    "print('a={} b={}'.format(a,b))"
   ]
  },
  {
   "cell_type": "code",
   "execution_count": null,
   "metadata": {},
   "outputs": [],
   "source": [
    "a,b=input(\"Enter the numbers:\").split()\n",
    "a=int(a);b=int(b)\n",
    "print(\"You entered two numbers to sum:{}+{}={}\".format(a,b,a+b))"
   ]
  },
  {
   "cell_type": "code",
   "execution_count": null,
   "metadata": {},
   "outputs": [],
   "source": [
    "#to test the functions for string\n",
    "S=\"This is a beautiful day!\"\n",
    "dir(S)"
   ]
  }
 ],
 "metadata": {
  "kernelspec": {
   "display_name": "Python 3 (ipykernel)",
   "language": "python",
   "name": "python3"
  },
  "language_info": {
   "codemirror_mode": {
    "name": "ipython",
    "version": 3
   },
   "file_extension": ".py",
   "mimetype": "text/x-python",
   "name": "python",
   "nbconvert_exporter": "python",
   "pygments_lexer": "ipython3",
   "version": "3.10.9"
  }
 },
 "nbformat": 4,
 "nbformat_minor": 4
}

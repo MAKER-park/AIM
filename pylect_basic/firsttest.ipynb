{
 "cells": [
  {
   "cell_type": "markdown",
   "id": "c9b79c54-8fe5-432d-966e-2b22dde1afbd",
   "metadata": {},
   "source": [
    "## This is my first code.."
   ]
  },
  {
   "cell_type": "code",
   "execution_count": 1,
   "id": "0c9837a7-8d6a-4337-802a-c51e467182ee",
   "metadata": {},
   "outputs": [],
   "source": [
    "a=1"
   ]
  },
  {
   "cell_type": "code",
   "execution_count": 12,
   "id": "6ce94ba8-22d7-4890-b85d-e1d32d7804b8",
   "metadata": {},
   "outputs": [],
   "source": [
    "b=3"
   ]
  },
  {
   "cell_type": "code",
   "execution_count": 13,
   "id": "8d383b42-a241-45ce-8bc7-54928c90b65c",
   "metadata": {},
   "outputs": [],
   "source": [
    "c=a+b"
   ]
  },
  {
   "cell_type": "code",
   "execution_count": 14,
   "id": "7801ad16-1c02-4026-99eb-eb744b1ace65",
   "metadata": {},
   "outputs": [
    {
     "name": "stdout",
     "output_type": "stream",
     "text": [
      "4\n"
     ]
    }
   ],
   "source": [
    "print(c)"
   ]
  },
  {
   "cell_type": "code",
   "execution_count": 17,
   "id": "c5cdfead-60d6-45a9-9dae-ae678da0b1ae",
   "metadata": {},
   "outputs": [],
   "source": [
    "d=\"hello world!!!\""
   ]
  },
  {
   "cell_type": "code",
   "execution_count": 11,
   "id": "4938a410-1bbb-45fd-9e46-d4befe6dec5e",
   "metadata": {},
   "outputs": [
    {
     "name": "stdout",
     "output_type": "stream",
     "text": [
      "hello world!!!\n"
     ]
    }
   ],
   "source": [
    "print(d)"
   ]
  },
  {
   "cell_type": "code",
   "execution_count": null,
   "id": "ff51b6a2-3867-462c-b596-55b4c00ce067",
   "metadata": {},
   "outputs": [],
   "source": []
  }
 ],
 "metadata": {
  "kernelspec": {
   "display_name": "Python 3 (ipykernel)",
   "language": "python",
   "name": "python3"
  },
  "language_info": {
   "codemirror_mode": {
    "name": "ipython",
    "version": 3
   },
   "file_extension": ".py",
   "mimetype": "text/x-python",
   "name": "python",
   "nbconvert_exporter": "python",
   "pygments_lexer": "ipython3",
   "version": "3.10.9"
  }
 },
 "nbformat": 4,
 "nbformat_minor": 5
}

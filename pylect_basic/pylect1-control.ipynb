{
 "cells": [
  {
   "cell_type": "markdown",
   "metadata": {},
   "source": [
    "## 조건문"
   ]
  },
  {
   "cell_type": "code",
   "execution_count": null,
   "metadata": {},
   "outputs": [],
   "source": [
    "vec=[2,3,4]\n",
    "x=4\n",
    "print(x in vec)\n",
    "if (x in vec):\n",
    "    print(x is not None)\n",
    "    print(x, \"is not None\")"
   ]
  },
  {
   "cell_type": "code",
   "execution_count": null,
   "metadata": {},
   "outputs": [],
   "source": [
    "# error a=2,b=3,c=3\n",
    "a=2;b=3;c=3\n",
    "a,b,c=2,3,3\n",
    "print(a<b==c)\n"
   ]
  },
  {
   "cell_type": "code",
   "execution_count": null,
   "metadata": {},
   "outputs": [],
   "source": [
    "s1,s2,s3='', 'foo', 'bar'\n",
    "non_null = s1 or s2 or s3\n",
    "print(non_null)"
   ]
  },
  {
   "cell_type": "code",
   "execution_count": null,
   "metadata": {},
   "outputs": [],
   "source": [
    "(1,2,3) < (1,2,4)\n",
    "[1,2,3] < [1,2,4]\n",
    "'ABC' < 'C' < 'Pascal' < 'Python'\n",
    "(1,2,3) == (1.0,2.0,3.0)\n",
    "(1,2) < (1,2,-1)"
   ]
  },
  {
   "cell_type": "code",
   "execution_count": null,
   "metadata": {},
   "outputs": [],
   "source": [
    "2+2==5 or 1+1==2"
   ]
  },
  {
   "cell_type": "code",
   "execution_count": null,
   "metadata": {},
   "outputs": [],
   "source": [
    "2+2==5 and 1+1==2"
   ]
  },
  {
   "cell_type": "code",
   "execution_count": null,
   "metadata": {},
   "outputs": [],
   "source": [
    "not(2+2==5) and 1+1==2"
   ]
  },
  {
   "cell_type": "markdown",
   "metadata": {},
   "source": [
    "## IF 제어문"
   ]
  },
  {
   "cell_type": "code",
   "execution_count": null,
   "metadata": {},
   "outputs": [],
   "source": [
    "x = 3\n",
    "if (x == 1):\n",
    "    print (\"one\")\n",
    "elif (x == 2):\n",
    "    print (\"two\")\n",
    "else:\n",
    "    print (\"many\")"
   ]
  },
  {
   "cell_type": "code",
   "execution_count": null,
   "metadata": {},
   "outputs": [],
   "source": [
    "x=input('enter a number:')\n",
    "x = int(x)\n",
    "if (x == 1):\n",
    "    print (\"one\")\n",
    "elif (x == 2):\n",
    "    print (\"two\")\n",
    "else:\n",
    "    print (\"many\")"
   ]
  },
  {
   "cell_type": "code",
   "execution_count": null,
   "metadata": {},
   "outputs": [],
   "source": [
    "mode =input('Enter a string:') # \"absolute\"\n",
    "if mode == \"canonical\":\n",
    "    smiles = \"canonical1\"\n",
    "elif mode == \"isomeric\":\n",
    "    smiles = \"isomeric1\"\n",
    "elif mode == \"absolute\":\n",
    "    smiles = \"absolute1\"\n",
    "else:\t\t\n",
    "    raise TypeError(\"unknown\") # exception\n",
    "print(\"Mode is \",smiles)"
   ]
  },
  {
   "cell_type": "code",
   "execution_count": null,
   "metadata": {},
   "outputs": [],
   "source": [
    "x = 2; y = 3; L = [0,1,2]\n",
    "if (1<x<=3 and 4>y>=2) or (1==1 or 0!=1) or 1 in L:\n",
    "    print ('Hello world!')"
   ]
  },
  {
   "cell_type": "markdown",
   "metadata": {},
   "source": [
    "## 삼항 연산자"
   ]
  },
  {
   "cell_type": "code",
   "execution_count": null,
   "metadata": {},
   "outputs": [],
   "source": [
    "a=1\n",
    "x = 10 if a > 0 else 20\n",
    "print(x)"
   ]
  },
  {
   "cell_type": "markdown",
   "metadata": {},
   "source": [
    "# Range"
   ]
  },
  {
   "cell_type": "code",
   "execution_count": null,
   "metadata": {},
   "outputs": [],
   "source": [
    "range(10)"
   ]
  },
  {
   "cell_type": "code",
   "execution_count": null,
   "metadata": {},
   "outputs": [],
   "source": [
    "range(0,10,2)"
   ]
  },
  {
   "cell_type": "code",
   "execution_count": null,
   "metadata": {},
   "outputs": [],
   "source": [
    "for i in range(3):\n",
    "    print (i)"
   ]
  },
  {
   "cell_type": "markdown",
   "metadata": {},
   "source": [
    "# For"
   ]
  },
  {
   "cell_type": "code",
   "execution_count": null,
   "metadata": {},
   "outputs": [],
   "source": [
    "a = ['cat', 'window', 'defenestrate']\n",
    "for x in a:\n",
    "  print (x, len(x))"
   ]
  },
  {
   "cell_type": "code",
   "execution_count": null,
   "metadata": {},
   "outputs": [],
   "source": [
    "for name in [\"Mutasem\", \"Micah\", \"Ryan\",\"Cat\"]:\n",
    "    if name[0] == \"M\":\n",
    "        print (name, \"starts with an M\")\n",
    "    elif name[0]=='R':\n",
    "        print (name, \"starts with an R\")\n",
    "    else:\n",
    "        print (name, \"doesn't start with M\")"
   ]
  },
  {
   "cell_type": "code",
   "execution_count": null,
   "metadata": {},
   "outputs": [],
   "source": [
    "s=0\n",
    "for i in range(1,10):\n",
    "    if (i%2==0):\n",
    "        s=s+i\n",
    "        print(i, \" is even\")\n",
    "    elif (i%3==0):\n",
    "        s=s-i\n",
    "        print(i, \" can be divided by 3\")\n",
    "    else:\n",
    "        print(i, \" is odd\")        \n",
    "print(s)"
   ]
  },
  {
   "cell_type": "markdown",
   "metadata": {},
   "source": [
    "### For else"
   ]
  },
  {
   "cell_type": "code",
   "execution_count": 1,
   "metadata": {},
   "outputs": [
    {
     "name": "stdout",
     "output_type": "stream",
     "text": [
      "Checking: 3\n",
      "The square of 3 is 9\n",
      "Checking: 1\n",
      "Ignoring 1\n",
      "Checking: 4\n",
      "The square of 4 is 16\n",
      "Checking: 6\n",
      "Exiting for loop due to 6\n",
      "Finished...\n"
     ]
    }
   ],
   "source": [
    "for value in [3, 1, 4, 6, 5, 9, 2]:\n",
    "    print (\"Checking:\", value)\n",
    "    if value > 5:\n",
    "        print (\"Exiting for loop due to {}\".format(value))\n",
    "        break\n",
    "    elif value < 3:\n",
    "        print (\"Ignoring {}\".format(value))\n",
    "        continue\n",
    "    print (\"The square of {} is {}\".format(value, value**2))\n",
    "print('Finished...')"
   ]
  },
  {
   "cell_type": "code",
   "execution_count": 7,
   "metadata": {},
   "outputs": [
    {
     "name": "stdout",
     "output_type": "stream",
     "text": [
      "I searched but never found 4!\n"
     ]
    }
   ],
   "source": [
    "#when an item isn't found in a list\n",
    "item=4\n",
    "for i in [0,1,2]:\n",
    "    if i == item:\n",
    "        print (\"I found 4!\")\n",
    "        break\n",
    "else:   \n",
    "    print (\"I searched but never found 4!\")"
   ]
  },
  {
   "cell_type": "code",
   "execution_count": 15,
   "metadata": {},
   "outputs": [
    {
     "name": "stdout",
     "output_type": "stream",
     "text": [
      "n 은  3\n",
      "3을(를) 2로 나누면 나머지가 1이다(CONTINUE)\n",
      "!!3는 다음 나오는 수와 관계를 찾을 수 없다\n",
      "n 은  4\n",
      "4은(는) 2의  배수이다(BREAK)\n",
      "n 은  5\n",
      "5을(를) 2로 나누면 나머지가 1이다(CONTINUE)\n",
      "5는 다음 수와 배수나 짝수 관계가 아니다\n",
      "5을(를) 4로 나누면 나머지가 1이다(CONTINUE)\n",
      "!!5는 다음 나오는 수와 관계를 찾을 수 없다\n",
      "n 은  6\n",
      "6은(는) 2의  배수이다(BREAK)\n",
      "n 은  7\n",
      "7을(를) 2로 나누면 나머지가 1이다(CONTINUE)\n",
      "7을(를) 3로 나누면 나머지가 1이다(CONTINUE)\n",
      "7는 다음 수와 배수나 짝수 관계가 아니다\n",
      "7는 다음 수와 배수나 짝수 관계가 아니다\n",
      "7을(를) 6로 나누면 나머지가 1이다(CONTINUE)\n",
      "!!7는 다음 나오는 수와 관계를 찾을 수 없다\n",
      "n 은  8\n",
      "8은(는) 2의  배수이다(BREAK)\n",
      "n 은  9\n",
      "9을(를) 2로 나누면 나머지가 1이다(CONTINUE)\n",
      "9은(는) 3의  배수이다(BREAK)\n"
     ]
    }
   ],
   "source": [
    "for n in range(3,10):\n",
    "    print('n 은 ',n)\n",
    "    for x in range(2,n): \n",
    "        if (n % x == 0):\n",
    "            print('{}은(는) {}의  배수이다(BREAK)'.format(n,x))\n",
    "            break\n",
    "        elif (n % x == 1):\n",
    "            print(\"{}을(를) {}로 나누면 나머지가 1이다(CONTINUE)\".format(n,x))\n",
    "            continue\n",
    "        else:\n",
    "            print('{}는 다음 수와 배수나 짝수 관계가 아니다'.format(n))\n",
    "    else:\n",
    "        print ('!!{}는 다음 나오는 수와 관계를 찾을 수 없다'.format(n))"
   ]
  },
  {
   "cell_type": "code",
   "execution_count": null,
   "metadata": {},
   "outputs": [],
   "source": [
    "for i in [1,2,3]:\n",
    "    if i==0:\n",
    "        print (\"pass %d\" % i)\n",
    "        pass\n",
    "    print (\"I pass\") # will print after pass\n",
    "\n",
    "for i in [4,5,6]:\n",
    "    if i:\n",
    "        print (\"pass %d\" % i)\n",
    "        continue\n",
    "    print (\"I pass\") # will print after pass"
   ]
  },
  {
   "cell_type": "code",
   "execution_count": null,
   "metadata": {},
   "outputs": [],
   "source": [
    "A = [1, 2, 3]\n",
    "B = [4, 5, 6]\n",
    "for (a,b) in zip(A,B):\n",
    "    print (a, \"*\", b, \"=\", a*b)"
   ]
  },
  {
   "cell_type": "code",
   "execution_count": null,
   "metadata": {},
   "outputs": [],
   "source": [
    "data = [ (\"C20H20O3\", 308.371),\n",
    "\t(\"C22H20O2\", 316.393),\n",
    "\t(\"C24H40N4O2\", 416.6),\n",
    "\t(\"C14H25N5O3\", 311.38),\n",
    "\t(\"C15H20O2\", 232.3181)]\n",
    "\n",
    "for (formula, mw) in data:\n",
    "\tprint (\"The molecular weight of {} is {}\".format(formula, mw))"
   ]
  },
  {
   "cell_type": "code",
   "execution_count": null,
   "metadata": {},
   "outputs": [],
   "source": [
    "bookauthors = {'Gone with the Wind': 'Margaret Mitchell',\n",
    "               'Aeneid': 'Virgil',\n",
    "               'Odyssey': 'Homer'}\n",
    "\n",
    "for book in bookauthors:\n",
    "    print(book, 'by', bookauthors[book])"
   ]
  },
  {
   "cell_type": "code",
   "execution_count": null,
   "metadata": {},
   "outputs": [],
   "source": [
    "bookauthors.update({\"Hamlet\": \"Shakespear\", \"Miracle\": \"Lewis\"})\n",
    "for k, v in bookauthors.items():\n",
    "    print(k, v)"
   ]
  },
  {
   "cell_type": "markdown",
   "metadata": {},
   "source": [
    "# While"
   ]
  },
  {
   "cell_type": "code",
   "execution_count": 16,
   "metadata": {},
   "outputs": [
    {
     "name": "stdout",
     "output_type": "stream",
     "text": [
      "1\n",
      "2\n",
      "3\n"
     ]
    }
   ],
   "source": [
    "i=1\n",
    "while (i < 4):\n",
    "    print (i)\n",
    "    i += 1  # i=i+1  "
   ]
  },
  {
   "cell_type": "code",
   "execution_count": 17,
   "metadata": {},
   "outputs": [
    {
     "name": "stdout",
     "output_type": "stream",
     "text": [
      "0\n",
      "1\n",
      "2\n",
      "3\n",
      "4\n",
      "5\n",
      "6\n",
      "7\n",
      "8\n",
      "9\n",
      "10\n"
     ]
    }
   ],
   "source": [
    "num = 0\n",
    "while 1:\n",
    "   print(num)\n",
    "   if num == 10:\n",
    "      break \n",
    "   num += 1"
   ]
  },
  {
   "cell_type": "code",
   "execution_count": 18,
   "metadata": {},
   "outputs": [
    {
     "name": "stdout",
     "output_type": "stream",
     "text": [
      "0 1\n",
      "1 1\n",
      "1 2\n",
      "2 3\n",
      "3 5\n",
      "5 8\n"
     ]
    }
   ],
   "source": [
    "a,b = 0, 1\n",
    "while b < 10:\n",
    "  print (a,b) \n",
    "  # multiple assignment\n",
    "  a,b = b, a+b\n"
   ]
  },
  {
   "cell_type": "code",
   "execution_count": null,
   "metadata": {},
   "outputs": [],
   "source": [
    "n=int(input(\"Enter the number to sum up to:\"))\n",
    "s=0\n",
    "for i in range(n+1):\n",
    "    s=s+i\n",
    "print(s)"
   ]
  },
  {
   "cell_type": "code",
   "execution_count": null,
   "metadata": {},
   "outputs": [],
   "source": [
    "for i in [1,2,3]:\n",
    "    if i:\n",
    "        print (\"pass %d\" % i)\n",
    "        pass\n",
    "    print (\"I pass\") # will print after pass\n"
   ]
  },
  {
   "cell_type": "code",
   "execution_count": null,
   "metadata": {},
   "outputs": [],
   "source": [
    "for i in [4,5,6]:\n",
    "    if i:\n",
    "        print (\"pass %d\" % i)\n",
    "        continue\n",
    "    print (\"I pass\") # will print after pass"
   ]
  },
  {
   "cell_type": "code",
   "execution_count": null,
   "metadata": {},
   "outputs": [],
   "source": []
  }
 ],
 "metadata": {
  "kernelspec": {
   "display_name": "Python 3 (ipykernel)",
   "language": "python",
   "name": "python3"
  },
  "language_info": {
   "codemirror_mode": {
    "name": "ipython",
    "version": 3
   },
   "file_extension": ".py",
   "mimetype": "text/x-python",
   "name": "python",
   "nbconvert_exporter": "python",
   "pygments_lexer": "ipython3",
   "version": "3.10.9"
  }
 },
 "nbformat": 4,
 "nbformat_minor": 4
}

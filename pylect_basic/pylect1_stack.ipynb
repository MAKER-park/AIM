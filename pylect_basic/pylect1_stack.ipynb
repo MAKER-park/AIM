{
 "cells": [
  {
   "cell_type": "code",
   "execution_count": 1,
   "metadata": {
    "tags": []
   },
   "outputs": [
    {
     "ename": "NameError",
     "evalue": "name 'Stack' is not defined",
     "output_type": "error",
     "traceback": [
      "\u001b[0;31m---------------------------------------------------------------------------\u001b[0m",
      "\u001b[0;31mNameError\u001b[0m                                 Traceback (most recent call last)",
      "Cell \u001b[0;32mIn[1], line 1\u001b[0m\n\u001b[0;32m----> 1\u001b[0m x \u001b[38;5;241m=\u001b[39m \u001b[43mStack\u001b[49m()\t\u001b[38;5;66;03m# no 'new' operator!\u001b[39;00m\n\u001b[1;32m      2\u001b[0m x\u001b[38;5;241m.\u001b[39mempty()\t\u001b[38;5;66;03m# -> 1\u001b[39;00m\n\u001b[1;32m      3\u001b[0m x\u001b[38;5;241m.\u001b[39mpush(\u001b[38;5;241m1\u001b[39m)\t\t\t\u001b[38;5;66;03m# [1]\u001b[39;00m\n",
      "\u001b[0;31mNameError\u001b[0m: name 'Stack' is not defined"
     ]
    }
   ],
   "source": [
    "x = Stack()\t# no 'new' operator!\n",
    "x.empty()\t# -> 1\n",
    "x.push(1)\t\t\t# [1]\n",
    "x.empty()\t# -> 0\n",
    "x.push(\"hello\")\t\t\t# [1, \"hello\"]\n",
    "x.pop()\t\t# -> \"hello\"\t# [1]\n",
    "x.items\t\t# -> [1]"
   ]
  },
  {
   "cell_type": "code",
   "execution_count": null,
   "metadata": {},
   "outputs": [],
   "source": []
  }
 ],
 "metadata": {
  "kernelspec": {
   "display_name": "Python 3 (ipykernel)",
   "language": "python",
   "name": "python3"
  },
  "language_info": {
   "codemirror_mode": {
    "name": "ipython",
    "version": 3
   },
   "file_extension": ".py",
   "mimetype": "text/x-python",
   "name": "python",
   "nbconvert_exporter": "python",
   "pygments_lexer": "ipython3",
   "version": "3.10.13"
  }
 },
 "nbformat": 4,
 "nbformat_minor": 4
}

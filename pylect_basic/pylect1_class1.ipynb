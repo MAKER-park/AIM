{
 "cells": [
  {
   "cell_type": "markdown",
   "metadata": {},
   "source": [
    "Myfirst class"
   ]
  },
  {
   "cell_type": "code",
   "execution_count": 1,
   "metadata": {},
   "outputs": [],
   "source": [
    "class MyClass:\n",
    "    \"A simple example class\"\n",
    "    id = 123\n",
    "    def func(self):\n",
    "        return 'hello world:'+str(self.id)\n",
    "    def what_is_id(self):\n",
    "        return self.id    "
   ]
  },
  {
   "cell_type": "code",
   "execution_count": 2,
   "metadata": {},
   "outputs": [],
   "source": [
    "# MyClass.id"
   ]
  },
  {
   "cell_type": "code",
   "execution_count": 3,
   "metadata": {},
   "outputs": [],
   "source": [
    "obj = MyClass()"
   ]
  },
  {
   "cell_type": "code",
   "execution_count": 4,
   "metadata": {},
   "outputs": [
    {
     "data": {
      "text/plain": [
       "123"
      ]
     },
     "execution_count": 4,
     "metadata": {},
     "output_type": "execute_result"
    }
   ],
   "source": [
    "obj.id"
   ]
  },
  {
   "cell_type": "code",
   "execution_count": 5,
   "metadata": {},
   "outputs": [
    {
     "data": {
      "text/plain": [
       "'hello world:123'"
      ]
     },
     "execution_count": 5,
     "metadata": {},
     "output_type": "execute_result"
    }
   ],
   "source": [
    "obj.func()"
   ]
  },
  {
   "cell_type": "code",
   "execution_count": 6,
   "metadata": {},
   "outputs": [
    {
     "data": {
      "text/plain": [
       "123"
      ]
     },
     "execution_count": 6,
     "metadata": {},
     "output_type": "execute_result"
    }
   ],
   "source": [
    "obj.what_is_id()"
   ]
  },
  {
   "cell_type": "code",
   "execution_count": 10,
   "metadata": {},
   "outputs": [],
   "source": [
    "class MyClass:\n",
    "    \"A simple example class\"\n",
    "    id = 123\n",
    "    def __init__(self,myid):\n",
    "        self.id=myid        \n",
    "    def func(self):\n",
    "        return 'hello world:'+str(self.id)\n",
    "    def what_is_id(self):\n",
    "        return self.id  \n",
    "    def print_hi(self):\n",
    "        print(\"Hi\")"
   ]
  },
  {
   "cell_type": "code",
   "execution_count": 11,
   "metadata": {},
   "outputs": [
    {
     "name": "stdout",
     "output_type": "stream",
     "text": [
      "hello world:123\n",
      "hello world:125\n",
      "126\n"
     ]
    }
   ],
   "source": [
    "obj1 = MyClass(124)\n",
    "obj2 = MyClass(125)\n",
    "obj3 = MyClass(126)\n",
    "print(obj1.func())\n",
    "print(obj2.func())\n",
    "print(obj3.what_is_id())"
   ]
  },
  {
   "cell_type": "code",
   "execution_count": null,
   "metadata": {},
   "outputs": [],
   "source": [
    "obj2.what_is_id()\n",
    "obj1.print_hi()"
   ]
  },
  {
   "cell_type": "code",
   "execution_count": null,
   "metadata": {},
   "outputs": [],
   "source": [
    "obj2=MyClass(20)"
   ]
  },
  {
   "cell_type": "code",
   "execution_count": null,
   "metadata": {},
   "outputs": [],
   "source": [
    "obj2.func()"
   ]
  },
  {
   "cell_type": "markdown",
   "metadata": {},
   "source": [
    "Class construction"
   ]
  },
  {
   "cell_type": "code",
   "execution_count": null,
   "metadata": {},
   "outputs": [],
   "source": [
    "class Class1:\n",
    "  data=0\n",
    "  def __init__(self, data=0):\n",
    "    self.data = data\n",
    "\n",
    "  def display(self):\n",
    "    print (\"My data is\",self.data)\n",
    "\n",
    "class Class2(Class1):\n",
    "  parent='smith'\n",
    "  def square(self):\n",
    "    self.data = self.data * self.data\n",
    "    \n",
    "  def display(self):\n",
    "    Class1.display(self) \n",
    "    print (\"My parent is\",self.parent) "
   ]
  },
  {
   "cell_type": "code",
   "execution_count": null,
   "metadata": {},
   "outputs": [],
   "source": [
    "c=Class1(3)\n",
    "c.display()"
   ]
  },
  {
   "cell_type": "code",
   "execution_count": null,
   "metadata": {},
   "outputs": [],
   "source": [
    "a = Class2(5)\n",
    "a.square()  # member function specific to Class2\n",
    "a.display() # inherited member function from Class1"
   ]
  },
  {
   "cell_type": "code",
   "execution_count": null,
   "metadata": {},
   "outputs": [],
   "source": [
    "class MyBaseClass: \n",
    "    \"\"\"A simple base class\"\"\" \n",
    "    name = 'base' \n",
    "    def act(self):\n",
    "        print(\"My Base Class is called\")\n",
    "        return self.name \n",
    "\n",
    "class MyChildClass(MyBaseClass): \n",
    "    \"\"\"A simple inherited class\"\"\" \n",
    "    name = 'child' \n",
    "    def act(self): \n",
    "        print (\"My Child Class is called\")\n",
    "        return self.name"
   ]
  },
  {
   "cell_type": "code",
   "execution_count": null,
   "metadata": {},
   "outputs": [],
   "source": [
    "a=MyBaseClass()\n",
    "b=MyBaseClass()\n",
    "b.name='base1'\n",
    "c=MyChildClass()\n",
    "print(a.act())\n",
    "print(b.act())\n",
    "print(c.act())\n"
   ]
  },
  {
   "cell_type": "code",
   "execution_count": null,
   "metadata": {},
   "outputs": [],
   "source": [
    "class MyBaseClass: \n",
    "    \"\"\"A simple base class\"\"\"\n",
    "    name = 'base'\n",
    "    def act(self):\n",
    "        print(\"My Base Class is called\")\n",
    "        return self.name \n",
    "    \n",
    "class MyChildClass(MyBaseClass): \n",
    "    \"\"\"A simple inherited class\"\"\" \n",
    "    age = 10\n",
    "    name='child'\n",
    "    def yourage(self):\n",
    "        return self.age\n",
    "    \n",
    "    def act(self):\n",
    "        print(\"My Child Class is called\")\n",
    "        return MyBaseClass.act(self)\n",
    "    "
   ]
  },
  {
   "cell_type": "code",
   "execution_count": 12,
   "metadata": {},
   "outputs": [],
   "source": [
    "class MyBaseClass: \n",
    "    \"\"\"A simple base class\"\"\" \n",
    "    name = 'base'\n",
    "    def __init__(self,name='base1'): # 초기자(initializer)\n",
    "        self.name=name\n",
    "        \n",
    "    def act(self): # 메서드\n",
    "        print(\"My Base Class is called\",end=' ')\n",
    "        return self.name\n",
    "     \n",
    "class MyChildClass(MyBaseClass): \n",
    "    \"\"\"A simple inherited class\"\"\" \n",
    "    name = 'child'\n",
    "    age = 10\n",
    "    def __init__(self,name,age=0):\n",
    "        self.age=age\n",
    "        MyBaseClass.__init__(self,name)\n",
    "    \n",
    "    def act(self): \n",
    "        print (\"My Child Class is called\",end=' ')\n",
    "        return MyBaseClass.act(self)\n",
    "    \n",
    "    def yourage(self):\n",
    "        return self.age\n",
    "    \n",
    "    def isadult(self):\n",
    "        if self.age<20: return False\n",
    "        else: return True\n",
    "  "
   ]
  },
  {
   "cell_type": "code",
   "execution_count": 13,
   "metadata": {},
   "outputs": [
    {
     "name": "stdout",
     "output_type": "stream",
     "text": [
      "base\n",
      "child\n"
     ]
    }
   ],
   "source": [
    "print(MyBaseClass.name)\n",
    "print(MyChildClass.name)\n",
    "\n",
    "a=MyBaseClass()\n",
    "b=MyBaseClass('base2')\n",
    "c=MyChildClass('base3',20) # call MyBaseClass\n"
   ]
  },
  {
   "cell_type": "code",
   "execution_count": 15,
   "metadata": {},
   "outputs": [
    {
     "data": {
      "text/plain": [
       "<__main__.MyBaseClass at 0x2e92c8c09a0>"
      ]
     },
     "execution_count": 15,
     "metadata": {},
     "output_type": "execute_result"
    }
   ],
   "source": [
    "b"
   ]
  },
  {
   "cell_type": "code",
   "execution_count": 16,
   "metadata": {},
   "outputs": [
    {
     "name": "stdout",
     "output_type": "stream",
     "text": [
      "My Base Class is called base1\n",
      "My Base Class is called base2\n",
      "My Child Class is called My Base Class is called base3\n"
     ]
    }
   ],
   "source": [
    "print(a.act())\n",
    "print(b.act())\n",
    "print(c.act())"
   ]
  },
  {
   "cell_type": "code",
   "execution_count": 17,
   "metadata": {},
   "outputs": [
    {
     "name": "stdout",
     "output_type": "stream",
     "text": [
      "20\n"
     ]
    }
   ],
   "source": [
    "print(c.yourage())"
   ]
  },
  {
   "cell_type": "code",
   "execution_count": 18,
   "metadata": {},
   "outputs": [
    {
     "name": "stdout",
     "output_type": "stream",
     "text": [
      "35\n",
      "True\n"
     ]
    }
   ],
   "source": [
    "c.age=35\n",
    "print(c.yourage())\n",
    "print(c.isadult())\n",
    "#print(b.isadult()) #error due to no definition\n"
   ]
  },
  {
   "cell_type": "code",
   "execution_count": null,
   "metadata": {},
   "outputs": [],
   "source": [
    "xf=c.act\n",
    "xf()\n",
    "xf1=c.act()"
   ]
  },
  {
   "cell_type": "code",
   "execution_count": null,
   "metadata": {},
   "outputs": [],
   "source": [
    "class BaseClassName: \n",
    "    id=1\n",
    "    member1 = 'xxx'\n",
    "    def func1(self): \n",
    "        pass\n",
    "    def func2(self,x): \n",
    "        self.member1=x\n",
    "\n",
    "class DerivedClassName(BaseClassName): \n",
    "    member2 = 'yyy' \n",
    "    def func2(self,x): \n",
    "        BaseClassName.func2(self,x)\n",
    "    def func3(self): \n",
    "        pass\n",
    "    def func4(self,x): \n",
    "        print(self.x)"
   ]
  },
  {
   "cell_type": "code",
   "execution_count": null,
   "metadata": {},
   "outputs": [],
   "source": [
    "a=DerivedClassName()\n",
    "a.func2(3)"
   ]
  },
  {
   "cell_type": "code",
   "execution_count": null,
   "metadata": {},
   "outputs": [],
   "source": []
  },
  {
   "cell_type": "code",
   "execution_count": null,
   "metadata": {},
   "outputs": [],
   "source": [
    "class Employee:\n",
    "    pass\n",
    "\n",
    "john = Employee()\n",
    "john.name = 'John Doe'\n",
    "john.dept = 'CS'\n",
    "john.salary = 1000"
   ]
  }
 ],
 "metadata": {
  "kernelspec": {
   "display_name": "Python 3 (ipykernel)",
   "language": "python",
   "name": "python3"
  },
  "language_info": {
   "codemirror_mode": {
    "name": "ipython",
    "version": 3
   },
   "file_extension": ".py",
   "mimetype": "text/x-python",
   "name": "python",
   "nbconvert_exporter": "python",
   "pygments_lexer": "ipython3",
   "version": "3.10.9"
  }
 },
 "nbformat": 4,
 "nbformat_minor": 4
}
